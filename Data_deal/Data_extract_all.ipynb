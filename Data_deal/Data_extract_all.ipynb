{
 "cells": [
  {
   "cell_type": "code",
   "execution_count": 2,
   "metadata": {
    "collapsed": true
   },
   "outputs": [],
   "source": [
    "import pandas as pd\n",
    "import numpy as np"
   ]
  },
  {
   "cell_type": "code",
   "execution_count": 93,
   "outputs": [
    {
     "data": {
      "text/plain": "        patientunitstayid  labresultoffset labresulttext labmeasurenamesystem  \\\n0                  141203                1          0.56                mg/dL   \n1                  141203                1           100                    %   \n2                  141203                1           107               mmol/L   \n3                  141203                1          12.7                K/mcL   \n4                  141203                1           145                mg/dL   \n...                   ...              ...           ...                  ...   \n209162            3353216               16           100                    %   \n209163            3353216               16          20.0               mmol/L   \n209164            3353216               16         226.0                mm Hg   \n209165            3353216               16          53.1                mm Hg   \n209166            3353216               16         7.185                  NaN   \n\n           labname  \n0       creatinine  \n1             FiO2  \n2         chloride  \n3       WBC x 1000  \n4          glucose  \n...            ...  \n209162        FiO2  \n209163        HCO3  \n209164        paO2  \n209165       paCO2  \n209166          pH  \n\n[209167 rows x 5 columns]",
      "text/html": "<div>\n<style scoped>\n    .dataframe tbody tr th:only-of-type {\n        vertical-align: middle;\n    }\n\n    .dataframe tbody tr th {\n        vertical-align: top;\n    }\n\n    .dataframe thead th {\n        text-align: right;\n    }\n</style>\n<table border=\"1\" class=\"dataframe\">\n  <thead>\n    <tr style=\"text-align: right;\">\n      <th></th>\n      <th>patientunitstayid</th>\n      <th>labresultoffset</th>\n      <th>labresulttext</th>\n      <th>labmeasurenamesystem</th>\n      <th>labname</th>\n    </tr>\n  </thead>\n  <tbody>\n    <tr>\n      <th>0</th>\n      <td>141203</td>\n      <td>1</td>\n      <td>0.56</td>\n      <td>mg/dL</td>\n      <td>creatinine</td>\n    </tr>\n    <tr>\n      <th>1</th>\n      <td>141203</td>\n      <td>1</td>\n      <td>100</td>\n      <td>%</td>\n      <td>FiO2</td>\n    </tr>\n    <tr>\n      <th>2</th>\n      <td>141203</td>\n      <td>1</td>\n      <td>107</td>\n      <td>mmol/L</td>\n      <td>chloride</td>\n    </tr>\n    <tr>\n      <th>3</th>\n      <td>141203</td>\n      <td>1</td>\n      <td>12.7</td>\n      <td>K/mcL</td>\n      <td>WBC x 1000</td>\n    </tr>\n    <tr>\n      <th>4</th>\n      <td>141203</td>\n      <td>1</td>\n      <td>145</td>\n      <td>mg/dL</td>\n      <td>glucose</td>\n    </tr>\n    <tr>\n      <th>...</th>\n      <td>...</td>\n      <td>...</td>\n      <td>...</td>\n      <td>...</td>\n      <td>...</td>\n    </tr>\n    <tr>\n      <th>209162</th>\n      <td>3353216</td>\n      <td>16</td>\n      <td>100</td>\n      <td>%</td>\n      <td>FiO2</td>\n    </tr>\n    <tr>\n      <th>209163</th>\n      <td>3353216</td>\n      <td>16</td>\n      <td>20.0</td>\n      <td>mmol/L</td>\n      <td>HCO3</td>\n    </tr>\n    <tr>\n      <th>209164</th>\n      <td>3353216</td>\n      <td>16</td>\n      <td>226.0</td>\n      <td>mm Hg</td>\n      <td>paO2</td>\n    </tr>\n    <tr>\n      <th>209165</th>\n      <td>3353216</td>\n      <td>16</td>\n      <td>53.1</td>\n      <td>mm Hg</td>\n      <td>paCO2</td>\n    </tr>\n    <tr>\n      <th>209166</th>\n      <td>3353216</td>\n      <td>16</td>\n      <td>7.185</td>\n      <td>NaN</td>\n      <td>pH</td>\n    </tr>\n  </tbody>\n</table>\n<p>209167 rows × 5 columns</p>\n</div>"
     },
     "execution_count": 93,
     "metadata": {},
     "output_type": "execute_result"
    }
   ],
   "source": [
    "lab_ectract=pd.read_csv(\"F:\\TrainTest\\EICU\\Data\\lab_extract.csv\")\n",
    "lab_ectract"
   ],
   "metadata": {
    "collapsed": false
   }
  },
  {
   "cell_type": "code",
   "execution_count": 100,
   "outputs": [
    {
     "name": "stdout",
     "output_type": "stream",
     "text": [
      "<class 'pandas.core.frame.DataFrame'>\n",
      "RangeIndex: 43065 entries, 0 to 43064\n",
      "Data columns (total 46 columns):\n",
      " #   Column                        Non-Null Count  Dtype \n",
      "---  ------                        --------------  ----- \n",
      " 0   patientunitstayid             43065 non-null  int64 \n",
      " 1   -lymphs                       4145 non-null   object\n",
      " 2   24 h urine protein            27 non-null     object\n",
      " 3   24 h urine urea nitrogen      1 non-null      object\n",
      " 4   ALT (SGPT)                    3463 non-null   object\n",
      " 5   Acetaminophen                 91 non-null     object\n",
      " 6   BUN                           9071 non-null   object\n",
      " 7   FiO2                          17153 non-null  object\n",
      " 8   HCO3                          8298 non-null   object\n",
      " 9   Hct                           10840 non-null  object\n",
      " 10  LPM O2                        847 non-null    object\n",
      " 11  PT                            5795 non-null   object\n",
      " 12  PT - INR                      6098 non-null   object\n",
      " 13  PTT                           5153 non-null   object\n",
      " 14  PTT ratio                     264 non-null    object\n",
      " 15  Phenobarbital                 3 non-null      object\n",
      " 16  Phenytoin                     25 non-null     object\n",
      " 17  Theophylline                  6 non-null      object\n",
      " 18  WBC x 1000                    9415 non-null   object\n",
      " 19  WBC's in body fluid           10 non-null     object\n",
      " 20  WBC's in cerebrospinal fluid  7 non-null      object\n",
      " 21  WBC's in peritoneal fluid     2 non-null      object\n",
      " 22  WBC's in urine                278 non-null    object\n",
      " 23  albumin                       3726 non-null   object\n",
      " 24  alkaline phos.                3350 non-null   object\n",
      " 25  bedside glucose               20087 non-null  object\n",
      " 26  chloride                      9133 non-null   object\n",
      " 27  creatinine                    9140 non-null   object\n",
      " 28  direct bilirubin              606 non-null    object\n",
      " 29  glucose                       10080 non-null  object\n",
      " 30  glucose - CSF                 14 non-null     object\n",
      " 31  haptoglobin                   27 non-null     object\n",
      " 32  pH                            8900 non-null   object\n",
      " 33  paCO2                         8944 non-null   object\n",
      " 34  paO2                          9067 non-null   object\n",
      " 35  phosphate                     3051 non-null   object\n",
      " 36  platelets x 1000              9559 non-null   object\n",
      " 37  potassium                     11629 non-null  object\n",
      " 38  prealbumin                    66 non-null     object\n",
      " 39  sodium                        10988 non-null  object\n",
      " 40  total bilirubin               3513 non-null   object\n",
      " 41  uric acid                     125 non-null    object\n",
      " 42  urinary creatinine            111 non-null    object\n",
      " 43  urinary osmolality            98 non-null     object\n",
      " 44  urinary sodium                178 non-null    object\n",
      " 45  urinary specific gravity      1563 non-null   object\n",
      "dtypes: int64(1), object(45)\n",
      "memory usage: 15.1+ MB\n"
     ]
    }
   ],
   "source": [
    "import pandas as pd\n",
    "\n",
    "# 假设 df 是您的 DataFrame，包含 id、labname 和 labtxt 列\n",
    "# 使用 pivot_table 进行变换\n",
    "lab_ectract_t = pd.pivot_table(lab_ectract, values='labresulttext', index='patientunitstayid', columns='labname', aggfunc='first')\n",
    "\n",
    "# 如果需要重置索引，可以使用 reset_index() 方法\n",
    "lab_ectract_t.reset_index(inplace=True)\n",
    "\n",
    "lab_ectract_t.info()\n",
    "lab_ectract_t.to_csv(\"F:\\TrainTest\\EICU\\Data\\lab_ectract_t.csv\")"
   ],
   "metadata": {
    "collapsed": false
   }
  },
  {
   "cell_type": "code",
   "execution_count": 17,
   "outputs": [
    {
     "data": {
      "text/plain": "        Unnamed: 0  apacheapsvarid  patientunitstayid      urine  heartrate  \\\n0                0               2             141168    -1.0000        140   \n1                1         2399659             141178    -1.0000         88   \n2                2          167885             141194    -1.0000        118   \n3                3           70691             141197    -1.0000        104   \n4                4         2279689             141203    -1.0000        120   \n...            ...             ...                ...        ...        ...   \n171172      171172         1325400            3353235  1751.1552        106   \n171173      171173         1528627            3353237  5724.7776        112   \n171174      171174         1546299            3353251   358.9920        104   \n171175      171175         2085296            3353254  2171.6640         83   \n171176      171176         1404922            3353263    -1.0000         97   \n\n         wbc  temperature  sodium  creatinine  albumin  ...   bun  bilirubin  \\\n0       14.7         36.1   139.0        2.30      3.1  ...  27.0        4.1   \n1       -1.0         36.4    -1.0       -1.00     -1.0  ...  -1.0       -1.0   \n2       14.1         39.3   134.0        2.51      2.3  ...  31.0        0.4   \n3       -1.0         -1.0    -1.0       -1.00     -1.0  ...  -1.0       -1.0   \n4       12.7         35.1   145.0        0.56     -1.0  ...   9.0       -1.0   \n...      ...          ...     ...         ...      ...  ...   ...        ...   \n171172  -1.0         36.2    -1.0       -1.00     -1.0  ...  -1.0       -1.0   \n171173   9.5         36.4   140.0        1.07      3.5  ...  32.0        0.7   \n171174  -1.0         32.9   142.0        2.43     -1.0  ...  30.0       -1.0   \n171175  -1.0         35.5    -1.0       -1.00     -1.0  ...  -1.0       -1.0   \n171176  -1.0         37.1    -1.0       -1.00     -1.0  ...  -1.0       -1.0   \n\n         fio2     ph  dialysis  sodium.1  hematocrit  glucose  \\\n0        -1.0 -1.000         0     139.0        40.1     95.0   \n1        -1.0 -1.000         0      -1.0        -1.0     -1.0   \n2        -1.0 -1.000         0     134.0        27.4    168.0   \n3        -1.0 -1.000         0      -1.0        -1.0     -1.0   \n4       100.0  7.450         0     145.0        36.9    145.0   \n...       ...    ...       ...       ...         ...      ...   \n171172   -1.0 -1.000         0      -1.0        -1.0     -1.0   \n171173   -1.0 -1.000         0     140.0        39.0    139.0   \n171174  100.0  7.224         0     142.0        -1.0    346.0   \n171175   -1.0 -1.000         0      -1.0        32.0    137.0   \n171176   -1.0 -1.000         0      -1.0        -1.0     -1.0   \n\n        respiratoryrate  vent  \n0                  30.0     0  \n1                  16.0     0  \n2                  36.0     0  \n3                  25.0     0  \n4                  33.0     1  \n...                 ...   ...  \n171172             50.0     0  \n171173             42.0     0  \n171174             34.0     1  \n171175             31.0     0  \n171176             57.0     0  \n\n[171177 rows x 21 columns]",
      "text/html": "<div>\n<style scoped>\n    .dataframe tbody tr th:only-of-type {\n        vertical-align: middle;\n    }\n\n    .dataframe tbody tr th {\n        vertical-align: top;\n    }\n\n    .dataframe thead th {\n        text-align: right;\n    }\n</style>\n<table border=\"1\" class=\"dataframe\">\n  <thead>\n    <tr style=\"text-align: right;\">\n      <th></th>\n      <th>Unnamed: 0</th>\n      <th>apacheapsvarid</th>\n      <th>patientunitstayid</th>\n      <th>urine</th>\n      <th>heartrate</th>\n      <th>wbc</th>\n      <th>temperature</th>\n      <th>sodium</th>\n      <th>creatinine</th>\n      <th>albumin</th>\n      <th>...</th>\n      <th>bun</th>\n      <th>bilirubin</th>\n      <th>fio2</th>\n      <th>ph</th>\n      <th>dialysis</th>\n      <th>sodium.1</th>\n      <th>hematocrit</th>\n      <th>glucose</th>\n      <th>respiratoryrate</th>\n      <th>vent</th>\n    </tr>\n  </thead>\n  <tbody>\n    <tr>\n      <th>0</th>\n      <td>0</td>\n      <td>2</td>\n      <td>141168</td>\n      <td>-1.0000</td>\n      <td>140</td>\n      <td>14.7</td>\n      <td>36.1</td>\n      <td>139.0</td>\n      <td>2.30</td>\n      <td>3.1</td>\n      <td>...</td>\n      <td>27.0</td>\n      <td>4.1</td>\n      <td>-1.0</td>\n      <td>-1.000</td>\n      <td>0</td>\n      <td>139.0</td>\n      <td>40.1</td>\n      <td>95.0</td>\n      <td>30.0</td>\n      <td>0</td>\n    </tr>\n    <tr>\n      <th>1</th>\n      <td>1</td>\n      <td>2399659</td>\n      <td>141178</td>\n      <td>-1.0000</td>\n      <td>88</td>\n      <td>-1.0</td>\n      <td>36.4</td>\n      <td>-1.0</td>\n      <td>-1.00</td>\n      <td>-1.0</td>\n      <td>...</td>\n      <td>-1.0</td>\n      <td>-1.0</td>\n      <td>-1.0</td>\n      <td>-1.000</td>\n      <td>0</td>\n      <td>-1.0</td>\n      <td>-1.0</td>\n      <td>-1.0</td>\n      <td>16.0</td>\n      <td>0</td>\n    </tr>\n    <tr>\n      <th>2</th>\n      <td>2</td>\n      <td>167885</td>\n      <td>141194</td>\n      <td>-1.0000</td>\n      <td>118</td>\n      <td>14.1</td>\n      <td>39.3</td>\n      <td>134.0</td>\n      <td>2.51</td>\n      <td>2.3</td>\n      <td>...</td>\n      <td>31.0</td>\n      <td>0.4</td>\n      <td>-1.0</td>\n      <td>-1.000</td>\n      <td>0</td>\n      <td>134.0</td>\n      <td>27.4</td>\n      <td>168.0</td>\n      <td>36.0</td>\n      <td>0</td>\n    </tr>\n    <tr>\n      <th>3</th>\n      <td>3</td>\n      <td>70691</td>\n      <td>141197</td>\n      <td>-1.0000</td>\n      <td>104</td>\n      <td>-1.0</td>\n      <td>-1.0</td>\n      <td>-1.0</td>\n      <td>-1.00</td>\n      <td>-1.0</td>\n      <td>...</td>\n      <td>-1.0</td>\n      <td>-1.0</td>\n      <td>-1.0</td>\n      <td>-1.000</td>\n      <td>0</td>\n      <td>-1.0</td>\n      <td>-1.0</td>\n      <td>-1.0</td>\n      <td>25.0</td>\n      <td>0</td>\n    </tr>\n    <tr>\n      <th>4</th>\n      <td>4</td>\n      <td>2279689</td>\n      <td>141203</td>\n      <td>-1.0000</td>\n      <td>120</td>\n      <td>12.7</td>\n      <td>35.1</td>\n      <td>145.0</td>\n      <td>0.56</td>\n      <td>-1.0</td>\n      <td>...</td>\n      <td>9.0</td>\n      <td>-1.0</td>\n      <td>100.0</td>\n      <td>7.450</td>\n      <td>0</td>\n      <td>145.0</td>\n      <td>36.9</td>\n      <td>145.0</td>\n      <td>33.0</td>\n      <td>1</td>\n    </tr>\n    <tr>\n      <th>...</th>\n      <td>...</td>\n      <td>...</td>\n      <td>...</td>\n      <td>...</td>\n      <td>...</td>\n      <td>...</td>\n      <td>...</td>\n      <td>...</td>\n      <td>...</td>\n      <td>...</td>\n      <td>...</td>\n      <td>...</td>\n      <td>...</td>\n      <td>...</td>\n      <td>...</td>\n      <td>...</td>\n      <td>...</td>\n      <td>...</td>\n      <td>...</td>\n      <td>...</td>\n      <td>...</td>\n    </tr>\n    <tr>\n      <th>171172</th>\n      <td>171172</td>\n      <td>1325400</td>\n      <td>3353235</td>\n      <td>1751.1552</td>\n      <td>106</td>\n      <td>-1.0</td>\n      <td>36.2</td>\n      <td>-1.0</td>\n      <td>-1.00</td>\n      <td>-1.0</td>\n      <td>...</td>\n      <td>-1.0</td>\n      <td>-1.0</td>\n      <td>-1.0</td>\n      <td>-1.000</td>\n      <td>0</td>\n      <td>-1.0</td>\n      <td>-1.0</td>\n      <td>-1.0</td>\n      <td>50.0</td>\n      <td>0</td>\n    </tr>\n    <tr>\n      <th>171173</th>\n      <td>171173</td>\n      <td>1528627</td>\n      <td>3353237</td>\n      <td>5724.7776</td>\n      <td>112</td>\n      <td>9.5</td>\n      <td>36.4</td>\n      <td>140.0</td>\n      <td>1.07</td>\n      <td>3.5</td>\n      <td>...</td>\n      <td>32.0</td>\n      <td>0.7</td>\n      <td>-1.0</td>\n      <td>-1.000</td>\n      <td>0</td>\n      <td>140.0</td>\n      <td>39.0</td>\n      <td>139.0</td>\n      <td>42.0</td>\n      <td>0</td>\n    </tr>\n    <tr>\n      <th>171174</th>\n      <td>171174</td>\n      <td>1546299</td>\n      <td>3353251</td>\n      <td>358.9920</td>\n      <td>104</td>\n      <td>-1.0</td>\n      <td>32.9</td>\n      <td>142.0</td>\n      <td>2.43</td>\n      <td>-1.0</td>\n      <td>...</td>\n      <td>30.0</td>\n      <td>-1.0</td>\n      <td>100.0</td>\n      <td>7.224</td>\n      <td>0</td>\n      <td>142.0</td>\n      <td>-1.0</td>\n      <td>346.0</td>\n      <td>34.0</td>\n      <td>1</td>\n    </tr>\n    <tr>\n      <th>171175</th>\n      <td>171175</td>\n      <td>2085296</td>\n      <td>3353254</td>\n      <td>2171.6640</td>\n      <td>83</td>\n      <td>-1.0</td>\n      <td>35.5</td>\n      <td>-1.0</td>\n      <td>-1.00</td>\n      <td>-1.0</td>\n      <td>...</td>\n      <td>-1.0</td>\n      <td>-1.0</td>\n      <td>-1.0</td>\n      <td>-1.000</td>\n      <td>0</td>\n      <td>-1.0</td>\n      <td>32.0</td>\n      <td>137.0</td>\n      <td>31.0</td>\n      <td>0</td>\n    </tr>\n    <tr>\n      <th>171176</th>\n      <td>171176</td>\n      <td>1404922</td>\n      <td>3353263</td>\n      <td>-1.0000</td>\n      <td>97</td>\n      <td>-1.0</td>\n      <td>37.1</td>\n      <td>-1.0</td>\n      <td>-1.00</td>\n      <td>-1.0</td>\n      <td>...</td>\n      <td>-1.0</td>\n      <td>-1.0</td>\n      <td>-1.0</td>\n      <td>-1.000</td>\n      <td>0</td>\n      <td>-1.0</td>\n      <td>-1.0</td>\n      <td>-1.0</td>\n      <td>57.0</td>\n      <td>0</td>\n    </tr>\n  </tbody>\n</table>\n<p>171177 rows × 21 columns</p>\n</div>"
     },
     "execution_count": 17,
     "metadata": {},
     "output_type": "execute_result"
    }
   ],
   "source": [
    "lab_pa=pd.read_csv(\"F:\\\\TrainTest\\\\EICU\\\\Data\\\\apacheApsVar_extract\")\n",
    "lab_pa"
   ],
   "metadata": {
    "collapsed": false
   }
  },
  {
   "cell_type": "code",
   "execution_count": 14,
   "outputs": [
    {
     "name": "stdout",
     "output_type": "stream",
     "text": [
      "<class 'pandas.core.frame.DataFrame'>\n",
      "RangeIndex: 171177 entries, 0 to 171176\n",
      "Data columns (total 21 columns):\n",
      " #   Column             Non-Null Count   Dtype  \n",
      "---  ------             --------------   -----  \n",
      " 0   Unnamed: 0         171177 non-null  int64  \n",
      " 1   apacheapsvarid     171177 non-null  int64  \n",
      " 2   patientunitstayid  171177 non-null  int64  \n",
      " 3   urine              171177 non-null  float64\n",
      " 4   heartrate          171177 non-null  int64  \n",
      " 5   wbc                171177 non-null  float64\n",
      " 6   temperature        171177 non-null  float64\n",
      " 7   sodium             171177 non-null  float64\n",
      " 8   creatinine         171177 non-null  float64\n",
      " 9   albumin            171177 non-null  float64\n",
      " 10  pco2               171177 non-null  float64\n",
      " 11  bun                171177 non-null  float64\n",
      " 12  bilirubin          171177 non-null  float64\n",
      " 13  fio2               171177 non-null  float64\n",
      " 14  ph                 171177 non-null  float64\n",
      " 15  dialysis           171177 non-null  int64  \n",
      " 16  sodium.1           171177 non-null  float64\n",
      " 17  hematocrit         171177 non-null  float64\n",
      " 18  glucose            171177 non-null  float64\n",
      " 19  respiratoryrate    171177 non-null  float64\n",
      " 20  vent               171177 non-null  int64  \n",
      "dtypes: float64(15), int64(6)\n",
      "memory usage: 27.4 MB\n"
     ]
    }
   ],
   "source": [
    "lab_pa.info()"
   ],
   "metadata": {
    "collapsed": false
   }
  },
  {
   "cell_type": "code",
   "execution_count": 106,
   "outputs": [
    {
     "name": "stderr",
     "output_type": "stream",
     "text": [
      "E:\\Anaconda\\envs\\acative\\lib\\site-packages\\IPython\\core\\interactiveshell.py:3457: DtypeWarning: Columns (9,10,11,15,16,17,19,21,24,28,30,33,38,39,40,41,42) have mixed types.Specify dtype option on import or set low_memory=False.\n",
      "  exec(code_obj, self.user_global_ns, self.user_ns)\n"
     ]
    },
    {
     "data": {
      "text/plain": "       Unnamed: 0  patientunitstayid  -lymphs  24 h urine protein  \\\n0               0             141203     20.0                 NaN   \n1               1             141276      NaN                 NaN   \n2               2             141296      NaN                 NaN   \n3               3             141313     16.0                 NaN   \n4               4             141328      NaN                 NaN   \n...           ...                ...      ...                 ...   \n41796       43060            3353121      NaN                 NaN   \n41797       43061            3353197      NaN                 NaN   \n41798       43062            3353198      NaN                 NaN   \n41799       43063            3353200      NaN                 NaN   \n41800       43064            3353216      NaN                 NaN   \n\n       24 h urine urea nitrogen ALT (SGPT) Acetaminophen  BUN FiO2  HCO3  ...  \\\n0                           NaN        NaN           NaN    9  100    25  ...   \n1                           NaN        NaN           NaN  NaN  100    28  ...   \n2                           NaN        NaN           NaN  NaN   21    27  ...   \n3                           NaN         57           NaN   15  100    20  ...   \n4                           NaN        NaN           NaN  NaN  NaN   NaN  ...   \n...                         ...        ...           ...  ...  ...   ...  ...   \n41796                       NaN        NaN           NaN  NaN  NaN   NaN  ...   \n41797                       NaN        NaN           NaN   19  100  24.2  ...   \n41798                       NaN        NaN           NaN  NaN  NaN   NaN  ...   \n41799                       NaN        NaN           NaN  NaN   30  27.8  ...   \n41800                       NaN        NaN           NaN  NaN  100  20.0  ...   \n\n      urinary creatinine urinary osmolality urinary sodium  \\\n0                    NaN                NaN            NaN   \n1                    NaN                NaN            NaN   \n2                    NaN                NaN            NaN   \n3                    NaN                NaN            NaN   \n4                    NaN                NaN            NaN   \n...                  ...                ...            ...   \n41796                NaN                NaN            NaN   \n41797                NaN                NaN            NaN   \n41798                NaN                NaN            NaN   \n41799                NaN                NaN            NaN   \n41800                NaN                NaN            NaN   \n\n      urinary specific gravity   age         ethnicity  \\\n0                          NaN  77.0         Caucasian   \n1                          NaN  59.0         Caucasian   \n2                          NaN  63.0         Caucasian   \n3                          NaN  45.0         Caucasian   \n4                          NaN  76.0  African American   \n...                        ...   ...               ...   \n41796                      NaN  77.0         Caucasian   \n41797                      NaN  66.0         Caucasian   \n41798                      NaN  66.0         Caucasian   \n41799                      NaN  66.0         Caucasian   \n41800                      NaN  50.0  African American   \n\n                                       apacheadmissiondx gender_numeric  \\\n0           Arrest, respiratory (without cardiac arrest)            0.0   \n1           Arrest, respiratory (without cardiac arrest)            0.0   \n2      Hypovolemia (including dehydration, Do not inc...            1.0   \n3                            Aneurysm, dissecting aortic            1.0   \n4                          CHF, congestive heart failure            0.0   \n...                                                  ...            ...   \n41796                  Infarction, acute myocardial (MI)            0.0   \n41797                 CABG with aortic valve replacement            0.0   \n41798  Coma/change in level of consciousness (for hep...            0.0   \n41799  Hypovolemia (including dehydration, Do not inc...            0.0   \n41800                          Cystectomy, other reasons            0.0   \n\n       death_numeric icu_los_hours_less_than_24  \n0                0.0                          0  \n1                0.0                          0  \n2                1.0                          0  \n3                1.0                          1  \n4                0.0                          1  \n...              ...                        ...  \n41796            0.0                          1  \n41797            0.0                          0  \n41798            0.0                          0  \n41799            0.0                          0  \n41800            0.0                          0  \n\n[41801 rows x 53 columns]",
      "text/html": "<div>\n<style scoped>\n    .dataframe tbody tr th:only-of-type {\n        vertical-align: middle;\n    }\n\n    .dataframe tbody tr th {\n        vertical-align: top;\n    }\n\n    .dataframe thead th {\n        text-align: right;\n    }\n</style>\n<table border=\"1\" class=\"dataframe\">\n  <thead>\n    <tr style=\"text-align: right;\">\n      <th></th>\n      <th>Unnamed: 0</th>\n      <th>patientunitstayid</th>\n      <th>-lymphs</th>\n      <th>24 h urine protein</th>\n      <th>24 h urine urea nitrogen</th>\n      <th>ALT (SGPT)</th>\n      <th>Acetaminophen</th>\n      <th>BUN</th>\n      <th>FiO2</th>\n      <th>HCO3</th>\n      <th>...</th>\n      <th>urinary creatinine</th>\n      <th>urinary osmolality</th>\n      <th>urinary sodium</th>\n      <th>urinary specific gravity</th>\n      <th>age</th>\n      <th>ethnicity</th>\n      <th>apacheadmissiondx</th>\n      <th>gender_numeric</th>\n      <th>death_numeric</th>\n      <th>icu_los_hours_less_than_24</th>\n    </tr>\n  </thead>\n  <tbody>\n    <tr>\n      <th>0</th>\n      <td>0</td>\n      <td>141203</td>\n      <td>20.0</td>\n      <td>NaN</td>\n      <td>NaN</td>\n      <td>NaN</td>\n      <td>NaN</td>\n      <td>9</td>\n      <td>100</td>\n      <td>25</td>\n      <td>...</td>\n      <td>NaN</td>\n      <td>NaN</td>\n      <td>NaN</td>\n      <td>NaN</td>\n      <td>77.0</td>\n      <td>Caucasian</td>\n      <td>Arrest, respiratory (without cardiac arrest)</td>\n      <td>0.0</td>\n      <td>0.0</td>\n      <td>0</td>\n    </tr>\n    <tr>\n      <th>1</th>\n      <td>1</td>\n      <td>141276</td>\n      <td>NaN</td>\n      <td>NaN</td>\n      <td>NaN</td>\n      <td>NaN</td>\n      <td>NaN</td>\n      <td>NaN</td>\n      <td>100</td>\n      <td>28</td>\n      <td>...</td>\n      <td>NaN</td>\n      <td>NaN</td>\n      <td>NaN</td>\n      <td>NaN</td>\n      <td>59.0</td>\n      <td>Caucasian</td>\n      <td>Arrest, respiratory (without cardiac arrest)</td>\n      <td>0.0</td>\n      <td>0.0</td>\n      <td>0</td>\n    </tr>\n    <tr>\n      <th>2</th>\n      <td>2</td>\n      <td>141296</td>\n      <td>NaN</td>\n      <td>NaN</td>\n      <td>NaN</td>\n      <td>NaN</td>\n      <td>NaN</td>\n      <td>NaN</td>\n      <td>21</td>\n      <td>27</td>\n      <td>...</td>\n      <td>NaN</td>\n      <td>NaN</td>\n      <td>NaN</td>\n      <td>NaN</td>\n      <td>63.0</td>\n      <td>Caucasian</td>\n      <td>Hypovolemia (including dehydration, Do not inc...</td>\n      <td>1.0</td>\n      <td>1.0</td>\n      <td>0</td>\n    </tr>\n    <tr>\n      <th>3</th>\n      <td>3</td>\n      <td>141313</td>\n      <td>16.0</td>\n      <td>NaN</td>\n      <td>NaN</td>\n      <td>57</td>\n      <td>NaN</td>\n      <td>15</td>\n      <td>100</td>\n      <td>20</td>\n      <td>...</td>\n      <td>NaN</td>\n      <td>NaN</td>\n      <td>NaN</td>\n      <td>NaN</td>\n      <td>45.0</td>\n      <td>Caucasian</td>\n      <td>Aneurysm, dissecting aortic</td>\n      <td>1.0</td>\n      <td>1.0</td>\n      <td>1</td>\n    </tr>\n    <tr>\n      <th>4</th>\n      <td>4</td>\n      <td>141328</td>\n      <td>NaN</td>\n      <td>NaN</td>\n      <td>NaN</td>\n      <td>NaN</td>\n      <td>NaN</td>\n      <td>NaN</td>\n      <td>NaN</td>\n      <td>NaN</td>\n      <td>...</td>\n      <td>NaN</td>\n      <td>NaN</td>\n      <td>NaN</td>\n      <td>NaN</td>\n      <td>76.0</td>\n      <td>African American</td>\n      <td>CHF, congestive heart failure</td>\n      <td>0.0</td>\n      <td>0.0</td>\n      <td>1</td>\n    </tr>\n    <tr>\n      <th>...</th>\n      <td>...</td>\n      <td>...</td>\n      <td>...</td>\n      <td>...</td>\n      <td>...</td>\n      <td>...</td>\n      <td>...</td>\n      <td>...</td>\n      <td>...</td>\n      <td>...</td>\n      <td>...</td>\n      <td>...</td>\n      <td>...</td>\n      <td>...</td>\n      <td>...</td>\n      <td>...</td>\n      <td>...</td>\n      <td>...</td>\n      <td>...</td>\n      <td>...</td>\n      <td>...</td>\n    </tr>\n    <tr>\n      <th>41796</th>\n      <td>43060</td>\n      <td>3353121</td>\n      <td>NaN</td>\n      <td>NaN</td>\n      <td>NaN</td>\n      <td>NaN</td>\n      <td>NaN</td>\n      <td>NaN</td>\n      <td>NaN</td>\n      <td>NaN</td>\n      <td>...</td>\n      <td>NaN</td>\n      <td>NaN</td>\n      <td>NaN</td>\n      <td>NaN</td>\n      <td>77.0</td>\n      <td>Caucasian</td>\n      <td>Infarction, acute myocardial (MI)</td>\n      <td>0.0</td>\n      <td>0.0</td>\n      <td>1</td>\n    </tr>\n    <tr>\n      <th>41797</th>\n      <td>43061</td>\n      <td>3353197</td>\n      <td>NaN</td>\n      <td>NaN</td>\n      <td>NaN</td>\n      <td>NaN</td>\n      <td>NaN</td>\n      <td>19</td>\n      <td>100</td>\n      <td>24.2</td>\n      <td>...</td>\n      <td>NaN</td>\n      <td>NaN</td>\n      <td>NaN</td>\n      <td>NaN</td>\n      <td>66.0</td>\n      <td>Caucasian</td>\n      <td>CABG with aortic valve replacement</td>\n      <td>0.0</td>\n      <td>0.0</td>\n      <td>0</td>\n    </tr>\n    <tr>\n      <th>41798</th>\n      <td>43062</td>\n      <td>3353198</td>\n      <td>NaN</td>\n      <td>NaN</td>\n      <td>NaN</td>\n      <td>NaN</td>\n      <td>NaN</td>\n      <td>NaN</td>\n      <td>NaN</td>\n      <td>NaN</td>\n      <td>...</td>\n      <td>NaN</td>\n      <td>NaN</td>\n      <td>NaN</td>\n      <td>NaN</td>\n      <td>66.0</td>\n      <td>Caucasian</td>\n      <td>Coma/change in level of consciousness (for hep...</td>\n      <td>0.0</td>\n      <td>0.0</td>\n      <td>0</td>\n    </tr>\n    <tr>\n      <th>41799</th>\n      <td>43063</td>\n      <td>3353200</td>\n      <td>NaN</td>\n      <td>NaN</td>\n      <td>NaN</td>\n      <td>NaN</td>\n      <td>NaN</td>\n      <td>NaN</td>\n      <td>30</td>\n      <td>27.8</td>\n      <td>...</td>\n      <td>NaN</td>\n      <td>NaN</td>\n      <td>NaN</td>\n      <td>NaN</td>\n      <td>66.0</td>\n      <td>Caucasian</td>\n      <td>Hypovolemia (including dehydration, Do not inc...</td>\n      <td>0.0</td>\n      <td>0.0</td>\n      <td>0</td>\n    </tr>\n    <tr>\n      <th>41800</th>\n      <td>43064</td>\n      <td>3353216</td>\n      <td>NaN</td>\n      <td>NaN</td>\n      <td>NaN</td>\n      <td>NaN</td>\n      <td>NaN</td>\n      <td>NaN</td>\n      <td>100</td>\n      <td>20.0</td>\n      <td>...</td>\n      <td>NaN</td>\n      <td>NaN</td>\n      <td>NaN</td>\n      <td>NaN</td>\n      <td>50.0</td>\n      <td>African American</td>\n      <td>Cystectomy, other reasons</td>\n      <td>0.0</td>\n      <td>0.0</td>\n      <td>0</td>\n    </tr>\n  </tbody>\n</table>\n<p>41801 rows × 53 columns</p>\n</div>"
     },
     "execution_count": 106,
     "metadata": {},
     "output_type": "execute_result"
    }
   ],
   "source": [
    "lab_ectract_t=pd.read_csv(\"F:\\\\TrainTest\\\\EICU\\\\Data\\\\lab_ectract_t.csv\")\n",
    "patient_extract=pd.read_csv(\"F:\\TrainTest\\EICU\\Data\\patient_extract.csv\")\n",
    "lab_patient_combain=pd.merge(lab_ectract_t,patient_extract,on='patientunitstayid',how='inner')\n",
    "lab_patient_combain"
   ],
   "metadata": {
    "collapsed": false
   }
  },
  {
   "cell_type": "code",
   "execution_count": 107,
   "outputs": [
    {
     "name": "stdout",
     "output_type": "stream",
     "text": [
      "<class 'pandas.core.frame.DataFrame'>\n",
      "Int64Index: 41801 entries, 0 to 41800\n",
      "Data columns (total 53 columns):\n",
      " #   Column                        Non-Null Count  Dtype  \n",
      "---  ------                        --------------  -----  \n",
      " 0   Unnamed: 0                    41801 non-null  int64  \n",
      " 1   patientunitstayid             41801 non-null  int64  \n",
      " 2   -lymphs                       4040 non-null   float64\n",
      " 3   24 h urine protein            25 non-null     float64\n",
      " 4   24 h urine urea nitrogen      1 non-null      float64\n",
      " 5   ALT (SGPT)                    3378 non-null   object \n",
      " 6   Acetaminophen                 90 non-null     object \n",
      " 7   BUN                           8869 non-null   object \n",
      " 8   FiO2                          16704 non-null  object \n",
      " 9   HCO3                          8141 non-null   object \n",
      " 10  Hct                           10606 non-null  object \n",
      " 11  LPM O2                        805 non-null    object \n",
      " 12  PT                            5694 non-null   object \n",
      " 13  PT - INR                      5993 non-null   object \n",
      " 14  PTT                           5073 non-null   object \n",
      " 15  PTT ratio                     258 non-null    object \n",
      " 16  Phenobarbital                 3 non-null      object \n",
      " 17  Phenytoin                     25 non-null     object \n",
      " 18  Theophylline                  6 non-null      float64\n",
      " 19  WBC x 1000                    9219 non-null   object \n",
      " 20  WBC's in body fluid           10 non-null     float64\n",
      " 21  WBC's in cerebrospinal fluid  7 non-null      object \n",
      " 22  WBC's in peritoneal fluid     2 non-null      float64\n",
      " 23  WBC's in urine                263 non-null    object \n",
      " 24  albumin                       3632 non-null   object \n",
      " 25  alkaline phos.                3272 non-null   float64\n",
      " 26  bedside glucose               19502 non-null  object \n",
      " 27  chloride                      8934 non-null   float64\n",
      " 28  creatinine                    8938 non-null   object \n",
      " 29  direct bilirubin              595 non-null    object \n",
      " 30  glucose                       9867 non-null   object \n",
      " 31  glucose - CSF                 14 non-null     float64\n",
      " 32  haptoglobin                   26 non-null     object \n",
      " 33  pH                            8738 non-null   object \n",
      " 34  paCO2                         8781 non-null   object \n",
      " 35  paO2                          8902 non-null   object \n",
      " 36  phosphate                     3001 non-null   object \n",
      " 37  platelets x 1000              9359 non-null   float64\n",
      " 38  potassium                     11397 non-null  object \n",
      " 39  prealbumin                    64 non-null     object \n",
      " 40  sodium                        10765 non-null  object \n",
      " 41  total bilirubin               3427 non-null   object \n",
      " 42  uric acid                     120 non-null    object \n",
      " 43  urinary creatinine            108 non-null    float64\n",
      " 44  urinary osmolality            93 non-null     float64\n",
      " 45  urinary sodium                174 non-null    object \n",
      " 46  urinary specific gravity      1501 non-null   object \n",
      " 47  age                           41800 non-null  float64\n",
      " 48  ethnicity                     41463 non-null  object \n",
      " 49  apacheadmissiondx             40704 non-null  object \n",
      " 50  gender_numeric                41795 non-null  float64\n",
      " 51  death_numeric                 41488 non-null  float64\n",
      " 52  icu_los_hours_less_than_24    41801 non-null  int64  \n",
      "dtypes: float64(15), int64(3), object(35)\n",
      "memory usage: 17.2+ MB\n"
     ]
    }
   ],
   "source": [
    "lab_patient_combain.info()"
   ],
   "metadata": {
    "collapsed": false
   }
  },
  {
   "cell_type": "code",
   "execution_count": 167,
   "outputs": [
    {
     "data": {
      "text/plain": "       patientunitstayid   age  gender_numeric potassium   paO2  HCO3  \\\n0                 141203  77.0             0.0       4.2     51    25   \n1                 141276  59.0             0.0       NaN    370    28   \n2                 141296  63.0             1.0       NaN     54    27   \n3                 141313  45.0             1.0       5.2     92    20   \n4                 141328  76.0             0.0       NaN    NaN   NaN   \n...                  ...   ...             ...       ...    ...   ...   \n41796            3353121  77.0             0.0       NaN    NaN   NaN   \n41797            3353197  66.0             0.0       4.2  380.0  24.2   \n41798            3353198  66.0             0.0       4.3    NaN   NaN   \n41799            3353200  66.0             0.0       NaN   70.0  27.8   \n41800            3353216  50.0             0.0       NaN  226.0  20.0   \n\n       chloride PT - INR    PT ALT (SGPT)  BUN  PTT paCO2   paO2  \\\n0         107.0      NaN   NaN        NaN    9  NaN    37     51   \n1           NaN      NaN   NaN        NaN  NaN  NaN    43    370   \n2           NaN      NaN   NaN        NaN  NaN  NaN    32     54   \n3         107.0      1.2  12.7         57   15  NaN    60     92   \n4           NaN      NaN   NaN        NaN  NaN  NaN   NaN    NaN   \n...         ...      ...   ...        ...  ...  ...   ...    ...   \n41796       NaN      NaN   NaN        NaN  NaN   90   NaN    NaN   \n41797     116.0      NaN   NaN        NaN   19  NaN  31.4  380.0   \n41798       NaN      NaN   NaN        NaN  NaN  NaN   NaN    NaN   \n41799       NaN      NaN   NaN        NaN  NaN  NaN  43.5   70.0   \n41800       NaN      NaN   NaN        NaN  NaN  NaN  53.1  226.0   \n\n       death_numeric  icu_los_hours_less_than_24  \n0                0.0                           0  \n1                0.0                           0  \n2                1.0                           0  \n3                1.0                           1  \n4                0.0                           1  \n...              ...                         ...  \n41796            0.0                           1  \n41797            0.0                           0  \n41798            0.0                           0  \n41799            0.0                           0  \n41800            0.0                           0  \n\n[41801 rows x 16 columns]",
      "text/html": "<div>\n<style scoped>\n    .dataframe tbody tr th:only-of-type {\n        vertical-align: middle;\n    }\n\n    .dataframe tbody tr th {\n        vertical-align: top;\n    }\n\n    .dataframe thead th {\n        text-align: right;\n    }\n</style>\n<table border=\"1\" class=\"dataframe\">\n  <thead>\n    <tr style=\"text-align: right;\">\n      <th></th>\n      <th>patientunitstayid</th>\n      <th>age</th>\n      <th>gender_numeric</th>\n      <th>potassium</th>\n      <th>paO2</th>\n      <th>HCO3</th>\n      <th>chloride</th>\n      <th>PT - INR</th>\n      <th>PT</th>\n      <th>ALT (SGPT)</th>\n      <th>BUN</th>\n      <th>PTT</th>\n      <th>paCO2</th>\n      <th>paO2</th>\n      <th>death_numeric</th>\n      <th>icu_los_hours_less_than_24</th>\n    </tr>\n  </thead>\n  <tbody>\n    <tr>\n      <th>0</th>\n      <td>141203</td>\n      <td>77.0</td>\n      <td>0.0</td>\n      <td>4.2</td>\n      <td>51</td>\n      <td>25</td>\n      <td>107.0</td>\n      <td>NaN</td>\n      <td>NaN</td>\n      <td>NaN</td>\n      <td>9</td>\n      <td>NaN</td>\n      <td>37</td>\n      <td>51</td>\n      <td>0.0</td>\n      <td>0</td>\n    </tr>\n    <tr>\n      <th>1</th>\n      <td>141276</td>\n      <td>59.0</td>\n      <td>0.0</td>\n      <td>NaN</td>\n      <td>370</td>\n      <td>28</td>\n      <td>NaN</td>\n      <td>NaN</td>\n      <td>NaN</td>\n      <td>NaN</td>\n      <td>NaN</td>\n      <td>NaN</td>\n      <td>43</td>\n      <td>370</td>\n      <td>0.0</td>\n      <td>0</td>\n    </tr>\n    <tr>\n      <th>2</th>\n      <td>141296</td>\n      <td>63.0</td>\n      <td>1.0</td>\n      <td>NaN</td>\n      <td>54</td>\n      <td>27</td>\n      <td>NaN</td>\n      <td>NaN</td>\n      <td>NaN</td>\n      <td>NaN</td>\n      <td>NaN</td>\n      <td>NaN</td>\n      <td>32</td>\n      <td>54</td>\n      <td>1.0</td>\n      <td>0</td>\n    </tr>\n    <tr>\n      <th>3</th>\n      <td>141313</td>\n      <td>45.0</td>\n      <td>1.0</td>\n      <td>5.2</td>\n      <td>92</td>\n      <td>20</td>\n      <td>107.0</td>\n      <td>1.2</td>\n      <td>12.7</td>\n      <td>57</td>\n      <td>15</td>\n      <td>NaN</td>\n      <td>60</td>\n      <td>92</td>\n      <td>1.0</td>\n      <td>1</td>\n    </tr>\n    <tr>\n      <th>4</th>\n      <td>141328</td>\n      <td>76.0</td>\n      <td>0.0</td>\n      <td>NaN</td>\n      <td>NaN</td>\n      <td>NaN</td>\n      <td>NaN</td>\n      <td>NaN</td>\n      <td>NaN</td>\n      <td>NaN</td>\n      <td>NaN</td>\n      <td>NaN</td>\n      <td>NaN</td>\n      <td>NaN</td>\n      <td>0.0</td>\n      <td>1</td>\n    </tr>\n    <tr>\n      <th>...</th>\n      <td>...</td>\n      <td>...</td>\n      <td>...</td>\n      <td>...</td>\n      <td>...</td>\n      <td>...</td>\n      <td>...</td>\n      <td>...</td>\n      <td>...</td>\n      <td>...</td>\n      <td>...</td>\n      <td>...</td>\n      <td>...</td>\n      <td>...</td>\n      <td>...</td>\n      <td>...</td>\n    </tr>\n    <tr>\n      <th>41796</th>\n      <td>3353121</td>\n      <td>77.0</td>\n      <td>0.0</td>\n      <td>NaN</td>\n      <td>NaN</td>\n      <td>NaN</td>\n      <td>NaN</td>\n      <td>NaN</td>\n      <td>NaN</td>\n      <td>NaN</td>\n      <td>NaN</td>\n      <td>90</td>\n      <td>NaN</td>\n      <td>NaN</td>\n      <td>0.0</td>\n      <td>1</td>\n    </tr>\n    <tr>\n      <th>41797</th>\n      <td>3353197</td>\n      <td>66.0</td>\n      <td>0.0</td>\n      <td>4.2</td>\n      <td>380.0</td>\n      <td>24.2</td>\n      <td>116.0</td>\n      <td>NaN</td>\n      <td>NaN</td>\n      <td>NaN</td>\n      <td>19</td>\n      <td>NaN</td>\n      <td>31.4</td>\n      <td>380.0</td>\n      <td>0.0</td>\n      <td>0</td>\n    </tr>\n    <tr>\n      <th>41798</th>\n      <td>3353198</td>\n      <td>66.0</td>\n      <td>0.0</td>\n      <td>4.3</td>\n      <td>NaN</td>\n      <td>NaN</td>\n      <td>NaN</td>\n      <td>NaN</td>\n      <td>NaN</td>\n      <td>NaN</td>\n      <td>NaN</td>\n      <td>NaN</td>\n      <td>NaN</td>\n      <td>NaN</td>\n      <td>0.0</td>\n      <td>0</td>\n    </tr>\n    <tr>\n      <th>41799</th>\n      <td>3353200</td>\n      <td>66.0</td>\n      <td>0.0</td>\n      <td>NaN</td>\n      <td>70.0</td>\n      <td>27.8</td>\n      <td>NaN</td>\n      <td>NaN</td>\n      <td>NaN</td>\n      <td>NaN</td>\n      <td>NaN</td>\n      <td>NaN</td>\n      <td>43.5</td>\n      <td>70.0</td>\n      <td>0.0</td>\n      <td>0</td>\n    </tr>\n    <tr>\n      <th>41800</th>\n      <td>3353216</td>\n      <td>50.0</td>\n      <td>0.0</td>\n      <td>NaN</td>\n      <td>226.0</td>\n      <td>20.0</td>\n      <td>NaN</td>\n      <td>NaN</td>\n      <td>NaN</td>\n      <td>NaN</td>\n      <td>NaN</td>\n      <td>NaN</td>\n      <td>53.1</td>\n      <td>226.0</td>\n      <td>0.0</td>\n      <td>0</td>\n    </tr>\n  </tbody>\n</table>\n<p>41801 rows × 16 columns</p>\n</div>"
     },
     "execution_count": 167,
     "metadata": {},
     "output_type": "execute_result"
    }
   ],
   "source": [
    "lab_patient_combain_extract=lab_patient_combain[['patientunitstayid','age','gender_numeric','potassium','paO2','HCO3','chloride','PT - INR','PT','ALT (SGPT)','BUN','PTT','paCO2','paO2','death_numeric','icu_los_hours_less_than_24',]]\n",
    "lab_patient_combain_extract"
   ],
   "metadata": {
    "collapsed": false
   }
  },
  {
   "cell_type": "code",
   "execution_count": 168,
   "outputs": [
    {
     "data": {
      "text/plain": "       patientunitstayid   age  gender_numeric potassium   paO2  HCO3  \\\n0                 141203  77.0             0.0       4.2     51    25   \n1                 141276  59.0             0.0       NaN    370    28   \n2                 141296  63.0             1.0       NaN     54    27   \n3                 141313  45.0             1.0       5.2     92    20   \n4                 141328  76.0             0.0       NaN    NaN   NaN   \n...                  ...   ...             ...       ...    ...   ...   \n39756            3353121  77.0             0.0       NaN    NaN   NaN   \n39757            3353197  66.0             0.0       4.2  380.0  24.2   \n39758            3353198  66.0             0.0       4.3    NaN   NaN   \n39759            3353200  66.0             0.0       NaN   70.0  27.8   \n39760            3353216  50.0             0.0       NaN  226.0  20.0   \n\n       chloride PT - INR    PT ALT (SGPT)  ...   bun bilirubin   fio2     ph  \\\n0         107.0      NaN   NaN        NaN  ...   9.0      -1.0  100.0  7.450   \n1           NaN      NaN   NaN        NaN  ...  18.0      -1.0  100.0  7.420   \n2           NaN      NaN   NaN        NaN  ...  35.0       0.5   21.0  7.540   \n3         107.0      1.2  12.7         57  ...  15.0       0.2  100.0  7.140   \n4           NaN      NaN   NaN        NaN  ...  -1.0      -1.0   -1.0 -1.000   \n...         ...      ...   ...        ...  ...   ...       ...    ...    ...   \n39756       NaN      NaN   NaN        NaN  ...  23.0      -1.0   -1.0 -1.000   \n39757     116.0      NaN   NaN        NaN  ...  25.0      -1.0  100.0  7.494   \n39758       NaN      NaN   NaN        NaN  ...  50.0       0.5   50.0  7.502   \n39759       NaN      NaN   NaN        NaN  ...  41.0      -1.0   30.0  7.412   \n39760       NaN      NaN   NaN        NaN  ...   7.0       0.2  100.0  7.185   \n\n       dialysis  sodium.1  hematocrit  glucose  respiratoryrate  vent  \n0             0     145.0        36.9    145.0             33.0     1  \n1             0     135.0        33.5    197.0             53.0     0  \n2             1     137.0        29.0    101.0             59.0     0  \n3             0     142.0        37.9    380.0             14.0     1  \n4             1      -1.0        -1.0    103.0             14.0     0  \n...         ...       ...         ...      ...              ...   ...  \n39756         0     140.0        30.0    185.0             51.0     0  \n39757         0     142.0        20.0    209.0             50.0     0  \n39758         0     150.0        24.0    210.0             38.0     1  \n39759         0     134.0        20.0    221.0             30.0     1  \n39760         0     143.0        26.0    182.0             14.0     1  \n\n[39761 rows x 36 columns]",
      "text/html": "<div>\n<style scoped>\n    .dataframe tbody tr th:only-of-type {\n        vertical-align: middle;\n    }\n\n    .dataframe tbody tr th {\n        vertical-align: top;\n    }\n\n    .dataframe thead th {\n        text-align: right;\n    }\n</style>\n<table border=\"1\" class=\"dataframe\">\n  <thead>\n    <tr style=\"text-align: right;\">\n      <th></th>\n      <th>patientunitstayid</th>\n      <th>age</th>\n      <th>gender_numeric</th>\n      <th>potassium</th>\n      <th>paO2</th>\n      <th>HCO3</th>\n      <th>chloride</th>\n      <th>PT - INR</th>\n      <th>PT</th>\n      <th>ALT (SGPT)</th>\n      <th>...</th>\n      <th>bun</th>\n      <th>bilirubin</th>\n      <th>fio2</th>\n      <th>ph</th>\n      <th>dialysis</th>\n      <th>sodium.1</th>\n      <th>hematocrit</th>\n      <th>glucose</th>\n      <th>respiratoryrate</th>\n      <th>vent</th>\n    </tr>\n  </thead>\n  <tbody>\n    <tr>\n      <th>0</th>\n      <td>141203</td>\n      <td>77.0</td>\n      <td>0.0</td>\n      <td>4.2</td>\n      <td>51</td>\n      <td>25</td>\n      <td>107.0</td>\n      <td>NaN</td>\n      <td>NaN</td>\n      <td>NaN</td>\n      <td>...</td>\n      <td>9.0</td>\n      <td>-1.0</td>\n      <td>100.0</td>\n      <td>7.450</td>\n      <td>0</td>\n      <td>145.0</td>\n      <td>36.9</td>\n      <td>145.0</td>\n      <td>33.0</td>\n      <td>1</td>\n    </tr>\n    <tr>\n      <th>1</th>\n      <td>141276</td>\n      <td>59.0</td>\n      <td>0.0</td>\n      <td>NaN</td>\n      <td>370</td>\n      <td>28</td>\n      <td>NaN</td>\n      <td>NaN</td>\n      <td>NaN</td>\n      <td>NaN</td>\n      <td>...</td>\n      <td>18.0</td>\n      <td>-1.0</td>\n      <td>100.0</td>\n      <td>7.420</td>\n      <td>0</td>\n      <td>135.0</td>\n      <td>33.5</td>\n      <td>197.0</td>\n      <td>53.0</td>\n      <td>0</td>\n    </tr>\n    <tr>\n      <th>2</th>\n      <td>141296</td>\n      <td>63.0</td>\n      <td>1.0</td>\n      <td>NaN</td>\n      <td>54</td>\n      <td>27</td>\n      <td>NaN</td>\n      <td>NaN</td>\n      <td>NaN</td>\n      <td>NaN</td>\n      <td>...</td>\n      <td>35.0</td>\n      <td>0.5</td>\n      <td>21.0</td>\n      <td>7.540</td>\n      <td>1</td>\n      <td>137.0</td>\n      <td>29.0</td>\n      <td>101.0</td>\n      <td>59.0</td>\n      <td>0</td>\n    </tr>\n    <tr>\n      <th>3</th>\n      <td>141313</td>\n      <td>45.0</td>\n      <td>1.0</td>\n      <td>5.2</td>\n      <td>92</td>\n      <td>20</td>\n      <td>107.0</td>\n      <td>1.2</td>\n      <td>12.7</td>\n      <td>57</td>\n      <td>...</td>\n      <td>15.0</td>\n      <td>0.2</td>\n      <td>100.0</td>\n      <td>7.140</td>\n      <td>0</td>\n      <td>142.0</td>\n      <td>37.9</td>\n      <td>380.0</td>\n      <td>14.0</td>\n      <td>1</td>\n    </tr>\n    <tr>\n      <th>4</th>\n      <td>141328</td>\n      <td>76.0</td>\n      <td>0.0</td>\n      <td>NaN</td>\n      <td>NaN</td>\n      <td>NaN</td>\n      <td>NaN</td>\n      <td>NaN</td>\n      <td>NaN</td>\n      <td>NaN</td>\n      <td>...</td>\n      <td>-1.0</td>\n      <td>-1.0</td>\n      <td>-1.0</td>\n      <td>-1.000</td>\n      <td>1</td>\n      <td>-1.0</td>\n      <td>-1.0</td>\n      <td>103.0</td>\n      <td>14.0</td>\n      <td>0</td>\n    </tr>\n    <tr>\n      <th>...</th>\n      <td>...</td>\n      <td>...</td>\n      <td>...</td>\n      <td>...</td>\n      <td>...</td>\n      <td>...</td>\n      <td>...</td>\n      <td>...</td>\n      <td>...</td>\n      <td>...</td>\n      <td>...</td>\n      <td>...</td>\n      <td>...</td>\n      <td>...</td>\n      <td>...</td>\n      <td>...</td>\n      <td>...</td>\n      <td>...</td>\n      <td>...</td>\n      <td>...</td>\n      <td>...</td>\n    </tr>\n    <tr>\n      <th>39756</th>\n      <td>3353121</td>\n      <td>77.0</td>\n      <td>0.0</td>\n      <td>NaN</td>\n      <td>NaN</td>\n      <td>NaN</td>\n      <td>NaN</td>\n      <td>NaN</td>\n      <td>NaN</td>\n      <td>NaN</td>\n      <td>...</td>\n      <td>23.0</td>\n      <td>-1.0</td>\n      <td>-1.0</td>\n      <td>-1.000</td>\n      <td>0</td>\n      <td>140.0</td>\n      <td>30.0</td>\n      <td>185.0</td>\n      <td>51.0</td>\n      <td>0</td>\n    </tr>\n    <tr>\n      <th>39757</th>\n      <td>3353197</td>\n      <td>66.0</td>\n      <td>0.0</td>\n      <td>4.2</td>\n      <td>380.0</td>\n      <td>24.2</td>\n      <td>116.0</td>\n      <td>NaN</td>\n      <td>NaN</td>\n      <td>NaN</td>\n      <td>...</td>\n      <td>25.0</td>\n      <td>-1.0</td>\n      <td>100.0</td>\n      <td>7.494</td>\n      <td>0</td>\n      <td>142.0</td>\n      <td>20.0</td>\n      <td>209.0</td>\n      <td>50.0</td>\n      <td>0</td>\n    </tr>\n    <tr>\n      <th>39758</th>\n      <td>3353198</td>\n      <td>66.0</td>\n      <td>0.0</td>\n      <td>4.3</td>\n      <td>NaN</td>\n      <td>NaN</td>\n      <td>NaN</td>\n      <td>NaN</td>\n      <td>NaN</td>\n      <td>NaN</td>\n      <td>...</td>\n      <td>50.0</td>\n      <td>0.5</td>\n      <td>50.0</td>\n      <td>7.502</td>\n      <td>0</td>\n      <td>150.0</td>\n      <td>24.0</td>\n      <td>210.0</td>\n      <td>38.0</td>\n      <td>1</td>\n    </tr>\n    <tr>\n      <th>39759</th>\n      <td>3353200</td>\n      <td>66.0</td>\n      <td>0.0</td>\n      <td>NaN</td>\n      <td>70.0</td>\n      <td>27.8</td>\n      <td>NaN</td>\n      <td>NaN</td>\n      <td>NaN</td>\n      <td>NaN</td>\n      <td>...</td>\n      <td>41.0</td>\n      <td>-1.0</td>\n      <td>30.0</td>\n      <td>7.412</td>\n      <td>0</td>\n      <td>134.0</td>\n      <td>20.0</td>\n      <td>221.0</td>\n      <td>30.0</td>\n      <td>1</td>\n    </tr>\n    <tr>\n      <th>39760</th>\n      <td>3353216</td>\n      <td>50.0</td>\n      <td>0.0</td>\n      <td>NaN</td>\n      <td>226.0</td>\n      <td>20.0</td>\n      <td>NaN</td>\n      <td>NaN</td>\n      <td>NaN</td>\n      <td>NaN</td>\n      <td>...</td>\n      <td>7.0</td>\n      <td>0.2</td>\n      <td>100.0</td>\n      <td>7.185</td>\n      <td>0</td>\n      <td>143.0</td>\n      <td>26.0</td>\n      <td>182.0</td>\n      <td>14.0</td>\n      <td>1</td>\n    </tr>\n  </tbody>\n</table>\n<p>39761 rows × 36 columns</p>\n</div>"
     },
     "execution_count": 168,
     "metadata": {},
     "output_type": "execute_result"
    }
   ],
   "source": [
    "merged_data = pd.merge(lab_patient_combain_extract, lab_pa, on='patientunitstayid', how='inner')  # 可以根据需要选择不同的连接方式，如 'inner', 'left', 'right', 'outer'\n",
    "merged_data"
   ],
   "metadata": {
    "collapsed": false
   }
  },
  {
   "cell_type": "code",
   "execution_count": 169,
   "outputs": [
    {
     "name": "stdout",
     "output_type": "stream",
     "text": [
      "<class 'pandas.core.frame.DataFrame'>\n",
      "Int64Index: 39761 entries, 0 to 39760\n",
      "Data columns (total 36 columns):\n",
      " #   Column                      Non-Null Count  Dtype  \n",
      "---  ------                      --------------  -----  \n",
      " 0   patientunitstayid           39761 non-null  int64  \n",
      " 1   age                         39760 non-null  float64\n",
      " 2   gender_numeric              39755 non-null  float64\n",
      " 3   potassium                   10982 non-null  object \n",
      " 4   paO2                        8725 non-null   object \n",
      " 5   HCO3                        7978 non-null   object \n",
      " 6   chloride                    8627 non-null   float64\n",
      " 7   PT - INR                    5824 non-null   object \n",
      " 8   PT                          5525 non-null   object \n",
      " 9   ALT (SGPT)                  3254 non-null   object \n",
      " 10  BUN                         8564 non-null   object \n",
      " 11  PTT                         4945 non-null   object \n",
      " 12  paCO2                       8604 non-null   object \n",
      " 13  paO2                        8725 non-null   object \n",
      " 14  death_numeric               39462 non-null  float64\n",
      " 15  icu_los_hours_less_than_24  39761 non-null  int64  \n",
      " 16  Unnamed: 0                  39761 non-null  int64  \n",
      " 17  apacheapsvarid              39761 non-null  int64  \n",
      " 18  urine                       39761 non-null  float64\n",
      " 19  heartrate                   39761 non-null  int64  \n",
      " 20  wbc                         39761 non-null  float64\n",
      " 21  temperature                 39761 non-null  float64\n",
      " 22  sodium                      39761 non-null  float64\n",
      " 23  creatinine                  39761 non-null  float64\n",
      " 24  albumin                     39761 non-null  float64\n",
      " 25  pco2                        39761 non-null  float64\n",
      " 26  bun                         39761 non-null  float64\n",
      " 27  bilirubin                   39761 non-null  float64\n",
      " 28  fio2                        39761 non-null  float64\n",
      " 29  ph                          39761 non-null  float64\n",
      " 30  dialysis                    39761 non-null  int64  \n",
      " 31  sodium.1                    39761 non-null  float64\n",
      " 32  hematocrit                  39761 non-null  float64\n",
      " 33  glucose                     39761 non-null  float64\n",
      " 34  respiratoryrate             39761 non-null  float64\n",
      " 35  vent                        39761 non-null  int64  \n",
      "dtypes: float64(19), int64(7), object(10)\n",
      "memory usage: 11.2+ MB\n"
     ]
    }
   ],
   "source": [
    "merged_data.info()"
   ],
   "metadata": {
    "collapsed": false
   }
  },
  {
   "cell_type": "code",
   "execution_count": 170,
   "outputs": [],
   "source": [
    "merged_data = merged_data.dropna(subset=['death_numeric'])\n",
    "\n",
    "# 如果需要重新索引行号，可以使用下面的代码\n",
    "merged_data.reset_index(drop=True, inplace=True)"
   ],
   "metadata": {
    "collapsed": false
   }
  },
  {
   "cell_type": "code",
   "execution_count": 171,
   "outputs": [
    {
     "name": "stdout",
     "output_type": "stream",
     "text": [
      "<class 'pandas.core.frame.DataFrame'>\n",
      "RangeIndex: 39462 entries, 0 to 39461\n",
      "Data columns (total 36 columns):\n",
      " #   Column                      Non-Null Count  Dtype  \n",
      "---  ------                      --------------  -----  \n",
      " 0   patientunitstayid           39462 non-null  int64  \n",
      " 1   age                         39461 non-null  float64\n",
      " 2   gender_numeric              39456 non-null  float64\n",
      " 3   potassium                   10914 non-null  object \n",
      " 4   paO2                        8648 non-null   object \n",
      " 5   HCO3                        7914 non-null   object \n",
      " 6   chloride                    8566 non-null   float64\n",
      " 7   PT - INR                    5790 non-null   object \n",
      " 8   PT                          5491 non-null   object \n",
      " 9   ALT (SGPT)                  3224 non-null   object \n",
      " 10  BUN                         8505 non-null   object \n",
      " 11  PTT                         4915 non-null   object \n",
      " 12  paCO2                       8529 non-null   object \n",
      " 13  paO2                        8648 non-null   object \n",
      " 14  death_numeric               39462 non-null  float64\n",
      " 15  icu_los_hours_less_than_24  39462 non-null  int64  \n",
      " 16  Unnamed: 0                  39462 non-null  int64  \n",
      " 17  apacheapsvarid              39462 non-null  int64  \n",
      " 18  urine                       39462 non-null  float64\n",
      " 19  heartrate                   39462 non-null  int64  \n",
      " 20  wbc                         39462 non-null  float64\n",
      " 21  temperature                 39462 non-null  float64\n",
      " 22  sodium                      39462 non-null  float64\n",
      " 23  creatinine                  39462 non-null  float64\n",
      " 24  albumin                     39462 non-null  float64\n",
      " 25  pco2                        39462 non-null  float64\n",
      " 26  bun                         39462 non-null  float64\n",
      " 27  bilirubin                   39462 non-null  float64\n",
      " 28  fio2                        39462 non-null  float64\n",
      " 29  ph                          39462 non-null  float64\n",
      " 30  dialysis                    39462 non-null  int64  \n",
      " 31  sodium.1                    39462 non-null  float64\n",
      " 32  hematocrit                  39462 non-null  float64\n",
      " 33  glucose                     39462 non-null  float64\n",
      " 34  respiratoryrate             39462 non-null  float64\n",
      " 35  vent                        39462 non-null  int64  \n",
      "dtypes: float64(19), int64(7), object(10)\n",
      "memory usage: 10.8+ MB\n"
     ]
    }
   ],
   "source": [
    "merged_data.info()\n"
   ],
   "metadata": {
    "collapsed": false
   }
  },
  {
   "cell_type": "code",
   "execution_count": 172,
   "outputs": [
    {
     "data": {
      "text/plain": "       patientunitstayid   age  gender_numeric potassium   paO2  HCO3  \\\n0                 141203  77.0             0.0       4.2     51    25   \n1                 141276  59.0             0.0       NaN    370    28   \n2                 141296  63.0             1.0       NaN     54    27   \n3                 141313  45.0             1.0       5.2     92    20   \n4                 141328  76.0             0.0       NaN    NaN   NaN   \n...                  ...   ...             ...       ...    ...   ...   \n39457            3353121  77.0             0.0       NaN    NaN   NaN   \n39458            3353197  66.0             0.0       4.2  380.0  24.2   \n39459            3353198  66.0             0.0       4.3    NaN   NaN   \n39460            3353200  66.0             0.0       NaN   70.0  27.8   \n39461            3353216  50.0             0.0       NaN  226.0  20.0   \n\n       chloride PT - INR    PT ALT (SGPT)  ...   bun bilirubin   fio2     ph  \\\n0         107.0      NaN   NaN        NaN  ...   9.0      -1.0  100.0  7.450   \n1           NaN      NaN   NaN        NaN  ...  18.0      -1.0  100.0  7.420   \n2           NaN      NaN   NaN        NaN  ...  35.0       0.5   21.0  7.540   \n3         107.0      1.2  12.7         57  ...  15.0       0.2  100.0  7.140   \n4           NaN      NaN   NaN        NaN  ...  -1.0      -1.0   -1.0 -1.000   \n...         ...      ...   ...        ...  ...   ...       ...    ...    ...   \n39457       NaN      NaN   NaN        NaN  ...  23.0      -1.0   -1.0 -1.000   \n39458     116.0      NaN   NaN        NaN  ...  25.0      -1.0  100.0  7.494   \n39459       NaN      NaN   NaN        NaN  ...  50.0       0.5   50.0  7.502   \n39460       NaN      NaN   NaN        NaN  ...  41.0      -1.0   30.0  7.412   \n39461       NaN      NaN   NaN        NaN  ...   7.0       0.2  100.0  7.185   \n\n       dialysis  sodium.1  hematocrit  glucose  respiratoryrate  vent  \n0             0     145.0        36.9    145.0             33.0     1  \n1             0     135.0        33.5    197.0             53.0     0  \n2             1     137.0        29.0    101.0             59.0     0  \n3             0     142.0        37.9    380.0             14.0     1  \n4             1      -1.0        -1.0    103.0             14.0     0  \n...         ...       ...         ...      ...              ...   ...  \n39457         0     140.0        30.0    185.0             51.0     0  \n39458         0     142.0        20.0    209.0             50.0     0  \n39459         0     150.0        24.0    210.0             38.0     1  \n39460         0     134.0        20.0    221.0             30.0     1  \n39461         0     143.0        26.0    182.0             14.0     1  \n\n[39462 rows x 36 columns]",
      "text/html": "<div>\n<style scoped>\n    .dataframe tbody tr th:only-of-type {\n        vertical-align: middle;\n    }\n\n    .dataframe tbody tr th {\n        vertical-align: top;\n    }\n\n    .dataframe thead th {\n        text-align: right;\n    }\n</style>\n<table border=\"1\" class=\"dataframe\">\n  <thead>\n    <tr style=\"text-align: right;\">\n      <th></th>\n      <th>patientunitstayid</th>\n      <th>age</th>\n      <th>gender_numeric</th>\n      <th>potassium</th>\n      <th>paO2</th>\n      <th>HCO3</th>\n      <th>chloride</th>\n      <th>PT - INR</th>\n      <th>PT</th>\n      <th>ALT (SGPT)</th>\n      <th>...</th>\n      <th>bun</th>\n      <th>bilirubin</th>\n      <th>fio2</th>\n      <th>ph</th>\n      <th>dialysis</th>\n      <th>sodium.1</th>\n      <th>hematocrit</th>\n      <th>glucose</th>\n      <th>respiratoryrate</th>\n      <th>vent</th>\n    </tr>\n  </thead>\n  <tbody>\n    <tr>\n      <th>0</th>\n      <td>141203</td>\n      <td>77.0</td>\n      <td>0.0</td>\n      <td>4.2</td>\n      <td>51</td>\n      <td>25</td>\n      <td>107.0</td>\n      <td>NaN</td>\n      <td>NaN</td>\n      <td>NaN</td>\n      <td>...</td>\n      <td>9.0</td>\n      <td>-1.0</td>\n      <td>100.0</td>\n      <td>7.450</td>\n      <td>0</td>\n      <td>145.0</td>\n      <td>36.9</td>\n      <td>145.0</td>\n      <td>33.0</td>\n      <td>1</td>\n    </tr>\n    <tr>\n      <th>1</th>\n      <td>141276</td>\n      <td>59.0</td>\n      <td>0.0</td>\n      <td>NaN</td>\n      <td>370</td>\n      <td>28</td>\n      <td>NaN</td>\n      <td>NaN</td>\n      <td>NaN</td>\n      <td>NaN</td>\n      <td>...</td>\n      <td>18.0</td>\n      <td>-1.0</td>\n      <td>100.0</td>\n      <td>7.420</td>\n      <td>0</td>\n      <td>135.0</td>\n      <td>33.5</td>\n      <td>197.0</td>\n      <td>53.0</td>\n      <td>0</td>\n    </tr>\n    <tr>\n      <th>2</th>\n      <td>141296</td>\n      <td>63.0</td>\n      <td>1.0</td>\n      <td>NaN</td>\n      <td>54</td>\n      <td>27</td>\n      <td>NaN</td>\n      <td>NaN</td>\n      <td>NaN</td>\n      <td>NaN</td>\n      <td>...</td>\n      <td>35.0</td>\n      <td>0.5</td>\n      <td>21.0</td>\n      <td>7.540</td>\n      <td>1</td>\n      <td>137.0</td>\n      <td>29.0</td>\n      <td>101.0</td>\n      <td>59.0</td>\n      <td>0</td>\n    </tr>\n    <tr>\n      <th>3</th>\n      <td>141313</td>\n      <td>45.0</td>\n      <td>1.0</td>\n      <td>5.2</td>\n      <td>92</td>\n      <td>20</td>\n      <td>107.0</td>\n      <td>1.2</td>\n      <td>12.7</td>\n      <td>57</td>\n      <td>...</td>\n      <td>15.0</td>\n      <td>0.2</td>\n      <td>100.0</td>\n      <td>7.140</td>\n      <td>0</td>\n      <td>142.0</td>\n      <td>37.9</td>\n      <td>380.0</td>\n      <td>14.0</td>\n      <td>1</td>\n    </tr>\n    <tr>\n      <th>4</th>\n      <td>141328</td>\n      <td>76.0</td>\n      <td>0.0</td>\n      <td>NaN</td>\n      <td>NaN</td>\n      <td>NaN</td>\n      <td>NaN</td>\n      <td>NaN</td>\n      <td>NaN</td>\n      <td>NaN</td>\n      <td>...</td>\n      <td>-1.0</td>\n      <td>-1.0</td>\n      <td>-1.0</td>\n      <td>-1.000</td>\n      <td>1</td>\n      <td>-1.0</td>\n      <td>-1.0</td>\n      <td>103.0</td>\n      <td>14.0</td>\n      <td>0</td>\n    </tr>\n    <tr>\n      <th>...</th>\n      <td>...</td>\n      <td>...</td>\n      <td>...</td>\n      <td>...</td>\n      <td>...</td>\n      <td>...</td>\n      <td>...</td>\n      <td>...</td>\n      <td>...</td>\n      <td>...</td>\n      <td>...</td>\n      <td>...</td>\n      <td>...</td>\n      <td>...</td>\n      <td>...</td>\n      <td>...</td>\n      <td>...</td>\n      <td>...</td>\n      <td>...</td>\n      <td>...</td>\n      <td>...</td>\n    </tr>\n    <tr>\n      <th>39457</th>\n      <td>3353121</td>\n      <td>77.0</td>\n      <td>0.0</td>\n      <td>NaN</td>\n      <td>NaN</td>\n      <td>NaN</td>\n      <td>NaN</td>\n      <td>NaN</td>\n      <td>NaN</td>\n      <td>NaN</td>\n      <td>...</td>\n      <td>23.0</td>\n      <td>-1.0</td>\n      <td>-1.0</td>\n      <td>-1.000</td>\n      <td>0</td>\n      <td>140.0</td>\n      <td>30.0</td>\n      <td>185.0</td>\n      <td>51.0</td>\n      <td>0</td>\n    </tr>\n    <tr>\n      <th>39458</th>\n      <td>3353197</td>\n      <td>66.0</td>\n      <td>0.0</td>\n      <td>4.2</td>\n      <td>380.0</td>\n      <td>24.2</td>\n      <td>116.0</td>\n      <td>NaN</td>\n      <td>NaN</td>\n      <td>NaN</td>\n      <td>...</td>\n      <td>25.0</td>\n      <td>-1.0</td>\n      <td>100.0</td>\n      <td>7.494</td>\n      <td>0</td>\n      <td>142.0</td>\n      <td>20.0</td>\n      <td>209.0</td>\n      <td>50.0</td>\n      <td>0</td>\n    </tr>\n    <tr>\n      <th>39459</th>\n      <td>3353198</td>\n      <td>66.0</td>\n      <td>0.0</td>\n      <td>4.3</td>\n      <td>NaN</td>\n      <td>NaN</td>\n      <td>NaN</td>\n      <td>NaN</td>\n      <td>NaN</td>\n      <td>NaN</td>\n      <td>...</td>\n      <td>50.0</td>\n      <td>0.5</td>\n      <td>50.0</td>\n      <td>7.502</td>\n      <td>0</td>\n      <td>150.0</td>\n      <td>24.0</td>\n      <td>210.0</td>\n      <td>38.0</td>\n      <td>1</td>\n    </tr>\n    <tr>\n      <th>39460</th>\n      <td>3353200</td>\n      <td>66.0</td>\n      <td>0.0</td>\n      <td>NaN</td>\n      <td>70.0</td>\n      <td>27.8</td>\n      <td>NaN</td>\n      <td>NaN</td>\n      <td>NaN</td>\n      <td>NaN</td>\n      <td>...</td>\n      <td>41.0</td>\n      <td>-1.0</td>\n      <td>30.0</td>\n      <td>7.412</td>\n      <td>0</td>\n      <td>134.0</td>\n      <td>20.0</td>\n      <td>221.0</td>\n      <td>30.0</td>\n      <td>1</td>\n    </tr>\n    <tr>\n      <th>39461</th>\n      <td>3353216</td>\n      <td>50.0</td>\n      <td>0.0</td>\n      <td>NaN</td>\n      <td>226.0</td>\n      <td>20.0</td>\n      <td>NaN</td>\n      <td>NaN</td>\n      <td>NaN</td>\n      <td>NaN</td>\n      <td>...</td>\n      <td>7.0</td>\n      <td>0.2</td>\n      <td>100.0</td>\n      <td>7.185</td>\n      <td>0</td>\n      <td>143.0</td>\n      <td>26.0</td>\n      <td>182.0</td>\n      <td>14.0</td>\n      <td>1</td>\n    </tr>\n  </tbody>\n</table>\n<p>39462 rows × 36 columns</p>\n</div>"
     },
     "execution_count": 172,
     "metadata": {},
     "output_type": "execute_result"
    }
   ],
   "source": [
    "merged_data = merged_data.dropna(subset=['Unnamed: 0'])\n",
    "merged_data"
   ],
   "metadata": {
    "collapsed": false
   }
  },
  {
   "cell_type": "code",
   "execution_count": 174,
   "outputs": [],
   "source": [
    "merged_data = merged_data.rename(columns={\n",
    "    'potassium': 'K',\n",
    "    'chloride': 'CL',\n",
    "    'PT - INR': 'INR',\n",
    "    'heartrate': 'HR',\n",
    "    'sodium': 'Na',\n",
    "    'hematocrit': 'HCT',\n",
    "    'glucose': 'GLU',\n",
    "    'respiratoryrate': 'RESP',\n",
    "    'vent': 'TV',\n",
    "    'gender_numeric':'gender',\n",
    "    'death_numeric':'death',\n",
    "    'icu_los_hours_less_than_24':'icu_loss'\n",
    "})"
   ],
   "metadata": {
    "collapsed": false
   }
  },
  {
   "cell_type": "code",
   "execution_count": 175,
   "outputs": [
    {
     "data": {
      "text/plain": "       patientunitstayid   age  gender    K   paO2  HCO3     CL  INR    PT  \\\n0                 141203  77.0     0.0  4.2     51    25  107.0  NaN   NaN   \n1                 141276  59.0     0.0  NaN    370    28    NaN  NaN   NaN   \n2                 141296  63.0     1.0  NaN     54    27    NaN  NaN   NaN   \n3                 141313  45.0     1.0  5.2     92    20  107.0  1.2  12.7   \n4                 141328  76.0     0.0  NaN    NaN   NaN    NaN  NaN   NaN   \n...                  ...   ...     ...  ...    ...   ...    ...  ...   ...   \n39457            3353121  77.0     0.0  NaN    NaN   NaN    NaN  NaN   NaN   \n39458            3353197  66.0     0.0  4.2  380.0  24.2  116.0  NaN   NaN   \n39459            3353198  66.0     0.0  4.3    NaN   NaN    NaN  NaN   NaN   \n39460            3353200  66.0     0.0  NaN   70.0  27.8    NaN  NaN   NaN   \n39461            3353216  50.0     0.0  NaN  226.0  20.0    NaN  NaN   NaN   \n\n      ALT (SGPT)  ...   bun bilirubin   fio2     ph  dialysis  sodium.1   HCT  \\\n0            NaN  ...   9.0      -1.0  100.0  7.450         0     145.0  36.9   \n1            NaN  ...  18.0      -1.0  100.0  7.420         0     135.0  33.5   \n2            NaN  ...  35.0       0.5   21.0  7.540         1     137.0  29.0   \n3             57  ...  15.0       0.2  100.0  7.140         0     142.0  37.9   \n4            NaN  ...  -1.0      -1.0   -1.0 -1.000         1      -1.0  -1.0   \n...          ...  ...   ...       ...    ...    ...       ...       ...   ...   \n39457        NaN  ...  23.0      -1.0   -1.0 -1.000         0     140.0  30.0   \n39458        NaN  ...  25.0      -1.0  100.0  7.494         0     142.0  20.0   \n39459        NaN  ...  50.0       0.5   50.0  7.502         0     150.0  24.0   \n39460        NaN  ...  41.0      -1.0   30.0  7.412         0     134.0  20.0   \n39461        NaN  ...   7.0       0.2  100.0  7.185         0     143.0  26.0   \n\n         GLU  RESP  TV  \n0      145.0  33.0   1  \n1      197.0  53.0   0  \n2      101.0  59.0   0  \n3      380.0  14.0   1  \n4      103.0  14.0   0  \n...      ...   ...  ..  \n39457  185.0  51.0   0  \n39458  209.0  50.0   0  \n39459  210.0  38.0   1  \n39460  221.0  30.0   1  \n39461  182.0  14.0   1  \n\n[39462 rows x 36 columns]",
      "text/html": "<div>\n<style scoped>\n    .dataframe tbody tr th:only-of-type {\n        vertical-align: middle;\n    }\n\n    .dataframe tbody tr th {\n        vertical-align: top;\n    }\n\n    .dataframe thead th {\n        text-align: right;\n    }\n</style>\n<table border=\"1\" class=\"dataframe\">\n  <thead>\n    <tr style=\"text-align: right;\">\n      <th></th>\n      <th>patientunitstayid</th>\n      <th>age</th>\n      <th>gender</th>\n      <th>K</th>\n      <th>paO2</th>\n      <th>HCO3</th>\n      <th>CL</th>\n      <th>INR</th>\n      <th>PT</th>\n      <th>ALT (SGPT)</th>\n      <th>...</th>\n      <th>bun</th>\n      <th>bilirubin</th>\n      <th>fio2</th>\n      <th>ph</th>\n      <th>dialysis</th>\n      <th>sodium.1</th>\n      <th>HCT</th>\n      <th>GLU</th>\n      <th>RESP</th>\n      <th>TV</th>\n    </tr>\n  </thead>\n  <tbody>\n    <tr>\n      <th>0</th>\n      <td>141203</td>\n      <td>77.0</td>\n      <td>0.0</td>\n      <td>4.2</td>\n      <td>51</td>\n      <td>25</td>\n      <td>107.0</td>\n      <td>NaN</td>\n      <td>NaN</td>\n      <td>NaN</td>\n      <td>...</td>\n      <td>9.0</td>\n      <td>-1.0</td>\n      <td>100.0</td>\n      <td>7.450</td>\n      <td>0</td>\n      <td>145.0</td>\n      <td>36.9</td>\n      <td>145.0</td>\n      <td>33.0</td>\n      <td>1</td>\n    </tr>\n    <tr>\n      <th>1</th>\n      <td>141276</td>\n      <td>59.0</td>\n      <td>0.0</td>\n      <td>NaN</td>\n      <td>370</td>\n      <td>28</td>\n      <td>NaN</td>\n      <td>NaN</td>\n      <td>NaN</td>\n      <td>NaN</td>\n      <td>...</td>\n      <td>18.0</td>\n      <td>-1.0</td>\n      <td>100.0</td>\n      <td>7.420</td>\n      <td>0</td>\n      <td>135.0</td>\n      <td>33.5</td>\n      <td>197.0</td>\n      <td>53.0</td>\n      <td>0</td>\n    </tr>\n    <tr>\n      <th>2</th>\n      <td>141296</td>\n      <td>63.0</td>\n      <td>1.0</td>\n      <td>NaN</td>\n      <td>54</td>\n      <td>27</td>\n      <td>NaN</td>\n      <td>NaN</td>\n      <td>NaN</td>\n      <td>NaN</td>\n      <td>...</td>\n      <td>35.0</td>\n      <td>0.5</td>\n      <td>21.0</td>\n      <td>7.540</td>\n      <td>1</td>\n      <td>137.0</td>\n      <td>29.0</td>\n      <td>101.0</td>\n      <td>59.0</td>\n      <td>0</td>\n    </tr>\n    <tr>\n      <th>3</th>\n      <td>141313</td>\n      <td>45.0</td>\n      <td>1.0</td>\n      <td>5.2</td>\n      <td>92</td>\n      <td>20</td>\n      <td>107.0</td>\n      <td>1.2</td>\n      <td>12.7</td>\n      <td>57</td>\n      <td>...</td>\n      <td>15.0</td>\n      <td>0.2</td>\n      <td>100.0</td>\n      <td>7.140</td>\n      <td>0</td>\n      <td>142.0</td>\n      <td>37.9</td>\n      <td>380.0</td>\n      <td>14.0</td>\n      <td>1</td>\n    </tr>\n    <tr>\n      <th>4</th>\n      <td>141328</td>\n      <td>76.0</td>\n      <td>0.0</td>\n      <td>NaN</td>\n      <td>NaN</td>\n      <td>NaN</td>\n      <td>NaN</td>\n      <td>NaN</td>\n      <td>NaN</td>\n      <td>NaN</td>\n      <td>...</td>\n      <td>-1.0</td>\n      <td>-1.0</td>\n      <td>-1.0</td>\n      <td>-1.000</td>\n      <td>1</td>\n      <td>-1.0</td>\n      <td>-1.0</td>\n      <td>103.0</td>\n      <td>14.0</td>\n      <td>0</td>\n    </tr>\n    <tr>\n      <th>...</th>\n      <td>...</td>\n      <td>...</td>\n      <td>...</td>\n      <td>...</td>\n      <td>...</td>\n      <td>...</td>\n      <td>...</td>\n      <td>...</td>\n      <td>...</td>\n      <td>...</td>\n      <td>...</td>\n      <td>...</td>\n      <td>...</td>\n      <td>...</td>\n      <td>...</td>\n      <td>...</td>\n      <td>...</td>\n      <td>...</td>\n      <td>...</td>\n      <td>...</td>\n      <td>...</td>\n    </tr>\n    <tr>\n      <th>39457</th>\n      <td>3353121</td>\n      <td>77.0</td>\n      <td>0.0</td>\n      <td>NaN</td>\n      <td>NaN</td>\n      <td>NaN</td>\n      <td>NaN</td>\n      <td>NaN</td>\n      <td>NaN</td>\n      <td>NaN</td>\n      <td>...</td>\n      <td>23.0</td>\n      <td>-1.0</td>\n      <td>-1.0</td>\n      <td>-1.000</td>\n      <td>0</td>\n      <td>140.0</td>\n      <td>30.0</td>\n      <td>185.0</td>\n      <td>51.0</td>\n      <td>0</td>\n    </tr>\n    <tr>\n      <th>39458</th>\n      <td>3353197</td>\n      <td>66.0</td>\n      <td>0.0</td>\n      <td>4.2</td>\n      <td>380.0</td>\n      <td>24.2</td>\n      <td>116.0</td>\n      <td>NaN</td>\n      <td>NaN</td>\n      <td>NaN</td>\n      <td>...</td>\n      <td>25.0</td>\n      <td>-1.0</td>\n      <td>100.0</td>\n      <td>7.494</td>\n      <td>0</td>\n      <td>142.0</td>\n      <td>20.0</td>\n      <td>209.0</td>\n      <td>50.0</td>\n      <td>0</td>\n    </tr>\n    <tr>\n      <th>39459</th>\n      <td>3353198</td>\n      <td>66.0</td>\n      <td>0.0</td>\n      <td>4.3</td>\n      <td>NaN</td>\n      <td>NaN</td>\n      <td>NaN</td>\n      <td>NaN</td>\n      <td>NaN</td>\n      <td>NaN</td>\n      <td>...</td>\n      <td>50.0</td>\n      <td>0.5</td>\n      <td>50.0</td>\n      <td>7.502</td>\n      <td>0</td>\n      <td>150.0</td>\n      <td>24.0</td>\n      <td>210.0</td>\n      <td>38.0</td>\n      <td>1</td>\n    </tr>\n    <tr>\n      <th>39460</th>\n      <td>3353200</td>\n      <td>66.0</td>\n      <td>0.0</td>\n      <td>NaN</td>\n      <td>70.0</td>\n      <td>27.8</td>\n      <td>NaN</td>\n      <td>NaN</td>\n      <td>NaN</td>\n      <td>NaN</td>\n      <td>...</td>\n      <td>41.0</td>\n      <td>-1.0</td>\n      <td>30.0</td>\n      <td>7.412</td>\n      <td>0</td>\n      <td>134.0</td>\n      <td>20.0</td>\n      <td>221.0</td>\n      <td>30.0</td>\n      <td>1</td>\n    </tr>\n    <tr>\n      <th>39461</th>\n      <td>3353216</td>\n      <td>50.0</td>\n      <td>0.0</td>\n      <td>NaN</td>\n      <td>226.0</td>\n      <td>20.0</td>\n      <td>NaN</td>\n      <td>NaN</td>\n      <td>NaN</td>\n      <td>NaN</td>\n      <td>...</td>\n      <td>7.0</td>\n      <td>0.2</td>\n      <td>100.0</td>\n      <td>7.185</td>\n      <td>0</td>\n      <td>143.0</td>\n      <td>26.0</td>\n      <td>182.0</td>\n      <td>14.0</td>\n      <td>1</td>\n    </tr>\n  </tbody>\n</table>\n<p>39462 rows × 36 columns</p>\n</div>"
     },
     "execution_count": 175,
     "metadata": {},
     "output_type": "execute_result"
    }
   ],
   "source": [
    "merged_data"
   ],
   "metadata": {
    "collapsed": false
   }
  },
  {
   "cell_type": "code",
   "execution_count": 176,
   "outputs": [
    {
     "data": {
      "text/plain": "        apachepredvarid  patientunitstayid  sicuday  saps3day1  saps3today  \\\n0               1794895             141168        1          0           0   \n1               2406430             141178        1          0           0   \n2               1790923             141194        1          0           0   \n3                 27799             141197        1          0           0   \n4               2406432             141203        1          0           0   \n...                 ...                ...      ...        ...         ...   \n171172           825962            3353235        1          0           0   \n171173           996721            3353237        1          0           0   \n171174           917301            3353251        1          0           0   \n171175          2418339            3353254        1          0           0   \n171176          1501038            3353263        1          0           0   \n\n        saps3yesterday  gender  teachtype  region  bedcount  ...  creatinine  \\\n0                    0       1          0       3        12  ...        2.30   \n1                    0       1          0       3         9  ...       -1.00   \n2                    0       0          0       3        38  ...        2.51   \n3                    0       0          0       3        30  ...       -1.00   \n4                    0       1          0       3        18  ...        0.56   \n...                ...     ...        ...     ...       ...  ...         ...   \n171172               0       0          0       3        23  ...       -1.00   \n171173               0       1          0       3        11  ...        1.07   \n171174               0       0          0       3        20  ...        2.43   \n171175               0       0          0       3        14  ...       -1.00   \n171176               0       0          0       3        11  ...       -1.00   \n\n        dischargelocation  visitnumber  amilocation  day1meds  day1verbal  \\\n0                       9            1           -1         0           5   \n1                       4            1           -1        -1          -1   \n2                       4            1           -1         0           4   \n3                       4            1           -1         0           5   \n4                       4            1           -1         0           1   \n...                   ...          ...          ...       ...         ...   \n171172                  8            1           -1         0           5   \n171173                  4            1           -1         0           4   \n171174                  8            1           -1         0           1   \n171175                  4            1           -1         0           5   \n171176                  8            1           -1         0           5   \n\n        day1motor day1eyes  day1pao2  day1fio2  \n0               6        4      -1.0      -1.0  \n1              -1       -1      -1.0      -1.0  \n2               6        3      -1.0      -1.0  \n3               6        4      -1.0      -1.0  \n4               3        1      51.0     100.0  \n...           ...      ...       ...       ...  \n171172          6        4      -1.0      -1.0  \n171173          6        4      -1.0      -1.0  \n171174          1        1      80.0     100.0  \n171175          6        4      -1.0      -1.0  \n171176          6        4      -1.0      -1.0  \n\n[171177 rows x 51 columns]",
      "text/html": "<div>\n<style scoped>\n    .dataframe tbody tr th:only-of-type {\n        vertical-align: middle;\n    }\n\n    .dataframe tbody tr th {\n        vertical-align: top;\n    }\n\n    .dataframe thead th {\n        text-align: right;\n    }\n</style>\n<table border=\"1\" class=\"dataframe\">\n  <thead>\n    <tr style=\"text-align: right;\">\n      <th></th>\n      <th>apachepredvarid</th>\n      <th>patientunitstayid</th>\n      <th>sicuday</th>\n      <th>saps3day1</th>\n      <th>saps3today</th>\n      <th>saps3yesterday</th>\n      <th>gender</th>\n      <th>teachtype</th>\n      <th>region</th>\n      <th>bedcount</th>\n      <th>...</th>\n      <th>creatinine</th>\n      <th>dischargelocation</th>\n      <th>visitnumber</th>\n      <th>amilocation</th>\n      <th>day1meds</th>\n      <th>day1verbal</th>\n      <th>day1motor</th>\n      <th>day1eyes</th>\n      <th>day1pao2</th>\n      <th>day1fio2</th>\n    </tr>\n  </thead>\n  <tbody>\n    <tr>\n      <th>0</th>\n      <td>1794895</td>\n      <td>141168</td>\n      <td>1</td>\n      <td>0</td>\n      <td>0</td>\n      <td>0</td>\n      <td>1</td>\n      <td>0</td>\n      <td>3</td>\n      <td>12</td>\n      <td>...</td>\n      <td>2.30</td>\n      <td>9</td>\n      <td>1</td>\n      <td>-1</td>\n      <td>0</td>\n      <td>5</td>\n      <td>6</td>\n      <td>4</td>\n      <td>-1.0</td>\n      <td>-1.0</td>\n    </tr>\n    <tr>\n      <th>1</th>\n      <td>2406430</td>\n      <td>141178</td>\n      <td>1</td>\n      <td>0</td>\n      <td>0</td>\n      <td>0</td>\n      <td>1</td>\n      <td>0</td>\n      <td>3</td>\n      <td>9</td>\n      <td>...</td>\n      <td>-1.00</td>\n      <td>4</td>\n      <td>1</td>\n      <td>-1</td>\n      <td>-1</td>\n      <td>-1</td>\n      <td>-1</td>\n      <td>-1</td>\n      <td>-1.0</td>\n      <td>-1.0</td>\n    </tr>\n    <tr>\n      <th>2</th>\n      <td>1790923</td>\n      <td>141194</td>\n      <td>1</td>\n      <td>0</td>\n      <td>0</td>\n      <td>0</td>\n      <td>0</td>\n      <td>0</td>\n      <td>3</td>\n      <td>38</td>\n      <td>...</td>\n      <td>2.51</td>\n      <td>4</td>\n      <td>1</td>\n      <td>-1</td>\n      <td>0</td>\n      <td>4</td>\n      <td>6</td>\n      <td>3</td>\n      <td>-1.0</td>\n      <td>-1.0</td>\n    </tr>\n    <tr>\n      <th>3</th>\n      <td>27799</td>\n      <td>141197</td>\n      <td>1</td>\n      <td>0</td>\n      <td>0</td>\n      <td>0</td>\n      <td>0</td>\n      <td>0</td>\n      <td>3</td>\n      <td>30</td>\n      <td>...</td>\n      <td>-1.00</td>\n      <td>4</td>\n      <td>1</td>\n      <td>-1</td>\n      <td>0</td>\n      <td>5</td>\n      <td>6</td>\n      <td>4</td>\n      <td>-1.0</td>\n      <td>-1.0</td>\n    </tr>\n    <tr>\n      <th>4</th>\n      <td>2406432</td>\n      <td>141203</td>\n      <td>1</td>\n      <td>0</td>\n      <td>0</td>\n      <td>0</td>\n      <td>1</td>\n      <td>0</td>\n      <td>3</td>\n      <td>18</td>\n      <td>...</td>\n      <td>0.56</td>\n      <td>4</td>\n      <td>1</td>\n      <td>-1</td>\n      <td>0</td>\n      <td>1</td>\n      <td>3</td>\n      <td>1</td>\n      <td>51.0</td>\n      <td>100.0</td>\n    </tr>\n    <tr>\n      <th>...</th>\n      <td>...</td>\n      <td>...</td>\n      <td>...</td>\n      <td>...</td>\n      <td>...</td>\n      <td>...</td>\n      <td>...</td>\n      <td>...</td>\n      <td>...</td>\n      <td>...</td>\n      <td>...</td>\n      <td>...</td>\n      <td>...</td>\n      <td>...</td>\n      <td>...</td>\n      <td>...</td>\n      <td>...</td>\n      <td>...</td>\n      <td>...</td>\n      <td>...</td>\n      <td>...</td>\n    </tr>\n    <tr>\n      <th>171172</th>\n      <td>825962</td>\n      <td>3353235</td>\n      <td>1</td>\n      <td>0</td>\n      <td>0</td>\n      <td>0</td>\n      <td>0</td>\n      <td>0</td>\n      <td>3</td>\n      <td>23</td>\n      <td>...</td>\n      <td>-1.00</td>\n      <td>8</td>\n      <td>1</td>\n      <td>-1</td>\n      <td>0</td>\n      <td>5</td>\n      <td>6</td>\n      <td>4</td>\n      <td>-1.0</td>\n      <td>-1.0</td>\n    </tr>\n    <tr>\n      <th>171173</th>\n      <td>996721</td>\n      <td>3353237</td>\n      <td>1</td>\n      <td>0</td>\n      <td>0</td>\n      <td>0</td>\n      <td>1</td>\n      <td>0</td>\n      <td>3</td>\n      <td>11</td>\n      <td>...</td>\n      <td>1.07</td>\n      <td>4</td>\n      <td>1</td>\n      <td>-1</td>\n      <td>0</td>\n      <td>4</td>\n      <td>6</td>\n      <td>4</td>\n      <td>-1.0</td>\n      <td>-1.0</td>\n    </tr>\n    <tr>\n      <th>171174</th>\n      <td>917301</td>\n      <td>3353251</td>\n      <td>1</td>\n      <td>0</td>\n      <td>0</td>\n      <td>0</td>\n      <td>0</td>\n      <td>0</td>\n      <td>3</td>\n      <td>20</td>\n      <td>...</td>\n      <td>2.43</td>\n      <td>8</td>\n      <td>1</td>\n      <td>-1</td>\n      <td>0</td>\n      <td>1</td>\n      <td>1</td>\n      <td>1</td>\n      <td>80.0</td>\n      <td>100.0</td>\n    </tr>\n    <tr>\n      <th>171175</th>\n      <td>2418339</td>\n      <td>3353254</td>\n      <td>1</td>\n      <td>0</td>\n      <td>0</td>\n      <td>0</td>\n      <td>0</td>\n      <td>0</td>\n      <td>3</td>\n      <td>14</td>\n      <td>...</td>\n      <td>-1.00</td>\n      <td>4</td>\n      <td>1</td>\n      <td>-1</td>\n      <td>0</td>\n      <td>5</td>\n      <td>6</td>\n      <td>4</td>\n      <td>-1.0</td>\n      <td>-1.0</td>\n    </tr>\n    <tr>\n      <th>171176</th>\n      <td>1501038</td>\n      <td>3353263</td>\n      <td>1</td>\n      <td>0</td>\n      <td>0</td>\n      <td>0</td>\n      <td>0</td>\n      <td>0</td>\n      <td>3</td>\n      <td>11</td>\n      <td>...</td>\n      <td>-1.00</td>\n      <td>8</td>\n      <td>1</td>\n      <td>-1</td>\n      <td>0</td>\n      <td>5</td>\n      <td>6</td>\n      <td>4</td>\n      <td>-1.0</td>\n      <td>-1.0</td>\n    </tr>\n  </tbody>\n</table>\n<p>171177 rows × 51 columns</p>\n</div>"
     },
     "execution_count": 176,
     "metadata": {},
     "output_type": "execute_result"
    }
   ],
   "source": [
    "apache=pd.read_csv('F:\\\\TrainTest\\\\EICU\\Eicu_Data\\\\apachePredVar.csv')\n",
    "apache"
   ],
   "metadata": {
    "collapsed": false
   }
  },
  {
   "cell_type": "code",
   "execution_count": 177,
   "outputs": [
    {
     "data": {
      "text/plain": "        patientunitstayid  ventday1\n0                  141168         0\n1                  141178         0\n2                  141194         0\n3                  141197         0\n4                  141203         1\n...                   ...       ...\n171172            3353235         0\n171173            3353237         0\n171174            3353251         1\n171175            3353254         0\n171176            3353263         0\n\n[171177 rows x 2 columns]",
      "text/html": "<div>\n<style scoped>\n    .dataframe tbody tr th:only-of-type {\n        vertical-align: middle;\n    }\n\n    .dataframe tbody tr th {\n        vertical-align: top;\n    }\n\n    .dataframe thead th {\n        text-align: right;\n    }\n</style>\n<table border=\"1\" class=\"dataframe\">\n  <thead>\n    <tr style=\"text-align: right;\">\n      <th></th>\n      <th>patientunitstayid</th>\n      <th>ventday1</th>\n    </tr>\n  </thead>\n  <tbody>\n    <tr>\n      <th>0</th>\n      <td>141168</td>\n      <td>0</td>\n    </tr>\n    <tr>\n      <th>1</th>\n      <td>141178</td>\n      <td>0</td>\n    </tr>\n    <tr>\n      <th>2</th>\n      <td>141194</td>\n      <td>0</td>\n    </tr>\n    <tr>\n      <th>3</th>\n      <td>141197</td>\n      <td>0</td>\n    </tr>\n    <tr>\n      <th>4</th>\n      <td>141203</td>\n      <td>1</td>\n    </tr>\n    <tr>\n      <th>...</th>\n      <td>...</td>\n      <td>...</td>\n    </tr>\n    <tr>\n      <th>171172</th>\n      <td>3353235</td>\n      <td>0</td>\n    </tr>\n    <tr>\n      <th>171173</th>\n      <td>3353237</td>\n      <td>0</td>\n    </tr>\n    <tr>\n      <th>171174</th>\n      <td>3353251</td>\n      <td>1</td>\n    </tr>\n    <tr>\n      <th>171175</th>\n      <td>3353254</td>\n      <td>0</td>\n    </tr>\n    <tr>\n      <th>171176</th>\n      <td>3353263</td>\n      <td>0</td>\n    </tr>\n  </tbody>\n</table>\n<p>171177 rows × 2 columns</p>\n</div>"
     },
     "execution_count": 177,
     "metadata": {},
     "output_type": "execute_result"
    }
   ],
   "source": [
    "apache=apache[['patientunitstayid','ventday1']]\n",
    "apache"
   ],
   "metadata": {
    "collapsed": false
   }
  },
  {
   "cell_type": "code",
   "execution_count": 178,
   "outputs": [
    {
     "data": {
      "text/plain": "       patientunitstayid   age  gender    K   paO2  HCO3     CL  INR    PT  \\\n0                 141203  77.0     0.0  4.2     51    25  107.0  NaN   NaN   \n1                 141276  59.0     0.0  NaN    370    28    NaN  NaN   NaN   \n2                 141296  63.0     1.0  NaN     54    27    NaN  NaN   NaN   \n3                 141313  45.0     1.0  5.2     92    20  107.0  1.2  12.7   \n4                 141328  76.0     0.0  NaN    NaN   NaN    NaN  NaN   NaN   \n...                  ...   ...     ...  ...    ...   ...    ...  ...   ...   \n39457            3353121  77.0     0.0  NaN    NaN   NaN    NaN  NaN   NaN   \n39458            3353197  66.0     0.0  4.2  380.0  24.2  116.0  NaN   NaN   \n39459            3353198  66.0     0.0  4.3    NaN   NaN    NaN  NaN   NaN   \n39460            3353200  66.0     0.0  NaN   70.0  27.8    NaN  NaN   NaN   \n39461            3353216  50.0     0.0  NaN  226.0  20.0    NaN  NaN   NaN   \n\n      ALT (SGPT)  ... bilirubin   fio2     ph dialysis  sodium.1   HCT    GLU  \\\n0            NaN  ...      -1.0  100.0  7.450        0     145.0  36.9  145.0   \n1            NaN  ...      -1.0  100.0  7.420        0     135.0  33.5  197.0   \n2            NaN  ...       0.5   21.0  7.540        1     137.0  29.0  101.0   \n3             57  ...       0.2  100.0  7.140        0     142.0  37.9  380.0   \n4            NaN  ...      -1.0   -1.0 -1.000        1      -1.0  -1.0  103.0   \n...          ...  ...       ...    ...    ...      ...       ...   ...    ...   \n39457        NaN  ...      -1.0   -1.0 -1.000        0     140.0  30.0  185.0   \n39458        NaN  ...      -1.0  100.0  7.494        0     142.0  20.0  209.0   \n39459        NaN  ...       0.5   50.0  7.502        0     150.0  24.0  210.0   \n39460        NaN  ...      -1.0   30.0  7.412        0     134.0  20.0  221.0   \n39461        NaN  ...       0.2  100.0  7.185        0     143.0  26.0  182.0   \n\n       RESP  TV  ventday1  \n0      33.0   1         1  \n1      53.0   0         0  \n2      59.0   0         0  \n3      14.0   1         1  \n4      14.0   0         0  \n...     ...  ..       ...  \n39457  51.0   0         0  \n39458  50.0   0         0  \n39459  38.0   1         1  \n39460  30.0   1         1  \n39461  14.0   1         1  \n\n[39462 rows x 37 columns]",
      "text/html": "<div>\n<style scoped>\n    .dataframe tbody tr th:only-of-type {\n        vertical-align: middle;\n    }\n\n    .dataframe tbody tr th {\n        vertical-align: top;\n    }\n\n    .dataframe thead th {\n        text-align: right;\n    }\n</style>\n<table border=\"1\" class=\"dataframe\">\n  <thead>\n    <tr style=\"text-align: right;\">\n      <th></th>\n      <th>patientunitstayid</th>\n      <th>age</th>\n      <th>gender</th>\n      <th>K</th>\n      <th>paO2</th>\n      <th>HCO3</th>\n      <th>CL</th>\n      <th>INR</th>\n      <th>PT</th>\n      <th>ALT (SGPT)</th>\n      <th>...</th>\n      <th>bilirubin</th>\n      <th>fio2</th>\n      <th>ph</th>\n      <th>dialysis</th>\n      <th>sodium.1</th>\n      <th>HCT</th>\n      <th>GLU</th>\n      <th>RESP</th>\n      <th>TV</th>\n      <th>ventday1</th>\n    </tr>\n  </thead>\n  <tbody>\n    <tr>\n      <th>0</th>\n      <td>141203</td>\n      <td>77.0</td>\n      <td>0.0</td>\n      <td>4.2</td>\n      <td>51</td>\n      <td>25</td>\n      <td>107.0</td>\n      <td>NaN</td>\n      <td>NaN</td>\n      <td>NaN</td>\n      <td>...</td>\n      <td>-1.0</td>\n      <td>100.0</td>\n      <td>7.450</td>\n      <td>0</td>\n      <td>145.0</td>\n      <td>36.9</td>\n      <td>145.0</td>\n      <td>33.0</td>\n      <td>1</td>\n      <td>1</td>\n    </tr>\n    <tr>\n      <th>1</th>\n      <td>141276</td>\n      <td>59.0</td>\n      <td>0.0</td>\n      <td>NaN</td>\n      <td>370</td>\n      <td>28</td>\n      <td>NaN</td>\n      <td>NaN</td>\n      <td>NaN</td>\n      <td>NaN</td>\n      <td>...</td>\n      <td>-1.0</td>\n      <td>100.0</td>\n      <td>7.420</td>\n      <td>0</td>\n      <td>135.0</td>\n      <td>33.5</td>\n      <td>197.0</td>\n      <td>53.0</td>\n      <td>0</td>\n      <td>0</td>\n    </tr>\n    <tr>\n      <th>2</th>\n      <td>141296</td>\n      <td>63.0</td>\n      <td>1.0</td>\n      <td>NaN</td>\n      <td>54</td>\n      <td>27</td>\n      <td>NaN</td>\n      <td>NaN</td>\n      <td>NaN</td>\n      <td>NaN</td>\n      <td>...</td>\n      <td>0.5</td>\n      <td>21.0</td>\n      <td>7.540</td>\n      <td>1</td>\n      <td>137.0</td>\n      <td>29.0</td>\n      <td>101.0</td>\n      <td>59.0</td>\n      <td>0</td>\n      <td>0</td>\n    </tr>\n    <tr>\n      <th>3</th>\n      <td>141313</td>\n      <td>45.0</td>\n      <td>1.0</td>\n      <td>5.2</td>\n      <td>92</td>\n      <td>20</td>\n      <td>107.0</td>\n      <td>1.2</td>\n      <td>12.7</td>\n      <td>57</td>\n      <td>...</td>\n      <td>0.2</td>\n      <td>100.0</td>\n      <td>7.140</td>\n      <td>0</td>\n      <td>142.0</td>\n      <td>37.9</td>\n      <td>380.0</td>\n      <td>14.0</td>\n      <td>1</td>\n      <td>1</td>\n    </tr>\n    <tr>\n      <th>4</th>\n      <td>141328</td>\n      <td>76.0</td>\n      <td>0.0</td>\n      <td>NaN</td>\n      <td>NaN</td>\n      <td>NaN</td>\n      <td>NaN</td>\n      <td>NaN</td>\n      <td>NaN</td>\n      <td>NaN</td>\n      <td>...</td>\n      <td>-1.0</td>\n      <td>-1.0</td>\n      <td>-1.000</td>\n      <td>1</td>\n      <td>-1.0</td>\n      <td>-1.0</td>\n      <td>103.0</td>\n      <td>14.0</td>\n      <td>0</td>\n      <td>0</td>\n    </tr>\n    <tr>\n      <th>...</th>\n      <td>...</td>\n      <td>...</td>\n      <td>...</td>\n      <td>...</td>\n      <td>...</td>\n      <td>...</td>\n      <td>...</td>\n      <td>...</td>\n      <td>...</td>\n      <td>...</td>\n      <td>...</td>\n      <td>...</td>\n      <td>...</td>\n      <td>...</td>\n      <td>...</td>\n      <td>...</td>\n      <td>...</td>\n      <td>...</td>\n      <td>...</td>\n      <td>...</td>\n      <td>...</td>\n    </tr>\n    <tr>\n      <th>39457</th>\n      <td>3353121</td>\n      <td>77.0</td>\n      <td>0.0</td>\n      <td>NaN</td>\n      <td>NaN</td>\n      <td>NaN</td>\n      <td>NaN</td>\n      <td>NaN</td>\n      <td>NaN</td>\n      <td>NaN</td>\n      <td>...</td>\n      <td>-1.0</td>\n      <td>-1.0</td>\n      <td>-1.000</td>\n      <td>0</td>\n      <td>140.0</td>\n      <td>30.0</td>\n      <td>185.0</td>\n      <td>51.0</td>\n      <td>0</td>\n      <td>0</td>\n    </tr>\n    <tr>\n      <th>39458</th>\n      <td>3353197</td>\n      <td>66.0</td>\n      <td>0.0</td>\n      <td>4.2</td>\n      <td>380.0</td>\n      <td>24.2</td>\n      <td>116.0</td>\n      <td>NaN</td>\n      <td>NaN</td>\n      <td>NaN</td>\n      <td>...</td>\n      <td>-1.0</td>\n      <td>100.0</td>\n      <td>7.494</td>\n      <td>0</td>\n      <td>142.0</td>\n      <td>20.0</td>\n      <td>209.0</td>\n      <td>50.0</td>\n      <td>0</td>\n      <td>0</td>\n    </tr>\n    <tr>\n      <th>39459</th>\n      <td>3353198</td>\n      <td>66.0</td>\n      <td>0.0</td>\n      <td>4.3</td>\n      <td>NaN</td>\n      <td>NaN</td>\n      <td>NaN</td>\n      <td>NaN</td>\n      <td>NaN</td>\n      <td>NaN</td>\n      <td>...</td>\n      <td>0.5</td>\n      <td>50.0</td>\n      <td>7.502</td>\n      <td>0</td>\n      <td>150.0</td>\n      <td>24.0</td>\n      <td>210.0</td>\n      <td>38.0</td>\n      <td>1</td>\n      <td>1</td>\n    </tr>\n    <tr>\n      <th>39460</th>\n      <td>3353200</td>\n      <td>66.0</td>\n      <td>0.0</td>\n      <td>NaN</td>\n      <td>70.0</td>\n      <td>27.8</td>\n      <td>NaN</td>\n      <td>NaN</td>\n      <td>NaN</td>\n      <td>NaN</td>\n      <td>...</td>\n      <td>-1.0</td>\n      <td>30.0</td>\n      <td>7.412</td>\n      <td>0</td>\n      <td>134.0</td>\n      <td>20.0</td>\n      <td>221.0</td>\n      <td>30.0</td>\n      <td>1</td>\n      <td>1</td>\n    </tr>\n    <tr>\n      <th>39461</th>\n      <td>3353216</td>\n      <td>50.0</td>\n      <td>0.0</td>\n      <td>NaN</td>\n      <td>226.0</td>\n      <td>20.0</td>\n      <td>NaN</td>\n      <td>NaN</td>\n      <td>NaN</td>\n      <td>NaN</td>\n      <td>...</td>\n      <td>0.2</td>\n      <td>100.0</td>\n      <td>7.185</td>\n      <td>0</td>\n      <td>143.0</td>\n      <td>26.0</td>\n      <td>182.0</td>\n      <td>14.0</td>\n      <td>1</td>\n      <td>1</td>\n    </tr>\n  </tbody>\n</table>\n<p>39462 rows × 37 columns</p>\n</div>"
     },
     "execution_count": 178,
     "metadata": {},
     "output_type": "execute_result"
    }
   ],
   "source": [
    "merged_data = pd.merge(merged_data, apache, on='patientunitstayid', how='inner')  # 可以根据需要选择不同的连接方式，如 'inner', 'left', 'right', 'outer'\n",
    "merged_data"
   ],
   "metadata": {
    "collapsed": false
   }
  },
  {
   "cell_type": "code",
   "execution_count": 179,
   "outputs": [
    {
     "data": {
      "text/plain": "       patientunitstayid   age  gender    K   paO2  HCO3     CL  INR    PT  \\\n0                 141203  77.0     0.0  4.2     51    25  107.0  NaN   NaN   \n1                 141276  59.0     0.0  NaN    370    28    NaN  NaN   NaN   \n2                 141296  63.0     1.0  NaN     54    27    NaN  NaN   NaN   \n3                 141313  45.0     1.0  5.2     92    20  107.0  1.2  12.7   \n4                 141328  76.0     0.0  NaN    NaN   NaN    NaN  NaN   NaN   \n...                  ...   ...     ...  ...    ...   ...    ...  ...   ...   \n39457            3353121  77.0     0.0  NaN    NaN   NaN    NaN  NaN   NaN   \n39458            3353197  66.0     0.0  4.2  380.0  24.2  116.0  NaN   NaN   \n39459            3353198  66.0     0.0  4.3    NaN   NaN    NaN  NaN   NaN   \n39460            3353200  66.0     0.0  NaN   70.0  27.8    NaN  NaN   NaN   \n39461            3353216  50.0     0.0  NaN  226.0  20.0    NaN  NaN   NaN   \n\n      ALT (SGPT)  ... bilirubin   fio2     ph dialysis  sodium.1   HCT    GLU  \\\n0            NaN  ...      -1.0  100.0  7.450        0     145.0  36.9  145.0   \n1            NaN  ...      -1.0  100.0  7.420        0     135.0  33.5  197.0   \n2            NaN  ...       0.5   21.0  7.540        1     137.0  29.0  101.0   \n3             57  ...       0.2  100.0  7.140        0     142.0  37.9  380.0   \n4            NaN  ...      -1.0   -1.0 -1.000        1      -1.0  -1.0  103.0   \n...          ...  ...       ...    ...    ...      ...       ...   ...    ...   \n39457        NaN  ...      -1.0   -1.0 -1.000        0     140.0  30.0  185.0   \n39458        NaN  ...      -1.0  100.0  7.494        0     142.0  20.0  209.0   \n39459        NaN  ...       0.5   50.0  7.502        0     150.0  24.0  210.0   \n39460        NaN  ...      -1.0   30.0  7.412        0     134.0  20.0  221.0   \n39461        NaN  ...       0.2  100.0  7.185        0     143.0  26.0  182.0   \n\n       RESP  TV  PEEP  \n0      33.0   1     1  \n1      53.0   0     0  \n2      59.0   0     0  \n3      14.0   1     1  \n4      14.0   0     0  \n...     ...  ..   ...  \n39457  51.0   0     0  \n39458  50.0   0     0  \n39459  38.0   1     1  \n39460  30.0   1     1  \n39461  14.0   1     1  \n\n[39462 rows x 37 columns]",
      "text/html": "<div>\n<style scoped>\n    .dataframe tbody tr th:only-of-type {\n        vertical-align: middle;\n    }\n\n    .dataframe tbody tr th {\n        vertical-align: top;\n    }\n\n    .dataframe thead th {\n        text-align: right;\n    }\n</style>\n<table border=\"1\" class=\"dataframe\">\n  <thead>\n    <tr style=\"text-align: right;\">\n      <th></th>\n      <th>patientunitstayid</th>\n      <th>age</th>\n      <th>gender</th>\n      <th>K</th>\n      <th>paO2</th>\n      <th>HCO3</th>\n      <th>CL</th>\n      <th>INR</th>\n      <th>PT</th>\n      <th>ALT (SGPT)</th>\n      <th>...</th>\n      <th>bilirubin</th>\n      <th>fio2</th>\n      <th>ph</th>\n      <th>dialysis</th>\n      <th>sodium.1</th>\n      <th>HCT</th>\n      <th>GLU</th>\n      <th>RESP</th>\n      <th>TV</th>\n      <th>PEEP</th>\n    </tr>\n  </thead>\n  <tbody>\n    <tr>\n      <th>0</th>\n      <td>141203</td>\n      <td>77.0</td>\n      <td>0.0</td>\n      <td>4.2</td>\n      <td>51</td>\n      <td>25</td>\n      <td>107.0</td>\n      <td>NaN</td>\n      <td>NaN</td>\n      <td>NaN</td>\n      <td>...</td>\n      <td>-1.0</td>\n      <td>100.0</td>\n      <td>7.450</td>\n      <td>0</td>\n      <td>145.0</td>\n      <td>36.9</td>\n      <td>145.0</td>\n      <td>33.0</td>\n      <td>1</td>\n      <td>1</td>\n    </tr>\n    <tr>\n      <th>1</th>\n      <td>141276</td>\n      <td>59.0</td>\n      <td>0.0</td>\n      <td>NaN</td>\n      <td>370</td>\n      <td>28</td>\n      <td>NaN</td>\n      <td>NaN</td>\n      <td>NaN</td>\n      <td>NaN</td>\n      <td>...</td>\n      <td>-1.0</td>\n      <td>100.0</td>\n      <td>7.420</td>\n      <td>0</td>\n      <td>135.0</td>\n      <td>33.5</td>\n      <td>197.0</td>\n      <td>53.0</td>\n      <td>0</td>\n      <td>0</td>\n    </tr>\n    <tr>\n      <th>2</th>\n      <td>141296</td>\n      <td>63.0</td>\n      <td>1.0</td>\n      <td>NaN</td>\n      <td>54</td>\n      <td>27</td>\n      <td>NaN</td>\n      <td>NaN</td>\n      <td>NaN</td>\n      <td>NaN</td>\n      <td>...</td>\n      <td>0.5</td>\n      <td>21.0</td>\n      <td>7.540</td>\n      <td>1</td>\n      <td>137.0</td>\n      <td>29.0</td>\n      <td>101.0</td>\n      <td>59.0</td>\n      <td>0</td>\n      <td>0</td>\n    </tr>\n    <tr>\n      <th>3</th>\n      <td>141313</td>\n      <td>45.0</td>\n      <td>1.0</td>\n      <td>5.2</td>\n      <td>92</td>\n      <td>20</td>\n      <td>107.0</td>\n      <td>1.2</td>\n      <td>12.7</td>\n      <td>57</td>\n      <td>...</td>\n      <td>0.2</td>\n      <td>100.0</td>\n      <td>7.140</td>\n      <td>0</td>\n      <td>142.0</td>\n      <td>37.9</td>\n      <td>380.0</td>\n      <td>14.0</td>\n      <td>1</td>\n      <td>1</td>\n    </tr>\n    <tr>\n      <th>4</th>\n      <td>141328</td>\n      <td>76.0</td>\n      <td>0.0</td>\n      <td>NaN</td>\n      <td>NaN</td>\n      <td>NaN</td>\n      <td>NaN</td>\n      <td>NaN</td>\n      <td>NaN</td>\n      <td>NaN</td>\n      <td>...</td>\n      <td>-1.0</td>\n      <td>-1.0</td>\n      <td>-1.000</td>\n      <td>1</td>\n      <td>-1.0</td>\n      <td>-1.0</td>\n      <td>103.0</td>\n      <td>14.0</td>\n      <td>0</td>\n      <td>0</td>\n    </tr>\n    <tr>\n      <th>...</th>\n      <td>...</td>\n      <td>...</td>\n      <td>...</td>\n      <td>...</td>\n      <td>...</td>\n      <td>...</td>\n      <td>...</td>\n      <td>...</td>\n      <td>...</td>\n      <td>...</td>\n      <td>...</td>\n      <td>...</td>\n      <td>...</td>\n      <td>...</td>\n      <td>...</td>\n      <td>...</td>\n      <td>...</td>\n      <td>...</td>\n      <td>...</td>\n      <td>...</td>\n      <td>...</td>\n    </tr>\n    <tr>\n      <th>39457</th>\n      <td>3353121</td>\n      <td>77.0</td>\n      <td>0.0</td>\n      <td>NaN</td>\n      <td>NaN</td>\n      <td>NaN</td>\n      <td>NaN</td>\n      <td>NaN</td>\n      <td>NaN</td>\n      <td>NaN</td>\n      <td>...</td>\n      <td>-1.0</td>\n      <td>-1.0</td>\n      <td>-1.000</td>\n      <td>0</td>\n      <td>140.0</td>\n      <td>30.0</td>\n      <td>185.0</td>\n      <td>51.0</td>\n      <td>0</td>\n      <td>0</td>\n    </tr>\n    <tr>\n      <th>39458</th>\n      <td>3353197</td>\n      <td>66.0</td>\n      <td>0.0</td>\n      <td>4.2</td>\n      <td>380.0</td>\n      <td>24.2</td>\n      <td>116.0</td>\n      <td>NaN</td>\n      <td>NaN</td>\n      <td>NaN</td>\n      <td>...</td>\n      <td>-1.0</td>\n      <td>100.0</td>\n      <td>7.494</td>\n      <td>0</td>\n      <td>142.0</td>\n      <td>20.0</td>\n      <td>209.0</td>\n      <td>50.0</td>\n      <td>0</td>\n      <td>0</td>\n    </tr>\n    <tr>\n      <th>39459</th>\n      <td>3353198</td>\n      <td>66.0</td>\n      <td>0.0</td>\n      <td>4.3</td>\n      <td>NaN</td>\n      <td>NaN</td>\n      <td>NaN</td>\n      <td>NaN</td>\n      <td>NaN</td>\n      <td>NaN</td>\n      <td>...</td>\n      <td>0.5</td>\n      <td>50.0</td>\n      <td>7.502</td>\n      <td>0</td>\n      <td>150.0</td>\n      <td>24.0</td>\n      <td>210.0</td>\n      <td>38.0</td>\n      <td>1</td>\n      <td>1</td>\n    </tr>\n    <tr>\n      <th>39460</th>\n      <td>3353200</td>\n      <td>66.0</td>\n      <td>0.0</td>\n      <td>NaN</td>\n      <td>70.0</td>\n      <td>27.8</td>\n      <td>NaN</td>\n      <td>NaN</td>\n      <td>NaN</td>\n      <td>NaN</td>\n      <td>...</td>\n      <td>-1.0</td>\n      <td>30.0</td>\n      <td>7.412</td>\n      <td>0</td>\n      <td>134.0</td>\n      <td>20.0</td>\n      <td>221.0</td>\n      <td>30.0</td>\n      <td>1</td>\n      <td>1</td>\n    </tr>\n    <tr>\n      <th>39461</th>\n      <td>3353216</td>\n      <td>50.0</td>\n      <td>0.0</td>\n      <td>NaN</td>\n      <td>226.0</td>\n      <td>20.0</td>\n      <td>NaN</td>\n      <td>NaN</td>\n      <td>NaN</td>\n      <td>NaN</td>\n      <td>...</td>\n      <td>0.2</td>\n      <td>100.0</td>\n      <td>7.185</td>\n      <td>0</td>\n      <td>143.0</td>\n      <td>26.0</td>\n      <td>182.0</td>\n      <td>14.0</td>\n      <td>1</td>\n      <td>1</td>\n    </tr>\n  </tbody>\n</table>\n<p>39462 rows × 37 columns</p>\n</div>"
     },
     "execution_count": 179,
     "metadata": {},
     "output_type": "execute_result"
    }
   ],
   "source": [
    "merged_data = merged_data.rename(columns={\n",
    "    'ventday1': 'PEEP',\n",
    "\n",
    "})\n",
    "merged_data"
   ],
   "metadata": {
    "collapsed": false
   }
  },
  {
   "cell_type": "code",
   "execution_count": 180,
   "outputs": [
    {
     "name": "stdout",
     "output_type": "stream",
     "text": [
      "<class 'pandas.core.frame.DataFrame'>\n",
      "Int64Index: 39462 entries, 0 to 39461\n",
      "Data columns (total 37 columns):\n",
      " #   Column             Non-Null Count  Dtype  \n",
      "---  ------             --------------  -----  \n",
      " 0   patientunitstayid  39462 non-null  int64  \n",
      " 1   age                39461 non-null  float64\n",
      " 2   gender             39456 non-null  float64\n",
      " 3   K                  10914 non-null  object \n",
      " 4   paO2               8648 non-null   object \n",
      " 5   HCO3               7914 non-null   object \n",
      " 6   CL                 8566 non-null   float64\n",
      " 7   INR                5790 non-null   object \n",
      " 8   PT                 5491 non-null   object \n",
      " 9   ALT (SGPT)         3224 non-null   object \n",
      " 10  BUN                8505 non-null   object \n",
      " 11  PTT                4915 non-null   object \n",
      " 12  paCO2              8529 non-null   object \n",
      " 13  paO2               8648 non-null   object \n",
      " 14  death              39462 non-null  float64\n",
      " 15  icu_loss           39462 non-null  int64  \n",
      " 16  Unnamed: 0         39462 non-null  int64  \n",
      " 17  apacheapsvarid     39462 non-null  int64  \n",
      " 18  urine              39462 non-null  float64\n",
      " 19  HR                 39462 non-null  int64  \n",
      " 20  wbc                39462 non-null  float64\n",
      " 21  temperature        39462 non-null  float64\n",
      " 22  Na                 39462 non-null  float64\n",
      " 23  creatinine         39462 non-null  float64\n",
      " 24  albumin            39462 non-null  float64\n",
      " 25  pco2               39462 non-null  float64\n",
      " 26  bun                39462 non-null  float64\n",
      " 27  bilirubin          39462 non-null  float64\n",
      " 28  fio2               39462 non-null  float64\n",
      " 29  ph                 39462 non-null  float64\n",
      " 30  dialysis           39462 non-null  int64  \n",
      " 31  sodium.1           39462 non-null  float64\n",
      " 32  HCT                39462 non-null  float64\n",
      " 33  GLU                39462 non-null  float64\n",
      " 34  RESP               39462 non-null  float64\n",
      " 35  TV                 39462 non-null  int64  \n",
      " 36  PEEP               39462 non-null  int64  \n",
      "dtypes: float64(19), int64(8), object(10)\n",
      "memory usage: 11.4+ MB\n"
     ]
    }
   ],
   "source": [
    "merged_data.info()"
   ],
   "metadata": {
    "collapsed": false
   }
  },
  {
   "cell_type": "code",
   "execution_count": 181,
   "outputs": [
    {
     "data": {
      "text/plain": "        apachepatientresultsid  patientunitstayid  \\\n0                        26570             141168   \n1                        26571             141168   \n2                        53135             141194   \n3                        53136             141194   \n4                            8             141203   \n...                        ...                ...   \n297059                 3272802            3353251   \n297060                 3262173            3353254   \n297061                 3262174            3353254   \n297062                 3246241            3353263   \n297063                 3246240            3353263   \n\n                 physicianspeciality physicianinterventioncategory  \\\n0       critical care medicine (CCM)                       Unknown   \n1       critical care medicine (CCM)                       Unknown   \n2       critical care medicine (CCM)                       Unknown   \n3       critical care medicine (CCM)                       Unknown   \n4                        hospitalist                             I   \n...                              ...                           ...   \n297059                    cardiology                            II   \n297060                   hospitalist                            II   \n297061                   hospitalist                            II   \n297062                    nephrology                            II   \n297063                    nephrology                            II   \n\n        acutephysiologyscore  apachescore apacheversion  \\\n0                         49           65            IV   \n1                         49           65           IVa   \n2                         57           70            IV   \n3                         57           70           IVa   \n4                         73           90           IVa   \n...                      ...          ...           ...   \n297059                   142          158           IVa   \n297060                    18           35            IV   \n297061                    18           35           IVa   \n297062                    22           22           IVa   \n297063                    22           22            IV   \n\n        predictedicumortality actualicumortality  predictediculos  ...  \\\n0                    0.026988            EXPIRED         3.038388  ...   \n1                    0.028889            EXPIRED         3.091127  ...   \n2                    0.037888              ALIVE         4.620982  ...   \n3                    0.046448              ALIVE         4.167129  ...   \n4                    0.291609              ALIVE         8.670299  ...   \n...                       ...                ...              ...  ...   \n297059               0.876797              ALIVE         8.920949  ...   \n297060               0.008919              ALIVE         1.617038  ...   \n297061               0.011004              ALIVE         2.045046  ...   \n297062               0.006508              ALIVE         1.754389  ...   \n297063               0.005339              ALIVE         1.629617  ...   \n\n        predictedhospitallos  actualhospitallos preopmi  preopcardiaccath  \\\n0                   7.546453             2.4972       0                 0   \n1                   6.628720             2.4972       0                 0   \n2                  13.338449             9.2167       0                 0   \n3                  12.978228             9.2167       0                 0   \n4                  16.319389             3.7493       0                 0   \n...                      ...                ...     ...               ...   \n297059             11.222566            13.4056       0                 0   \n297060              5.995957             4.4549       0                 0   \n297061              6.199350             4.4549       0                 0   \n297062              6.260686             6.7347       0                 0   \n297063              6.098940             6.7347       0                 0   \n\n        ptcawithin24h  unabridgedunitlos  unabridgedhosplos  actualventdays  \\\n0                   0             2.4972             2.4972             NaN   \n1                   0             2.4972             2.4972             NaN   \n2                   0             3.3423             9.2167             NaN   \n3                   0             3.3423             9.2167             NaN   \n4                   0             1.2979             3.7493             2.0   \n...               ...                ...                ...             ...   \n297059              1            11.2909            13.4056             9.0   \n297060              0             0.2993             4.4549             NaN   \n297061              0             0.2993             4.4549             NaN   \n297062              0             0.6444             6.7347             NaN   \n297063              0             0.6444             6.7347             NaN   \n\n        predventdays  unabridgedactualventdays  \n0                NaN                       NaN  \n1                NaN                       NaN  \n2                NaN                       NaN  \n3                NaN                       NaN  \n4           5.738093                       2.0  \n...              ...                       ...  \n297059      6.464630                       9.0  \n297060           NaN                       NaN  \n297061           NaN                       NaN  \n297062           NaN                       NaN  \n297063           NaN                       NaN  \n\n[297064 rows x 23 columns]",
      "text/html": "<div>\n<style scoped>\n    .dataframe tbody tr th:only-of-type {\n        vertical-align: middle;\n    }\n\n    .dataframe tbody tr th {\n        vertical-align: top;\n    }\n\n    .dataframe thead th {\n        text-align: right;\n    }\n</style>\n<table border=\"1\" class=\"dataframe\">\n  <thead>\n    <tr style=\"text-align: right;\">\n      <th></th>\n      <th>apachepatientresultsid</th>\n      <th>patientunitstayid</th>\n      <th>physicianspeciality</th>\n      <th>physicianinterventioncategory</th>\n      <th>acutephysiologyscore</th>\n      <th>apachescore</th>\n      <th>apacheversion</th>\n      <th>predictedicumortality</th>\n      <th>actualicumortality</th>\n      <th>predictediculos</th>\n      <th>...</th>\n      <th>predictedhospitallos</th>\n      <th>actualhospitallos</th>\n      <th>preopmi</th>\n      <th>preopcardiaccath</th>\n      <th>ptcawithin24h</th>\n      <th>unabridgedunitlos</th>\n      <th>unabridgedhosplos</th>\n      <th>actualventdays</th>\n      <th>predventdays</th>\n      <th>unabridgedactualventdays</th>\n    </tr>\n  </thead>\n  <tbody>\n    <tr>\n      <th>0</th>\n      <td>26570</td>\n      <td>141168</td>\n      <td>critical care medicine (CCM)</td>\n      <td>Unknown</td>\n      <td>49</td>\n      <td>65</td>\n      <td>IV</td>\n      <td>0.026988</td>\n      <td>EXPIRED</td>\n      <td>3.038388</td>\n      <td>...</td>\n      <td>7.546453</td>\n      <td>2.4972</td>\n      <td>0</td>\n      <td>0</td>\n      <td>0</td>\n      <td>2.4972</td>\n      <td>2.4972</td>\n      <td>NaN</td>\n      <td>NaN</td>\n      <td>NaN</td>\n    </tr>\n    <tr>\n      <th>1</th>\n      <td>26571</td>\n      <td>141168</td>\n      <td>critical care medicine (CCM)</td>\n      <td>Unknown</td>\n      <td>49</td>\n      <td>65</td>\n      <td>IVa</td>\n      <td>0.028889</td>\n      <td>EXPIRED</td>\n      <td>3.091127</td>\n      <td>...</td>\n      <td>6.628720</td>\n      <td>2.4972</td>\n      <td>0</td>\n      <td>0</td>\n      <td>0</td>\n      <td>2.4972</td>\n      <td>2.4972</td>\n      <td>NaN</td>\n      <td>NaN</td>\n      <td>NaN</td>\n    </tr>\n    <tr>\n      <th>2</th>\n      <td>53135</td>\n      <td>141194</td>\n      <td>critical care medicine (CCM)</td>\n      <td>Unknown</td>\n      <td>57</td>\n      <td>70</td>\n      <td>IV</td>\n      <td>0.037888</td>\n      <td>ALIVE</td>\n      <td>4.620982</td>\n      <td>...</td>\n      <td>13.338449</td>\n      <td>9.2167</td>\n      <td>0</td>\n      <td>0</td>\n      <td>0</td>\n      <td>3.3423</td>\n      <td>9.2167</td>\n      <td>NaN</td>\n      <td>NaN</td>\n      <td>NaN</td>\n    </tr>\n    <tr>\n      <th>3</th>\n      <td>53136</td>\n      <td>141194</td>\n      <td>critical care medicine (CCM)</td>\n      <td>Unknown</td>\n      <td>57</td>\n      <td>70</td>\n      <td>IVa</td>\n      <td>0.046448</td>\n      <td>ALIVE</td>\n      <td>4.167129</td>\n      <td>...</td>\n      <td>12.978228</td>\n      <td>9.2167</td>\n      <td>0</td>\n      <td>0</td>\n      <td>0</td>\n      <td>3.3423</td>\n      <td>9.2167</td>\n      <td>NaN</td>\n      <td>NaN</td>\n      <td>NaN</td>\n    </tr>\n    <tr>\n      <th>4</th>\n      <td>8</td>\n      <td>141203</td>\n      <td>hospitalist</td>\n      <td>I</td>\n      <td>73</td>\n      <td>90</td>\n      <td>IVa</td>\n      <td>0.291609</td>\n      <td>ALIVE</td>\n      <td>8.670299</td>\n      <td>...</td>\n      <td>16.319389</td>\n      <td>3.7493</td>\n      <td>0</td>\n      <td>0</td>\n      <td>0</td>\n      <td>1.2979</td>\n      <td>3.7493</td>\n      <td>2.0</td>\n      <td>5.738093</td>\n      <td>2.0</td>\n    </tr>\n    <tr>\n      <th>...</th>\n      <td>...</td>\n      <td>...</td>\n      <td>...</td>\n      <td>...</td>\n      <td>...</td>\n      <td>...</td>\n      <td>...</td>\n      <td>...</td>\n      <td>...</td>\n      <td>...</td>\n      <td>...</td>\n      <td>...</td>\n      <td>...</td>\n      <td>...</td>\n      <td>...</td>\n      <td>...</td>\n      <td>...</td>\n      <td>...</td>\n      <td>...</td>\n      <td>...</td>\n      <td>...</td>\n    </tr>\n    <tr>\n      <th>297059</th>\n      <td>3272802</td>\n      <td>3353251</td>\n      <td>cardiology</td>\n      <td>II</td>\n      <td>142</td>\n      <td>158</td>\n      <td>IVa</td>\n      <td>0.876797</td>\n      <td>ALIVE</td>\n      <td>8.920949</td>\n      <td>...</td>\n      <td>11.222566</td>\n      <td>13.4056</td>\n      <td>0</td>\n      <td>0</td>\n      <td>1</td>\n      <td>11.2909</td>\n      <td>13.4056</td>\n      <td>9.0</td>\n      <td>6.464630</td>\n      <td>9.0</td>\n    </tr>\n    <tr>\n      <th>297060</th>\n      <td>3262173</td>\n      <td>3353254</td>\n      <td>hospitalist</td>\n      <td>II</td>\n      <td>18</td>\n      <td>35</td>\n      <td>IV</td>\n      <td>0.008919</td>\n      <td>ALIVE</td>\n      <td>1.617038</td>\n      <td>...</td>\n      <td>5.995957</td>\n      <td>4.4549</td>\n      <td>0</td>\n      <td>0</td>\n      <td>0</td>\n      <td>0.2993</td>\n      <td>4.4549</td>\n      <td>NaN</td>\n      <td>NaN</td>\n      <td>NaN</td>\n    </tr>\n    <tr>\n      <th>297061</th>\n      <td>3262174</td>\n      <td>3353254</td>\n      <td>hospitalist</td>\n      <td>II</td>\n      <td>18</td>\n      <td>35</td>\n      <td>IVa</td>\n      <td>0.011004</td>\n      <td>ALIVE</td>\n      <td>2.045046</td>\n      <td>...</td>\n      <td>6.199350</td>\n      <td>4.4549</td>\n      <td>0</td>\n      <td>0</td>\n      <td>0</td>\n      <td>0.2993</td>\n      <td>4.4549</td>\n      <td>NaN</td>\n      <td>NaN</td>\n      <td>NaN</td>\n    </tr>\n    <tr>\n      <th>297062</th>\n      <td>3246241</td>\n      <td>3353263</td>\n      <td>nephrology</td>\n      <td>II</td>\n      <td>22</td>\n      <td>22</td>\n      <td>IVa</td>\n      <td>0.006508</td>\n      <td>ALIVE</td>\n      <td>1.754389</td>\n      <td>...</td>\n      <td>6.260686</td>\n      <td>6.7347</td>\n      <td>0</td>\n      <td>0</td>\n      <td>0</td>\n      <td>0.6444</td>\n      <td>6.7347</td>\n      <td>NaN</td>\n      <td>NaN</td>\n      <td>NaN</td>\n    </tr>\n    <tr>\n      <th>297063</th>\n      <td>3246240</td>\n      <td>3353263</td>\n      <td>nephrology</td>\n      <td>II</td>\n      <td>22</td>\n      <td>22</td>\n      <td>IV</td>\n      <td>0.005339</td>\n      <td>ALIVE</td>\n      <td>1.629617</td>\n      <td>...</td>\n      <td>6.098940</td>\n      <td>6.7347</td>\n      <td>0</td>\n      <td>0</td>\n      <td>0</td>\n      <td>0.6444</td>\n      <td>6.7347</td>\n      <td>NaN</td>\n      <td>NaN</td>\n      <td>NaN</td>\n    </tr>\n  </tbody>\n</table>\n<p>297064 rows × 23 columns</p>\n</div>"
     },
     "execution_count": 181,
     "metadata": {},
     "output_type": "execute_result"
    }
   ],
   "source": [
    "apach_score=pd.read_csv(\"F:\\\\TrainTest\\\\EICU\\\\Eicu_Data\\\\apachePatientResult.csv\")\n",
    "apach_score"
   ],
   "metadata": {
    "collapsed": false
   }
  },
  {
   "cell_type": "code",
   "execution_count": 182,
   "outputs": [
    {
     "data": {
      "text/plain": "        patientunitstayid  apachescore\n0                  141168           65\n1                  141168           65\n2                  141194           70\n3                  141194           70\n4                  141203           90\n...                   ...          ...\n297059            3353251          158\n297060            3353254           35\n297061            3353254           35\n297062            3353263           22\n297063            3353263           22\n\n[297064 rows x 2 columns]",
      "text/html": "<div>\n<style scoped>\n    .dataframe tbody tr th:only-of-type {\n        vertical-align: middle;\n    }\n\n    .dataframe tbody tr th {\n        vertical-align: top;\n    }\n\n    .dataframe thead th {\n        text-align: right;\n    }\n</style>\n<table border=\"1\" class=\"dataframe\">\n  <thead>\n    <tr style=\"text-align: right;\">\n      <th></th>\n      <th>patientunitstayid</th>\n      <th>apachescore</th>\n    </tr>\n  </thead>\n  <tbody>\n    <tr>\n      <th>0</th>\n      <td>141168</td>\n      <td>65</td>\n    </tr>\n    <tr>\n      <th>1</th>\n      <td>141168</td>\n      <td>65</td>\n    </tr>\n    <tr>\n      <th>2</th>\n      <td>141194</td>\n      <td>70</td>\n    </tr>\n    <tr>\n      <th>3</th>\n      <td>141194</td>\n      <td>70</td>\n    </tr>\n    <tr>\n      <th>4</th>\n      <td>141203</td>\n      <td>90</td>\n    </tr>\n    <tr>\n      <th>...</th>\n      <td>...</td>\n      <td>...</td>\n    </tr>\n    <tr>\n      <th>297059</th>\n      <td>3353251</td>\n      <td>158</td>\n    </tr>\n    <tr>\n      <th>297060</th>\n      <td>3353254</td>\n      <td>35</td>\n    </tr>\n    <tr>\n      <th>297061</th>\n      <td>3353254</td>\n      <td>35</td>\n    </tr>\n    <tr>\n      <th>297062</th>\n      <td>3353263</td>\n      <td>22</td>\n    </tr>\n    <tr>\n      <th>297063</th>\n      <td>3353263</td>\n      <td>22</td>\n    </tr>\n  </tbody>\n</table>\n<p>297064 rows × 2 columns</p>\n</div>"
     },
     "execution_count": 182,
     "metadata": {},
     "output_type": "execute_result"
    }
   ],
   "source": [
    "apach_score=apach_score[['patientunitstayid','apachescore']]\n",
    "apach_score"
   ],
   "metadata": {
    "collapsed": false
   }
  },
  {
   "cell_type": "code",
   "execution_count": 183,
   "outputs": [
    {
     "data": {
      "text/plain": "       patientunitstayid   age  gender    K   paO2  HCO3     CL   INR    PT  \\\n0                 141203  77.0     0.0  4.2     51    25  107.0   NaN   NaN   \n2                 141276  59.0     0.0  NaN    370    28    NaN   NaN   NaN   \n4                 141296  63.0     1.0  NaN     54    27    NaN   NaN   NaN   \n6                 141328  76.0     0.0  NaN    NaN   NaN    NaN   NaN   NaN   \n8                 141392  78.0     0.0  NaN    NaN   NaN    NaN   NaN   NaN   \n...                  ...   ...     ...  ...    ...   ...    ...   ...   ...   \n67762            3353117  85.0     1.0  4.9  255.0  27.8  115.0  1.69  16.7   \n67764            3353121  77.0     0.0  NaN    NaN   NaN    NaN   NaN   NaN   \n67766            3353198  66.0     0.0  4.3    NaN   NaN    NaN   NaN   NaN   \n67768            3353200  66.0     0.0  NaN   70.0  27.8    NaN   NaN   NaN   \n67770            3353216  50.0     0.0  NaN  226.0  20.0    NaN   NaN   NaN   \n\n      ALT (SGPT)  ...   fio2     ph dialysis sodium.1   HCT    GLU  RESP  TV  \\\n0            NaN  ...  100.0  7.450        0    145.0  36.9  145.0  33.0   1   \n2            NaN  ...  100.0  7.420        0    135.0  33.5  197.0  53.0   0   \n4            NaN  ...   21.0  7.540        1    137.0  29.0  101.0  59.0   0   \n6            NaN  ...   -1.0 -1.000        1     -1.0  -1.0  103.0  14.0   0   \n8            NaN  ...   -1.0 -1.000        0    137.0  24.4   90.0  22.0   0   \n...          ...  ...    ...    ...      ...      ...   ...    ...   ...  ..   \n67762        NaN  ...   40.0  7.418        0    147.0  18.0  209.0  35.0   1   \n67764        NaN  ...   -1.0 -1.000        0    140.0  30.0  185.0  51.0   0   \n67766        NaN  ...   50.0  7.502        0    150.0  24.0  210.0  38.0   1   \n67768        NaN  ...   30.0  7.412        0    134.0  20.0  221.0  30.0   1   \n67770        NaN  ...  100.0  7.185        0    143.0  26.0  182.0  14.0   1   \n\n       PEEP  apachescore  \n0         1           90  \n2         0           55  \n4         0           89  \n6         0           30  \n8         0           35  \n...     ...          ...  \n67762     1           94  \n67764     0           60  \n67766     1          117  \n67768     1           57  \n67770     1           52  \n\n[33886 rows x 38 columns]",
      "text/html": "<div>\n<style scoped>\n    .dataframe tbody tr th:only-of-type {\n        vertical-align: middle;\n    }\n\n    .dataframe tbody tr th {\n        vertical-align: top;\n    }\n\n    .dataframe thead th {\n        text-align: right;\n    }\n</style>\n<table border=\"1\" class=\"dataframe\">\n  <thead>\n    <tr style=\"text-align: right;\">\n      <th></th>\n      <th>patientunitstayid</th>\n      <th>age</th>\n      <th>gender</th>\n      <th>K</th>\n      <th>paO2</th>\n      <th>HCO3</th>\n      <th>CL</th>\n      <th>INR</th>\n      <th>PT</th>\n      <th>ALT (SGPT)</th>\n      <th>...</th>\n      <th>fio2</th>\n      <th>ph</th>\n      <th>dialysis</th>\n      <th>sodium.1</th>\n      <th>HCT</th>\n      <th>GLU</th>\n      <th>RESP</th>\n      <th>TV</th>\n      <th>PEEP</th>\n      <th>apachescore</th>\n    </tr>\n  </thead>\n  <tbody>\n    <tr>\n      <th>0</th>\n      <td>141203</td>\n      <td>77.0</td>\n      <td>0.0</td>\n      <td>4.2</td>\n      <td>51</td>\n      <td>25</td>\n      <td>107.0</td>\n      <td>NaN</td>\n      <td>NaN</td>\n      <td>NaN</td>\n      <td>...</td>\n      <td>100.0</td>\n      <td>7.450</td>\n      <td>0</td>\n      <td>145.0</td>\n      <td>36.9</td>\n      <td>145.0</td>\n      <td>33.0</td>\n      <td>1</td>\n      <td>1</td>\n      <td>90</td>\n    </tr>\n    <tr>\n      <th>2</th>\n      <td>141276</td>\n      <td>59.0</td>\n      <td>0.0</td>\n      <td>NaN</td>\n      <td>370</td>\n      <td>28</td>\n      <td>NaN</td>\n      <td>NaN</td>\n      <td>NaN</td>\n      <td>NaN</td>\n      <td>...</td>\n      <td>100.0</td>\n      <td>7.420</td>\n      <td>0</td>\n      <td>135.0</td>\n      <td>33.5</td>\n      <td>197.0</td>\n      <td>53.0</td>\n      <td>0</td>\n      <td>0</td>\n      <td>55</td>\n    </tr>\n    <tr>\n      <th>4</th>\n      <td>141296</td>\n      <td>63.0</td>\n      <td>1.0</td>\n      <td>NaN</td>\n      <td>54</td>\n      <td>27</td>\n      <td>NaN</td>\n      <td>NaN</td>\n      <td>NaN</td>\n      <td>NaN</td>\n      <td>...</td>\n      <td>21.0</td>\n      <td>7.540</td>\n      <td>1</td>\n      <td>137.0</td>\n      <td>29.0</td>\n      <td>101.0</td>\n      <td>59.0</td>\n      <td>0</td>\n      <td>0</td>\n      <td>89</td>\n    </tr>\n    <tr>\n      <th>6</th>\n      <td>141328</td>\n      <td>76.0</td>\n      <td>0.0</td>\n      <td>NaN</td>\n      <td>NaN</td>\n      <td>NaN</td>\n      <td>NaN</td>\n      <td>NaN</td>\n      <td>NaN</td>\n      <td>NaN</td>\n      <td>...</td>\n      <td>-1.0</td>\n      <td>-1.000</td>\n      <td>1</td>\n      <td>-1.0</td>\n      <td>-1.0</td>\n      <td>103.0</td>\n      <td>14.0</td>\n      <td>0</td>\n      <td>0</td>\n      <td>30</td>\n    </tr>\n    <tr>\n      <th>8</th>\n      <td>141392</td>\n      <td>78.0</td>\n      <td>0.0</td>\n      <td>NaN</td>\n      <td>NaN</td>\n      <td>NaN</td>\n      <td>NaN</td>\n      <td>NaN</td>\n      <td>NaN</td>\n      <td>NaN</td>\n      <td>...</td>\n      <td>-1.0</td>\n      <td>-1.000</td>\n      <td>0</td>\n      <td>137.0</td>\n      <td>24.4</td>\n      <td>90.0</td>\n      <td>22.0</td>\n      <td>0</td>\n      <td>0</td>\n      <td>35</td>\n    </tr>\n    <tr>\n      <th>...</th>\n      <td>...</td>\n      <td>...</td>\n      <td>...</td>\n      <td>...</td>\n      <td>...</td>\n      <td>...</td>\n      <td>...</td>\n      <td>...</td>\n      <td>...</td>\n      <td>...</td>\n      <td>...</td>\n      <td>...</td>\n      <td>...</td>\n      <td>...</td>\n      <td>...</td>\n      <td>...</td>\n      <td>...</td>\n      <td>...</td>\n      <td>...</td>\n      <td>...</td>\n      <td>...</td>\n    </tr>\n    <tr>\n      <th>67762</th>\n      <td>3353117</td>\n      <td>85.0</td>\n      <td>1.0</td>\n      <td>4.9</td>\n      <td>255.0</td>\n      <td>27.8</td>\n      <td>115.0</td>\n      <td>1.69</td>\n      <td>16.7</td>\n      <td>NaN</td>\n      <td>...</td>\n      <td>40.0</td>\n      <td>7.418</td>\n      <td>0</td>\n      <td>147.0</td>\n      <td>18.0</td>\n      <td>209.0</td>\n      <td>35.0</td>\n      <td>1</td>\n      <td>1</td>\n      <td>94</td>\n    </tr>\n    <tr>\n      <th>67764</th>\n      <td>3353121</td>\n      <td>77.0</td>\n      <td>0.0</td>\n      <td>NaN</td>\n      <td>NaN</td>\n      <td>NaN</td>\n      <td>NaN</td>\n      <td>NaN</td>\n      <td>NaN</td>\n      <td>NaN</td>\n      <td>...</td>\n      <td>-1.0</td>\n      <td>-1.000</td>\n      <td>0</td>\n      <td>140.0</td>\n      <td>30.0</td>\n      <td>185.0</td>\n      <td>51.0</td>\n      <td>0</td>\n      <td>0</td>\n      <td>60</td>\n    </tr>\n    <tr>\n      <th>67766</th>\n      <td>3353198</td>\n      <td>66.0</td>\n      <td>0.0</td>\n      <td>4.3</td>\n      <td>NaN</td>\n      <td>NaN</td>\n      <td>NaN</td>\n      <td>NaN</td>\n      <td>NaN</td>\n      <td>NaN</td>\n      <td>...</td>\n      <td>50.0</td>\n      <td>7.502</td>\n      <td>0</td>\n      <td>150.0</td>\n      <td>24.0</td>\n      <td>210.0</td>\n      <td>38.0</td>\n      <td>1</td>\n      <td>1</td>\n      <td>117</td>\n    </tr>\n    <tr>\n      <th>67768</th>\n      <td>3353200</td>\n      <td>66.0</td>\n      <td>0.0</td>\n      <td>NaN</td>\n      <td>70.0</td>\n      <td>27.8</td>\n      <td>NaN</td>\n      <td>NaN</td>\n      <td>NaN</td>\n      <td>NaN</td>\n      <td>...</td>\n      <td>30.0</td>\n      <td>7.412</td>\n      <td>0</td>\n      <td>134.0</td>\n      <td>20.0</td>\n      <td>221.0</td>\n      <td>30.0</td>\n      <td>1</td>\n      <td>1</td>\n      <td>57</td>\n    </tr>\n    <tr>\n      <th>67770</th>\n      <td>3353216</td>\n      <td>50.0</td>\n      <td>0.0</td>\n      <td>NaN</td>\n      <td>226.0</td>\n      <td>20.0</td>\n      <td>NaN</td>\n      <td>NaN</td>\n      <td>NaN</td>\n      <td>NaN</td>\n      <td>...</td>\n      <td>100.0</td>\n      <td>7.185</td>\n      <td>0</td>\n      <td>143.0</td>\n      <td>26.0</td>\n      <td>182.0</td>\n      <td>14.0</td>\n      <td>1</td>\n      <td>1</td>\n      <td>52</td>\n    </tr>\n  </tbody>\n</table>\n<p>33886 rows × 38 columns</p>\n</div>"
     },
     "execution_count": 183,
     "metadata": {},
     "output_type": "execute_result"
    }
   ],
   "source": [
    "merged_data_temp = pd.merge(merged_data, apach_score, on='patientunitstayid', how='inner')\n",
    "\n",
    "# 删除重复行\n",
    "merged_data = merged_data_temp.drop_duplicates()\n",
    "merged_data"
   ],
   "metadata": {
    "collapsed": false
   }
  },
  {
   "cell_type": "code",
   "execution_count": 184,
   "outputs": [
    {
     "name": "stdout",
     "output_type": "stream",
     "text": [
      "<class 'pandas.core.frame.DataFrame'>\n",
      "Int64Index: 33886 entries, 0 to 67770\n",
      "Data columns (total 38 columns):\n",
      " #   Column             Non-Null Count  Dtype  \n",
      "---  ------             --------------  -----  \n",
      " 0   patientunitstayid  33886 non-null  int64  \n",
      " 1   age                33885 non-null  float64\n",
      " 2   gender             33881 non-null  float64\n",
      " 3   K                  9771 non-null   object \n",
      " 4   paO2               7732 non-null   object \n",
      " 5   HCO3               7033 non-null   object \n",
      " 6   CL                 7766 non-null   float64\n",
      " 7   INR                5183 non-null   object \n",
      " 8   PT                 4897 non-null   object \n",
      " 9   ALT (SGPT)         2866 non-null   object \n",
      " 10  BUN                7703 non-null   object \n",
      " 11  PTT                4417 non-null   object \n",
      " 12  paCO2              7626 non-null   object \n",
      " 13  paO2               7732 non-null   object \n",
      " 14  death              33886 non-null  float64\n",
      " 15  icu_loss           33886 non-null  int64  \n",
      " 16  Unnamed: 0         33886 non-null  int64  \n",
      " 17  apacheapsvarid     33886 non-null  int64  \n",
      " 18  urine              33886 non-null  float64\n",
      " 19  HR                 33886 non-null  int64  \n",
      " 20  wbc                33886 non-null  float64\n",
      " 21  temperature        33886 non-null  float64\n",
      " 22  Na                 33886 non-null  float64\n",
      " 23  creatinine         33886 non-null  float64\n",
      " 24  albumin            33886 non-null  float64\n",
      " 25  pco2               33886 non-null  float64\n",
      " 26  bun                33886 non-null  float64\n",
      " 27  bilirubin          33886 non-null  float64\n",
      " 28  fio2               33886 non-null  float64\n",
      " 29  ph                 33886 non-null  float64\n",
      " 30  dialysis           33886 non-null  int64  \n",
      " 31  sodium.1           33886 non-null  float64\n",
      " 32  HCT                33886 non-null  float64\n",
      " 33  GLU                33886 non-null  float64\n",
      " 34  RESP               33886 non-null  float64\n",
      " 35  TV                 33886 non-null  int64  \n",
      " 36  PEEP               33886 non-null  int64  \n",
      " 37  apachescore        33886 non-null  int64  \n",
      "dtypes: float64(19), int64(9), object(10)\n",
      "memory usage: 10.1+ MB\n"
     ]
    }
   ],
   "source": [
    "merged_data.info()"
   ],
   "metadata": {
    "collapsed": false
   }
  },
  {
   "cell_type": "code",
   "execution_count": 185,
   "outputs": [
    {
     "name": "stdout",
     "output_type": "stream",
     "text": [
      "<class 'pandas.core.frame.DataFrame'>\n",
      "Int64Index: 33886 entries, 0 to 67770\n",
      "Data columns (total 38 columns):\n",
      " #   Column             Non-Null Count  Dtype  \n",
      "---  ------             --------------  -----  \n",
      " 0   patientunitstayid  33886 non-null  int64  \n",
      " 1   age                33885 non-null  float64\n",
      " 2   gender             33881 non-null  float64\n",
      " 3   K                  9771 non-null   object \n",
      " 4   paO2               7732 non-null   object \n",
      " 5   HCO3               7033 non-null   object \n",
      " 6   CL                 7766 non-null   float64\n",
      " 7   INR                5183 non-null   object \n",
      " 8   PT                 4897 non-null   object \n",
      " 9   ALT (SGPT)         2866 non-null   object \n",
      " 10  BUN                7703 non-null   object \n",
      " 11  PTT                4417 non-null   object \n",
      " 12  paCO2              7626 non-null   object \n",
      " 13  paO2               7732 non-null   object \n",
      " 14  death              33886 non-null  float64\n",
      " 15  icu_loss           33886 non-null  int64  \n",
      " 16  Unnamed: 0         33886 non-null  int64  \n",
      " 17  apacheapsvarid     33886 non-null  int64  \n",
      " 18  urine              33886 non-null  float64\n",
      " 19  HR                 33886 non-null  int64  \n",
      " 20  wbc                33886 non-null  float64\n",
      " 21  temperature        33886 non-null  float64\n",
      " 22  Na                 33886 non-null  float64\n",
      " 23  creatinine         33886 non-null  float64\n",
      " 24  albumin            33886 non-null  float64\n",
      " 25  pco2               33886 non-null  float64\n",
      " 26  bun                33886 non-null  float64\n",
      " 27  bilirubin          33886 non-null  float64\n",
      " 28  fio2               33886 non-null  float64\n",
      " 29  ph                 33886 non-null  float64\n",
      " 30  dialysis           33886 non-null  int64  \n",
      " 31  sodium.1           33886 non-null  float64\n",
      " 32  HCT                33886 non-null  float64\n",
      " 33  GLU                33886 non-null  float64\n",
      " 34  RESP               33886 non-null  float64\n",
      " 35  TV                 33886 non-null  int64  \n",
      " 36  PEEP               33886 non-null  int64  \n",
      " 37  apachescore        33886 non-null  int64  \n",
      "dtypes: float64(19), int64(9), object(10)\n",
      "memory usage: 10.1+ MB\n"
     ]
    }
   ],
   "source": [
    "merged_data.info()"
   ],
   "metadata": {
    "collapsed": false
   }
  },
  {
   "cell_type": "code",
   "execution_count": 185,
   "outputs": [],
   "source": [],
   "metadata": {
    "collapsed": false
   }
  },
  {
   "cell_type": "code",
   "execution_count": 187,
   "outputs": [],
   "source": [
    "merged_data.to_csv('F:\\TrainTest\\EICU\\Data\\predict_data.csv')"
   ],
   "metadata": {
    "collapsed": false
   }
  },
  {
   "cell_type": "code",
   "execution_count": null,
   "outputs": [],
   "source": [
    "#填充缺失值"
   ],
   "metadata": {
    "collapsed": false
   }
  },
  {
   "cell_type": "code",
   "execution_count": 192,
   "outputs": [
    {
     "data": {
      "text/plain": "       Unnamed: 0  patientunitstayid   age  gender    K   paO2  HCO3     CL  \\\n0               0             141203  77.0     0.0  4.2   51.0  25.0  107.0   \n1               2             141276  59.0     0.0  NaN  370.0  28.0    NaN   \n2               4             141296  63.0     1.0  NaN   54.0  27.0    NaN   \n3               6             141328  76.0     0.0  NaN    NaN   NaN    NaN   \n4               8             141392  78.0     0.0  NaN    NaN   NaN    NaN   \n...           ...                ...   ...     ...  ...    ...   ...    ...   \n33696       67762            3353117  85.0     1.0  4.9  255.0  27.8  115.0   \n33697       67764            3353121  77.0     0.0  NaN    NaN   NaN    NaN   \n33698       67766            3353198  66.0     0.0  4.3    NaN   NaN    NaN   \n33699       67768            3353200  66.0     0.0  NaN   70.0  27.8    NaN   \n33700       67770            3353216  50.0     0.0  NaN  226.0  20.0    NaN   \n\n        INR    PT  ...  dialysis  sodium.1   HCT  GLU  RESP  TV  PEEP  \\\n0       NaN   NaN  ...         0     145.0  36.9  145  33.0   1     1   \n1       NaN   NaN  ...         0     135.0  33.5  197  53.0   0     0   \n2       NaN   NaN  ...         1     137.0  29.0  101  59.0   0     0   \n3       NaN   NaN  ...         1      -1.0  -1.0  103  14.0   0     0   \n4       NaN   NaN  ...         0     137.0  24.4   90  22.0   0     0   \n...     ...   ...  ...       ...       ...   ...  ...   ...  ..   ...   \n33696  1.69  16.7  ...         0     147.0  18.0  209  35.0   1     1   \n33697   NaN   NaN  ...         0     140.0  30.0  185  51.0   0     0   \n33698   NaN   NaN  ...         0     150.0  24.0  210  38.0   1     1   \n33699   NaN   NaN  ...         0     134.0  20.0  221  30.0   1     1   \n33700   NaN   NaN  ...         0     143.0  26.0  182  14.0   1     1   \n\n       apachescore  death  icu_loss  \n0               90      0         0  \n1               55      0         0  \n2               89      1         0  \n3               30      0         1  \n4               35      0         1  \n...            ...    ...       ...  \n33696           94      1         0  \n33697           60      0         1  \n33698          117      0         0  \n33699           57      0         0  \n33700           52      0         0  \n\n[33701 rows x 37 columns]",
      "text/html": "<div>\n<style scoped>\n    .dataframe tbody tr th:only-of-type {\n        vertical-align: middle;\n    }\n\n    .dataframe tbody tr th {\n        vertical-align: top;\n    }\n\n    .dataframe thead th {\n        text-align: right;\n    }\n</style>\n<table border=\"1\" class=\"dataframe\">\n  <thead>\n    <tr style=\"text-align: right;\">\n      <th></th>\n      <th>Unnamed: 0</th>\n      <th>patientunitstayid</th>\n      <th>age</th>\n      <th>gender</th>\n      <th>K</th>\n      <th>paO2</th>\n      <th>HCO3</th>\n      <th>CL</th>\n      <th>INR</th>\n      <th>PT</th>\n      <th>...</th>\n      <th>dialysis</th>\n      <th>sodium.1</th>\n      <th>HCT</th>\n      <th>GLU</th>\n      <th>RESP</th>\n      <th>TV</th>\n      <th>PEEP</th>\n      <th>apachescore</th>\n      <th>death</th>\n      <th>icu_loss</th>\n    </tr>\n  </thead>\n  <tbody>\n    <tr>\n      <th>0</th>\n      <td>0</td>\n      <td>141203</td>\n      <td>77.0</td>\n      <td>0.0</td>\n      <td>4.2</td>\n      <td>51.0</td>\n      <td>25.0</td>\n      <td>107.0</td>\n      <td>NaN</td>\n      <td>NaN</td>\n      <td>...</td>\n      <td>0</td>\n      <td>145.0</td>\n      <td>36.9</td>\n      <td>145</td>\n      <td>33.0</td>\n      <td>1</td>\n      <td>1</td>\n      <td>90</td>\n      <td>0</td>\n      <td>0</td>\n    </tr>\n    <tr>\n      <th>1</th>\n      <td>2</td>\n      <td>141276</td>\n      <td>59.0</td>\n      <td>0.0</td>\n      <td>NaN</td>\n      <td>370.0</td>\n      <td>28.0</td>\n      <td>NaN</td>\n      <td>NaN</td>\n      <td>NaN</td>\n      <td>...</td>\n      <td>0</td>\n      <td>135.0</td>\n      <td>33.5</td>\n      <td>197</td>\n      <td>53.0</td>\n      <td>0</td>\n      <td>0</td>\n      <td>55</td>\n      <td>0</td>\n      <td>0</td>\n    </tr>\n    <tr>\n      <th>2</th>\n      <td>4</td>\n      <td>141296</td>\n      <td>63.0</td>\n      <td>1.0</td>\n      <td>NaN</td>\n      <td>54.0</td>\n      <td>27.0</td>\n      <td>NaN</td>\n      <td>NaN</td>\n      <td>NaN</td>\n      <td>...</td>\n      <td>1</td>\n      <td>137.0</td>\n      <td>29.0</td>\n      <td>101</td>\n      <td>59.0</td>\n      <td>0</td>\n      <td>0</td>\n      <td>89</td>\n      <td>1</td>\n      <td>0</td>\n    </tr>\n    <tr>\n      <th>3</th>\n      <td>6</td>\n      <td>141328</td>\n      <td>76.0</td>\n      <td>0.0</td>\n      <td>NaN</td>\n      <td>NaN</td>\n      <td>NaN</td>\n      <td>NaN</td>\n      <td>NaN</td>\n      <td>NaN</td>\n      <td>...</td>\n      <td>1</td>\n      <td>-1.0</td>\n      <td>-1.0</td>\n      <td>103</td>\n      <td>14.0</td>\n      <td>0</td>\n      <td>0</td>\n      <td>30</td>\n      <td>0</td>\n      <td>1</td>\n    </tr>\n    <tr>\n      <th>4</th>\n      <td>8</td>\n      <td>141392</td>\n      <td>78.0</td>\n      <td>0.0</td>\n      <td>NaN</td>\n      <td>NaN</td>\n      <td>NaN</td>\n      <td>NaN</td>\n      <td>NaN</td>\n      <td>NaN</td>\n      <td>...</td>\n      <td>0</td>\n      <td>137.0</td>\n      <td>24.4</td>\n      <td>90</td>\n      <td>22.0</td>\n      <td>0</td>\n      <td>0</td>\n      <td>35</td>\n      <td>0</td>\n      <td>1</td>\n    </tr>\n    <tr>\n      <th>...</th>\n      <td>...</td>\n      <td>...</td>\n      <td>...</td>\n      <td>...</td>\n      <td>...</td>\n      <td>...</td>\n      <td>...</td>\n      <td>...</td>\n      <td>...</td>\n      <td>...</td>\n      <td>...</td>\n      <td>...</td>\n      <td>...</td>\n      <td>...</td>\n      <td>...</td>\n      <td>...</td>\n      <td>...</td>\n      <td>...</td>\n      <td>...</td>\n      <td>...</td>\n      <td>...</td>\n    </tr>\n    <tr>\n      <th>33696</th>\n      <td>67762</td>\n      <td>3353117</td>\n      <td>85.0</td>\n      <td>1.0</td>\n      <td>4.9</td>\n      <td>255.0</td>\n      <td>27.8</td>\n      <td>115.0</td>\n      <td>1.69</td>\n      <td>16.7</td>\n      <td>...</td>\n      <td>0</td>\n      <td>147.0</td>\n      <td>18.0</td>\n      <td>209</td>\n      <td>35.0</td>\n      <td>1</td>\n      <td>1</td>\n      <td>94</td>\n      <td>1</td>\n      <td>0</td>\n    </tr>\n    <tr>\n      <th>33697</th>\n      <td>67764</td>\n      <td>3353121</td>\n      <td>77.0</td>\n      <td>0.0</td>\n      <td>NaN</td>\n      <td>NaN</td>\n      <td>NaN</td>\n      <td>NaN</td>\n      <td>NaN</td>\n      <td>NaN</td>\n      <td>...</td>\n      <td>0</td>\n      <td>140.0</td>\n      <td>30.0</td>\n      <td>185</td>\n      <td>51.0</td>\n      <td>0</td>\n      <td>0</td>\n      <td>60</td>\n      <td>0</td>\n      <td>1</td>\n    </tr>\n    <tr>\n      <th>33698</th>\n      <td>67766</td>\n      <td>3353198</td>\n      <td>66.0</td>\n      <td>0.0</td>\n      <td>4.3</td>\n      <td>NaN</td>\n      <td>NaN</td>\n      <td>NaN</td>\n      <td>NaN</td>\n      <td>NaN</td>\n      <td>...</td>\n      <td>0</td>\n      <td>150.0</td>\n      <td>24.0</td>\n      <td>210</td>\n      <td>38.0</td>\n      <td>1</td>\n      <td>1</td>\n      <td>117</td>\n      <td>0</td>\n      <td>0</td>\n    </tr>\n    <tr>\n      <th>33699</th>\n      <td>67768</td>\n      <td>3353200</td>\n      <td>66.0</td>\n      <td>0.0</td>\n      <td>NaN</td>\n      <td>70.0</td>\n      <td>27.8</td>\n      <td>NaN</td>\n      <td>NaN</td>\n      <td>NaN</td>\n      <td>...</td>\n      <td>0</td>\n      <td>134.0</td>\n      <td>20.0</td>\n      <td>221</td>\n      <td>30.0</td>\n      <td>1</td>\n      <td>1</td>\n      <td>57</td>\n      <td>0</td>\n      <td>0</td>\n    </tr>\n    <tr>\n      <th>33700</th>\n      <td>67770</td>\n      <td>3353216</td>\n      <td>50.0</td>\n      <td>0.0</td>\n      <td>NaN</td>\n      <td>226.0</td>\n      <td>20.0</td>\n      <td>NaN</td>\n      <td>NaN</td>\n      <td>NaN</td>\n      <td>...</td>\n      <td>0</td>\n      <td>143.0</td>\n      <td>26.0</td>\n      <td>182</td>\n      <td>14.0</td>\n      <td>1</td>\n      <td>1</td>\n      <td>52</td>\n      <td>0</td>\n      <td>0</td>\n    </tr>\n  </tbody>\n</table>\n<p>33701 rows × 37 columns</p>\n</div>"
     },
     "execution_count": 192,
     "metadata": {},
     "output_type": "execute_result"
    }
   ],
   "source": [
    "merged_data=pd.read_csv(\"F:\\TrainTest\\EICU\\Data\\predict_data.csv\")\n",
    "merged_data"
   ],
   "metadata": {
    "collapsed": false
   }
  },
  {
   "cell_type": "code",
   "execution_count": 193,
   "outputs": [
    {
     "name": "stdout",
     "output_type": "stream",
     "text": [
      "<class 'pandas.core.frame.DataFrame'>\n",
      "RangeIndex: 33701 entries, 0 to 33700\n",
      "Data columns (total 37 columns):\n",
      " #   Column             Non-Null Count  Dtype  \n",
      "---  ------             --------------  -----  \n",
      " 0   Unnamed: 0         33701 non-null  int64  \n",
      " 1   patientunitstayid  33701 non-null  int64  \n",
      " 2   age                33700 non-null  float64\n",
      " 3   gender             33696 non-null  float64\n",
      " 4   K                  9650 non-null   float64\n",
      " 5   paO2               7629 non-null   float64\n",
      " 6   HCO3               6941 non-null   float64\n",
      " 7   CL                 7656 non-null   float64\n",
      " 8   INR                5088 non-null   float64\n",
      " 9   PT                 4812 non-null   float64\n",
      " 10  ALT (SGPT)         2806 non-null   float64\n",
      " 11  BUN                7595 non-null   float64\n",
      " 12  PTT                4324 non-null   float64\n",
      " 13  paCO2              7524 non-null   float64\n",
      " 14  paO2.1             7629 non-null   float64\n",
      " 15  urine              33701 non-null  float64\n",
      " 16  HR                 33701 non-null  int64  \n",
      " 17  wbc                33701 non-null  float64\n",
      " 18  temperature        33701 non-null  float64\n",
      " 19  Na                 33701 non-null  float64\n",
      " 20  creatinine         33701 non-null  float64\n",
      " 21  albumin            33701 non-null  float64\n",
      " 22  pco2               33701 non-null  float64\n",
      " 23  bun                33701 non-null  float64\n",
      " 24  bilirubin          33701 non-null  float64\n",
      " 25  fio2               33701 non-null  float64\n",
      " 26  ph                 33701 non-null  float64\n",
      " 27  dialysis           33701 non-null  int64  \n",
      " 28  sodium.1           33701 non-null  float64\n",
      " 29  HCT                33701 non-null  float64\n",
      " 30  GLU                33701 non-null  int64  \n",
      " 31  RESP               33701 non-null  float64\n",
      " 32  TV                 33701 non-null  int64  \n",
      " 33  PEEP               33701 non-null  int64  \n",
      " 34  apachescore        33701 non-null  int64  \n",
      " 35  death              33701 non-null  int64  \n",
      " 36  icu_loss           33701 non-null  int64  \n",
      "dtypes: float64(27), int64(10)\n",
      "memory usage: 9.5 MB\n"
     ]
    }
   ],
   "source": [
    "merged_data.info()"
   ],
   "metadata": {
    "collapsed": false
   }
  },
  {
   "cell_type": "code",
   "execution_count": 194,
   "outputs": [
    {
     "name": "stderr",
     "output_type": "stream",
     "text": [
      "E:\\Anaconda\\envs\\acative\\lib\\site-packages\\pandas\\core\\indexing.py:1773: SettingWithCopyWarning: \n",
      "A value is trying to be set on a copy of a slice from a DataFrame.\n",
      "Try using .loc[row_indexer,col_indexer] = value instead\n",
      "\n",
      "See the caveats in the documentation: https://pandas.pydata.org/pandas-docs/stable/user_guide/indexing.html#returning-a-view-versus-a-copy\n",
      "  self._setitem_single_column(ilocs[0], value, pi)\n"
     ]
    },
    {
     "data": {
      "text/plain": "       Unnamed: 0  patientunitstayid   age  gender    K    paO2  HCO3     CL  \\\n0               0             141203  77.0     0.0  4.2   51.00  25.0  107.0   \n5              10             141415  30.0     1.0  4.1   23.35   NaN  107.0   \n26             54             142512  51.0     1.0  4.6   23.52   NaN  105.0   \n28             58             142624  47.0     0.0  3.4  120.00  18.0  110.0   \n35             72             142917  65.0     1.0  5.5  191.00  18.0  110.0   \n...           ...                ...   ...     ...  ...     ...   ...    ...   \n33688       67746            3352634  39.0     1.0  6.2   80.00  25.0  103.0   \n33690       67750            3352878  62.0     1.0  4.7   95.00  20.4  113.0   \n33693       67756            3353031  45.0     1.0  5.8   24.25   NaN  111.0   \n33696       67762            3353117  85.0     1.0  4.9  255.00  27.8  115.0   \n33698       67766            3353198  66.0     0.0  4.3   24.14   NaN    NaN   \n\n        INR    PT  ...  dialysis  sodium.1   HCT  GLU  RESP  TV  PEEP  \\\n0       NaN   NaN  ...         0     145.0  36.9  145  33.0   1     1   \n5      1.30  14.1  ...         0     140.0  37.4   88  50.0   0     0   \n26      NaN   NaN  ...         0     139.0  40.0   80  30.0   0     0   \n28      NaN   NaN  ...         0     139.0  29.7   76  41.0   1     1   \n35     1.20  12.4  ...         0     138.0  23.4   64   5.0   1     1   \n...     ...   ...  ...       ...       ...   ...  ...   ...  ..   ...   \n33688   NaN   NaN  ...         0     134.0  41.0  103  54.0   0     0   \n33690   NaN   NaN  ...         0     140.0  26.0  200   4.0   1     1   \n33693   NaN   NaN  ...         0     138.0  30.0  202  39.0   1     1   \n33696  1.69  16.7  ...         0     147.0  18.0  209  35.0   1     1   \n33698   NaN   NaN  ...         0     150.0  24.0  210  38.0   1     1   \n\n       apachescore  death  icu_loss  \n0               90      0         0  \n5               35      0         0  \n26              23      0         1  \n28              54      0         0  \n35              92      1         1  \n...            ...    ...       ...  \n33688           69      0         0  \n33690           76      0         0  \n33693           69      0         1  \n33696           94      1         0  \n33698          117      0         0  \n\n[9650 rows x 37 columns]",
      "text/html": "<div>\n<style scoped>\n    .dataframe tbody tr th:only-of-type {\n        vertical-align: middle;\n    }\n\n    .dataframe tbody tr th {\n        vertical-align: top;\n    }\n\n    .dataframe thead th {\n        text-align: right;\n    }\n</style>\n<table border=\"1\" class=\"dataframe\">\n  <thead>\n    <tr style=\"text-align: right;\">\n      <th></th>\n      <th>Unnamed: 0</th>\n      <th>patientunitstayid</th>\n      <th>age</th>\n      <th>gender</th>\n      <th>K</th>\n      <th>paO2</th>\n      <th>HCO3</th>\n      <th>CL</th>\n      <th>INR</th>\n      <th>PT</th>\n      <th>...</th>\n      <th>dialysis</th>\n      <th>sodium.1</th>\n      <th>HCT</th>\n      <th>GLU</th>\n      <th>RESP</th>\n      <th>TV</th>\n      <th>PEEP</th>\n      <th>apachescore</th>\n      <th>death</th>\n      <th>icu_loss</th>\n    </tr>\n  </thead>\n  <tbody>\n    <tr>\n      <th>0</th>\n      <td>0</td>\n      <td>141203</td>\n      <td>77.0</td>\n      <td>0.0</td>\n      <td>4.2</td>\n      <td>51.00</td>\n      <td>25.0</td>\n      <td>107.0</td>\n      <td>NaN</td>\n      <td>NaN</td>\n      <td>...</td>\n      <td>0</td>\n      <td>145.0</td>\n      <td>36.9</td>\n      <td>145</td>\n      <td>33.0</td>\n      <td>1</td>\n      <td>1</td>\n      <td>90</td>\n      <td>0</td>\n      <td>0</td>\n    </tr>\n    <tr>\n      <th>5</th>\n      <td>10</td>\n      <td>141415</td>\n      <td>30.0</td>\n      <td>1.0</td>\n      <td>4.1</td>\n      <td>23.35</td>\n      <td>NaN</td>\n      <td>107.0</td>\n      <td>1.30</td>\n      <td>14.1</td>\n      <td>...</td>\n      <td>0</td>\n      <td>140.0</td>\n      <td>37.4</td>\n      <td>88</td>\n      <td>50.0</td>\n      <td>0</td>\n      <td>0</td>\n      <td>35</td>\n      <td>0</td>\n      <td>0</td>\n    </tr>\n    <tr>\n      <th>26</th>\n      <td>54</td>\n      <td>142512</td>\n      <td>51.0</td>\n      <td>1.0</td>\n      <td>4.6</td>\n      <td>23.52</td>\n      <td>NaN</td>\n      <td>105.0</td>\n      <td>NaN</td>\n      <td>NaN</td>\n      <td>...</td>\n      <td>0</td>\n      <td>139.0</td>\n      <td>40.0</td>\n      <td>80</td>\n      <td>30.0</td>\n      <td>0</td>\n      <td>0</td>\n      <td>23</td>\n      <td>0</td>\n      <td>1</td>\n    </tr>\n    <tr>\n      <th>28</th>\n      <td>58</td>\n      <td>142624</td>\n      <td>47.0</td>\n      <td>0.0</td>\n      <td>3.4</td>\n      <td>120.00</td>\n      <td>18.0</td>\n      <td>110.0</td>\n      <td>NaN</td>\n      <td>NaN</td>\n      <td>...</td>\n      <td>0</td>\n      <td>139.0</td>\n      <td>29.7</td>\n      <td>76</td>\n      <td>41.0</td>\n      <td>1</td>\n      <td>1</td>\n      <td>54</td>\n      <td>0</td>\n      <td>0</td>\n    </tr>\n    <tr>\n      <th>35</th>\n      <td>72</td>\n      <td>142917</td>\n      <td>65.0</td>\n      <td>1.0</td>\n      <td>5.5</td>\n      <td>191.00</td>\n      <td>18.0</td>\n      <td>110.0</td>\n      <td>1.20</td>\n      <td>12.4</td>\n      <td>...</td>\n      <td>0</td>\n      <td>138.0</td>\n      <td>23.4</td>\n      <td>64</td>\n      <td>5.0</td>\n      <td>1</td>\n      <td>1</td>\n      <td>92</td>\n      <td>1</td>\n      <td>1</td>\n    </tr>\n    <tr>\n      <th>...</th>\n      <td>...</td>\n      <td>...</td>\n      <td>...</td>\n      <td>...</td>\n      <td>...</td>\n      <td>...</td>\n      <td>...</td>\n      <td>...</td>\n      <td>...</td>\n      <td>...</td>\n      <td>...</td>\n      <td>...</td>\n      <td>...</td>\n      <td>...</td>\n      <td>...</td>\n      <td>...</td>\n      <td>...</td>\n      <td>...</td>\n      <td>...</td>\n      <td>...</td>\n      <td>...</td>\n    </tr>\n    <tr>\n      <th>33688</th>\n      <td>67746</td>\n      <td>3352634</td>\n      <td>39.0</td>\n      <td>1.0</td>\n      <td>6.2</td>\n      <td>80.00</td>\n      <td>25.0</td>\n      <td>103.0</td>\n      <td>NaN</td>\n      <td>NaN</td>\n      <td>...</td>\n      <td>0</td>\n      <td>134.0</td>\n      <td>41.0</td>\n      <td>103</td>\n      <td>54.0</td>\n      <td>0</td>\n      <td>0</td>\n      <td>69</td>\n      <td>0</td>\n      <td>0</td>\n    </tr>\n    <tr>\n      <th>33690</th>\n      <td>67750</td>\n      <td>3352878</td>\n      <td>62.0</td>\n      <td>1.0</td>\n      <td>4.7</td>\n      <td>95.00</td>\n      <td>20.4</td>\n      <td>113.0</td>\n      <td>NaN</td>\n      <td>NaN</td>\n      <td>...</td>\n      <td>0</td>\n      <td>140.0</td>\n      <td>26.0</td>\n      <td>200</td>\n      <td>4.0</td>\n      <td>1</td>\n      <td>1</td>\n      <td>76</td>\n      <td>0</td>\n      <td>0</td>\n    </tr>\n    <tr>\n      <th>33693</th>\n      <td>67756</td>\n      <td>3353031</td>\n      <td>45.0</td>\n      <td>1.0</td>\n      <td>5.8</td>\n      <td>24.25</td>\n      <td>NaN</td>\n      <td>111.0</td>\n      <td>NaN</td>\n      <td>NaN</td>\n      <td>...</td>\n      <td>0</td>\n      <td>138.0</td>\n      <td>30.0</td>\n      <td>202</td>\n      <td>39.0</td>\n      <td>1</td>\n      <td>1</td>\n      <td>69</td>\n      <td>0</td>\n      <td>1</td>\n    </tr>\n    <tr>\n      <th>33696</th>\n      <td>67762</td>\n      <td>3353117</td>\n      <td>85.0</td>\n      <td>1.0</td>\n      <td>4.9</td>\n      <td>255.00</td>\n      <td>27.8</td>\n      <td>115.0</td>\n      <td>1.69</td>\n      <td>16.7</td>\n      <td>...</td>\n      <td>0</td>\n      <td>147.0</td>\n      <td>18.0</td>\n      <td>209</td>\n      <td>35.0</td>\n      <td>1</td>\n      <td>1</td>\n      <td>94</td>\n      <td>1</td>\n      <td>0</td>\n    </tr>\n    <tr>\n      <th>33698</th>\n      <td>67766</td>\n      <td>3353198</td>\n      <td>66.0</td>\n      <td>0.0</td>\n      <td>4.3</td>\n      <td>24.14</td>\n      <td>NaN</td>\n      <td>NaN</td>\n      <td>NaN</td>\n      <td>NaN</td>\n      <td>...</td>\n      <td>0</td>\n      <td>150.0</td>\n      <td>24.0</td>\n      <td>210</td>\n      <td>38.0</td>\n      <td>1</td>\n      <td>1</td>\n      <td>117</td>\n      <td>0</td>\n      <td>0</td>\n    </tr>\n  </tbody>\n</table>\n<p>9650 rows × 37 columns</p>\n</div>"
     },
     "execution_count": 194,
     "metadata": {},
     "output_type": "execute_result"
    }
   ],
   "source": [
    "import pandas as pd\n",
    "from sklearn.ensemble import RandomForestRegressor\n",
    "\n",
    "# 假设 merged_data 是您的 DataFrame，包含 'paO2' 和其他特征列\n",
    "\n",
    "# 删除 HCO3 列中包含 NaN 的行\n",
    "merged_data = merged_data.dropna(subset=['K'])\n",
    "\n",
    "# 将数据拆分成已知值和缺失值两部分\n",
    "known_data = merged_data.dropna(subset=['paO2'])\n",
    "unknown_data = merged_data[merged_data['paO2'].isnull()]\n",
    "\n",
    "# 划分特征和目标变量\n",
    "X_known = known_data.drop('paO2', axis=1)\n",
    "y_known = known_data['paO2']\n",
    "X_unknown = unknown_data.drop('paO2', axis=1)\n",
    "\n",
    "# 确保特征列在已知数据和未知数据中的一致性\n",
    "X_unknown = X_unknown[X_known.columns]\n",
    "\n",
    "# 检查是否存在其他的NaN值，并处理这些值\n",
    "X_known = X_known.fillna(0)  # 例如，用0填充其他特征中的NaN值\n",
    "X_unknown = X_unknown.fillna(0)\n",
    "\n",
    "# 创建并训练随机森林回归模型\n",
    "rf_model = RandomForestRegressor()\n",
    "rf_model.fit(X_known, y_known)\n",
    "\n",
    "# 预测缺失值\n",
    "predicted_values = rf_model.predict(X_unknown)\n",
    "\n",
    "# 将预测值填充回原始数据\n",
    "merged_data.loc[merged_data['paO2'].isnull(), 'paO2'] = predicted_values\n",
    "\n",
    "# 显示结果\n",
    "merged_data\n"
   ],
   "metadata": {
    "collapsed": false
   }
  },
  {
   "cell_type": "code",
   "execution_count": 195,
   "outputs": [
    {
     "name": "stdout",
     "output_type": "stream",
     "text": [
      "<class 'pandas.core.frame.DataFrame'>\n",
      "Int64Index: 9650 entries, 0 to 33698\n",
      "Data columns (total 37 columns):\n",
      " #   Column             Non-Null Count  Dtype  \n",
      "---  ------             --------------  -----  \n",
      " 0   Unnamed: 0         9650 non-null   int64  \n",
      " 1   patientunitstayid  9650 non-null   int64  \n",
      " 2   age                9650 non-null   float64\n",
      " 3   gender             9649 non-null   float64\n",
      " 4   K                  9650 non-null   float64\n",
      " 5   paO2               9650 non-null   float64\n",
      " 6   HCO3               3363 non-null   float64\n",
      " 7   CL                 7633 non-null   float64\n",
      " 8   INR                3969 non-null   float64\n",
      " 9   PT                 3725 non-null   float64\n",
      " 10  ALT (SGPT)         2696 non-null   float64\n",
      " 11  BUN                7428 non-null   float64\n",
      " 12  PTT                3333 non-null   float64\n",
      " 13  paCO2              3922 non-null   float64\n",
      " 14  paO2.1             3976 non-null   float64\n",
      " 15  urine              9650 non-null   float64\n",
      " 16  HR                 9650 non-null   int64  \n",
      " 17  wbc                9650 non-null   float64\n",
      " 18  temperature        9650 non-null   float64\n",
      " 19  Na                 9650 non-null   float64\n",
      " 20  creatinine         9650 non-null   float64\n",
      " 21  albumin            9650 non-null   float64\n",
      " 22  pco2               9650 non-null   float64\n",
      " 23  bun                9650 non-null   float64\n",
      " 24  bilirubin          9650 non-null   float64\n",
      " 25  fio2               9650 non-null   float64\n",
      " 26  ph                 9650 non-null   float64\n",
      " 27  dialysis           9650 non-null   int64  \n",
      " 28  sodium.1           9650 non-null   float64\n",
      " 29  HCT                9650 non-null   float64\n",
      " 30  GLU                9650 non-null   int64  \n",
      " 31  RESP               9650 non-null   float64\n",
      " 32  TV                 9650 non-null   int64  \n",
      " 33  PEEP               9650 non-null   int64  \n",
      " 34  apachescore        9650 non-null   int64  \n",
      " 35  death              9650 non-null   int64  \n",
      " 36  icu_loss           9650 non-null   int64  \n",
      "dtypes: float64(27), int64(10)\n",
      "memory usage: 2.8 MB\n"
     ]
    }
   ],
   "source": [
    "merged_data.info()"
   ],
   "metadata": {
    "collapsed": false
   }
  },
  {
   "cell_type": "code",
   "execution_count": 196,
   "outputs": [
    {
     "name": "stderr",
     "output_type": "stream",
     "text": [
      "E:\\Anaconda\\envs\\acative\\lib\\site-packages\\pandas\\core\\indexing.py:1773: SettingWithCopyWarning: \n",
      "A value is trying to be set on a copy of a slice from a DataFrame.\n",
      "Try using .loc[row_indexer,col_indexer] = value instead\n",
      "\n",
      "See the caveats in the documentation: https://pandas.pydata.org/pandas-docs/stable/user_guide/indexing.html#returning-a-view-versus-a-copy\n",
      "  self._setitem_single_column(ilocs[0], value, pi)\n"
     ]
    },
    {
     "data": {
      "text/plain": "       Unnamed: 0  patientunitstayid   age  gender    K    paO2    HCO3  \\\n0               0             141203  77.0     0.0  4.2   51.00  25.000   \n5              10             141415  30.0     1.0  4.1   23.35  22.633   \n26             54             142512  51.0     1.0  4.6   23.52  24.462   \n28             58             142624  47.0     0.0  3.4  120.00  18.000   \n35             72             142917  65.0     1.0  5.5  191.00  18.000   \n...           ...                ...   ...     ...  ...     ...     ...   \n33688       67746            3352634  39.0     1.0  6.2   80.00  25.000   \n33690       67750            3352878  62.0     1.0  4.7   95.00  20.400   \n33693       67756            3353031  45.0     1.0  5.8   24.25  20.740   \n33696       67762            3353117  85.0     1.0  4.9  255.00  27.800   \n33698       67766            3353198  66.0     0.0  4.3   24.14  23.498   \n\n          CL   INR    PT  ...  dialysis  sodium.1   HCT  GLU  RESP  TV  PEEP  \\\n0      107.0   NaN   NaN  ...         0     145.0  36.9  145  33.0   1     1   \n5      107.0  1.30  14.1  ...         0     140.0  37.4   88  50.0   0     0   \n26     105.0   NaN   NaN  ...         0     139.0  40.0   80  30.0   0     0   \n28     110.0   NaN   NaN  ...         0     139.0  29.7   76  41.0   1     1   \n35     110.0  1.20  12.4  ...         0     138.0  23.4   64   5.0   1     1   \n...      ...   ...   ...  ...       ...       ...   ...  ...   ...  ..   ...   \n33688  103.0   NaN   NaN  ...         0     134.0  41.0  103  54.0   0     0   \n33690  113.0   NaN   NaN  ...         0     140.0  26.0  200   4.0   1     1   \n33693  111.0   NaN   NaN  ...         0     138.0  30.0  202  39.0   1     1   \n33696  115.0  1.69  16.7  ...         0     147.0  18.0  209  35.0   1     1   \n33698    NaN   NaN   NaN  ...         0     150.0  24.0  210  38.0   1     1   \n\n       apachescore  death  icu_loss  \n0               90      0         0  \n5               35      0         0  \n26              23      0         1  \n28              54      0         0  \n35              92      1         1  \n...            ...    ...       ...  \n33688           69      0         0  \n33690           76      0         0  \n33693           69      0         1  \n33696           94      1         0  \n33698          117      0         0  \n\n[9650 rows x 37 columns]",
      "text/html": "<div>\n<style scoped>\n    .dataframe tbody tr th:only-of-type {\n        vertical-align: middle;\n    }\n\n    .dataframe tbody tr th {\n        vertical-align: top;\n    }\n\n    .dataframe thead th {\n        text-align: right;\n    }\n</style>\n<table border=\"1\" class=\"dataframe\">\n  <thead>\n    <tr style=\"text-align: right;\">\n      <th></th>\n      <th>Unnamed: 0</th>\n      <th>patientunitstayid</th>\n      <th>age</th>\n      <th>gender</th>\n      <th>K</th>\n      <th>paO2</th>\n      <th>HCO3</th>\n      <th>CL</th>\n      <th>INR</th>\n      <th>PT</th>\n      <th>...</th>\n      <th>dialysis</th>\n      <th>sodium.1</th>\n      <th>HCT</th>\n      <th>GLU</th>\n      <th>RESP</th>\n      <th>TV</th>\n      <th>PEEP</th>\n      <th>apachescore</th>\n      <th>death</th>\n      <th>icu_loss</th>\n    </tr>\n  </thead>\n  <tbody>\n    <tr>\n      <th>0</th>\n      <td>0</td>\n      <td>141203</td>\n      <td>77.0</td>\n      <td>0.0</td>\n      <td>4.2</td>\n      <td>51.00</td>\n      <td>25.000</td>\n      <td>107.0</td>\n      <td>NaN</td>\n      <td>NaN</td>\n      <td>...</td>\n      <td>0</td>\n      <td>145.0</td>\n      <td>36.9</td>\n      <td>145</td>\n      <td>33.0</td>\n      <td>1</td>\n      <td>1</td>\n      <td>90</td>\n      <td>0</td>\n      <td>0</td>\n    </tr>\n    <tr>\n      <th>5</th>\n      <td>10</td>\n      <td>141415</td>\n      <td>30.0</td>\n      <td>1.0</td>\n      <td>4.1</td>\n      <td>23.35</td>\n      <td>22.633</td>\n      <td>107.0</td>\n      <td>1.30</td>\n      <td>14.1</td>\n      <td>...</td>\n      <td>0</td>\n      <td>140.0</td>\n      <td>37.4</td>\n      <td>88</td>\n      <td>50.0</td>\n      <td>0</td>\n      <td>0</td>\n      <td>35</td>\n      <td>0</td>\n      <td>0</td>\n    </tr>\n    <tr>\n      <th>26</th>\n      <td>54</td>\n      <td>142512</td>\n      <td>51.0</td>\n      <td>1.0</td>\n      <td>4.6</td>\n      <td>23.52</td>\n      <td>24.462</td>\n      <td>105.0</td>\n      <td>NaN</td>\n      <td>NaN</td>\n      <td>...</td>\n      <td>0</td>\n      <td>139.0</td>\n      <td>40.0</td>\n      <td>80</td>\n      <td>30.0</td>\n      <td>0</td>\n      <td>0</td>\n      <td>23</td>\n      <td>0</td>\n      <td>1</td>\n    </tr>\n    <tr>\n      <th>28</th>\n      <td>58</td>\n      <td>142624</td>\n      <td>47.0</td>\n      <td>0.0</td>\n      <td>3.4</td>\n      <td>120.00</td>\n      <td>18.000</td>\n      <td>110.0</td>\n      <td>NaN</td>\n      <td>NaN</td>\n      <td>...</td>\n      <td>0</td>\n      <td>139.0</td>\n      <td>29.7</td>\n      <td>76</td>\n      <td>41.0</td>\n      <td>1</td>\n      <td>1</td>\n      <td>54</td>\n      <td>0</td>\n      <td>0</td>\n    </tr>\n    <tr>\n      <th>35</th>\n      <td>72</td>\n      <td>142917</td>\n      <td>65.0</td>\n      <td>1.0</td>\n      <td>5.5</td>\n      <td>191.00</td>\n      <td>18.000</td>\n      <td>110.0</td>\n      <td>1.20</td>\n      <td>12.4</td>\n      <td>...</td>\n      <td>0</td>\n      <td>138.0</td>\n      <td>23.4</td>\n      <td>64</td>\n      <td>5.0</td>\n      <td>1</td>\n      <td>1</td>\n      <td>92</td>\n      <td>1</td>\n      <td>1</td>\n    </tr>\n    <tr>\n      <th>...</th>\n      <td>...</td>\n      <td>...</td>\n      <td>...</td>\n      <td>...</td>\n      <td>...</td>\n      <td>...</td>\n      <td>...</td>\n      <td>...</td>\n      <td>...</td>\n      <td>...</td>\n      <td>...</td>\n      <td>...</td>\n      <td>...</td>\n      <td>...</td>\n      <td>...</td>\n      <td>...</td>\n      <td>...</td>\n      <td>...</td>\n      <td>...</td>\n      <td>...</td>\n      <td>...</td>\n    </tr>\n    <tr>\n      <th>33688</th>\n      <td>67746</td>\n      <td>3352634</td>\n      <td>39.0</td>\n      <td>1.0</td>\n      <td>6.2</td>\n      <td>80.00</td>\n      <td>25.000</td>\n      <td>103.0</td>\n      <td>NaN</td>\n      <td>NaN</td>\n      <td>...</td>\n      <td>0</td>\n      <td>134.0</td>\n      <td>41.0</td>\n      <td>103</td>\n      <td>54.0</td>\n      <td>0</td>\n      <td>0</td>\n      <td>69</td>\n      <td>0</td>\n      <td>0</td>\n    </tr>\n    <tr>\n      <th>33690</th>\n      <td>67750</td>\n      <td>3352878</td>\n      <td>62.0</td>\n      <td>1.0</td>\n      <td>4.7</td>\n      <td>95.00</td>\n      <td>20.400</td>\n      <td>113.0</td>\n      <td>NaN</td>\n      <td>NaN</td>\n      <td>...</td>\n      <td>0</td>\n      <td>140.0</td>\n      <td>26.0</td>\n      <td>200</td>\n      <td>4.0</td>\n      <td>1</td>\n      <td>1</td>\n      <td>76</td>\n      <td>0</td>\n      <td>0</td>\n    </tr>\n    <tr>\n      <th>33693</th>\n      <td>67756</td>\n      <td>3353031</td>\n      <td>45.0</td>\n      <td>1.0</td>\n      <td>5.8</td>\n      <td>24.25</td>\n      <td>20.740</td>\n      <td>111.0</td>\n      <td>NaN</td>\n      <td>NaN</td>\n      <td>...</td>\n      <td>0</td>\n      <td>138.0</td>\n      <td>30.0</td>\n      <td>202</td>\n      <td>39.0</td>\n      <td>1</td>\n      <td>1</td>\n      <td>69</td>\n      <td>0</td>\n      <td>1</td>\n    </tr>\n    <tr>\n      <th>33696</th>\n      <td>67762</td>\n      <td>3353117</td>\n      <td>85.0</td>\n      <td>1.0</td>\n      <td>4.9</td>\n      <td>255.00</td>\n      <td>27.800</td>\n      <td>115.0</td>\n      <td>1.69</td>\n      <td>16.7</td>\n      <td>...</td>\n      <td>0</td>\n      <td>147.0</td>\n      <td>18.0</td>\n      <td>209</td>\n      <td>35.0</td>\n      <td>1</td>\n      <td>1</td>\n      <td>94</td>\n      <td>1</td>\n      <td>0</td>\n    </tr>\n    <tr>\n      <th>33698</th>\n      <td>67766</td>\n      <td>3353198</td>\n      <td>66.0</td>\n      <td>0.0</td>\n      <td>4.3</td>\n      <td>24.14</td>\n      <td>23.498</td>\n      <td>NaN</td>\n      <td>NaN</td>\n      <td>NaN</td>\n      <td>...</td>\n      <td>0</td>\n      <td>150.0</td>\n      <td>24.0</td>\n      <td>210</td>\n      <td>38.0</td>\n      <td>1</td>\n      <td>1</td>\n      <td>117</td>\n      <td>0</td>\n      <td>0</td>\n    </tr>\n  </tbody>\n</table>\n<p>9650 rows × 37 columns</p>\n</div>"
     },
     "execution_count": 196,
     "metadata": {},
     "output_type": "execute_result"
    }
   ],
   "source": [
    "import pandas as pd\n",
    "from sklearn.ensemble import RandomForestRegressor\n",
    "\n",
    "# 假设 merged_data 是您的 DataFrame，包含 'paO2' 和其他特征列\n",
    "\n",
    "# 删除 HCO3 列中包含 NaN 的行\n",
    "#merged_data = merged_data.dropna(subset=['K'])\n",
    "\n",
    "# 将数据拆分成已知值和缺失值两部分\n",
    "known_data = merged_data.dropna(subset=['HCO3'])\n",
    "unknown_data = merged_data[merged_data['HCO3'].isnull()]\n",
    "\n",
    "# 划分特征和目标变量\n",
    "X_known = known_data.drop('HCO3', axis=1)\n",
    "y_known = known_data['HCO3']\n",
    "X_unknown = unknown_data.drop('HCO3', axis=1)\n",
    "\n",
    "# 确保特征列在已知数据和未知数据中的一致性\n",
    "X_unknown = X_unknown[X_known.columns]\n",
    "\n",
    "# 检查是否存在其他的NaN值，并处理这些值\n",
    "X_known = X_known.fillna(0)  # 例如，用0填充其他特征中的NaN值\n",
    "X_unknown = X_unknown.fillna(0)\n",
    "\n",
    "# 创建并训练随机森林回归模型\n",
    "rf_model = RandomForestRegressor()\n",
    "rf_model.fit(X_known, y_known)\n",
    "\n",
    "# 预测缺失值\n",
    "predicted_values = rf_model.predict(X_unknown)\n",
    "\n",
    "# 将预测值填充回原始数据\n",
    "merged_data.loc[merged_data['HCO3'].isnull(), 'HCO3'] = predicted_values\n",
    "\n",
    "# 显示结果\n",
    "merged_data\n"
   ],
   "metadata": {
    "collapsed": false
   }
  },
  {
   "cell_type": "code",
   "execution_count": 197,
   "outputs": [
    {
     "name": "stdout",
     "output_type": "stream",
     "text": [
      "<class 'pandas.core.frame.DataFrame'>\n",
      "Int64Index: 9650 entries, 0 to 33698\n",
      "Data columns (total 37 columns):\n",
      " #   Column             Non-Null Count  Dtype  \n",
      "---  ------             --------------  -----  \n",
      " 0   Unnamed: 0         9650 non-null   int64  \n",
      " 1   patientunitstayid  9650 non-null   int64  \n",
      " 2   age                9650 non-null   float64\n",
      " 3   gender             9649 non-null   float64\n",
      " 4   K                  9650 non-null   float64\n",
      " 5   paO2               9650 non-null   float64\n",
      " 6   HCO3               9650 non-null   float64\n",
      " 7   CL                 7633 non-null   float64\n",
      " 8   INR                3969 non-null   float64\n",
      " 9   PT                 3725 non-null   float64\n",
      " 10  ALT (SGPT)         2696 non-null   float64\n",
      " 11  BUN                7428 non-null   float64\n",
      " 12  PTT                3333 non-null   float64\n",
      " 13  paCO2              3922 non-null   float64\n",
      " 14  paO2.1             3976 non-null   float64\n",
      " 15  urine              9650 non-null   float64\n",
      " 16  HR                 9650 non-null   int64  \n",
      " 17  wbc                9650 non-null   float64\n",
      " 18  temperature        9650 non-null   float64\n",
      " 19  Na                 9650 non-null   float64\n",
      " 20  creatinine         9650 non-null   float64\n",
      " 21  albumin            9650 non-null   float64\n",
      " 22  pco2               9650 non-null   float64\n",
      " 23  bun                9650 non-null   float64\n",
      " 24  bilirubin          9650 non-null   float64\n",
      " 25  fio2               9650 non-null   float64\n",
      " 26  ph                 9650 non-null   float64\n",
      " 27  dialysis           9650 non-null   int64  \n",
      " 28  sodium.1           9650 non-null   float64\n",
      " 29  HCT                9650 non-null   float64\n",
      " 30  GLU                9650 non-null   int64  \n",
      " 31  RESP               9650 non-null   float64\n",
      " 32  TV                 9650 non-null   int64  \n",
      " 33  PEEP               9650 non-null   int64  \n",
      " 34  apachescore        9650 non-null   int64  \n",
      " 35  death              9650 non-null   int64  \n",
      " 36  icu_loss           9650 non-null   int64  \n",
      "dtypes: float64(27), int64(10)\n",
      "memory usage: 2.8 MB\n"
     ]
    }
   ],
   "source": [
    "merged_data.info()"
   ],
   "metadata": {
    "collapsed": false
   }
  },
  {
   "cell_type": "code",
   "execution_count": 198,
   "outputs": [
    {
     "name": "stdout",
     "output_type": "stream",
     "text": [
      "<class 'pandas.core.frame.DataFrame'>\n",
      "Int64Index: 9650 entries, 0 to 33698\n",
      "Data columns (total 37 columns):\n",
      " #   Column             Non-Null Count  Dtype  \n",
      "---  ------             --------------  -----  \n",
      " 0   Unnamed: 0         9650 non-null   int64  \n",
      " 1   patientunitstayid  9650 non-null   int64  \n",
      " 2   age                9650 non-null   float64\n",
      " 3   gender             9649 non-null   float64\n",
      " 4   K                  9650 non-null   float64\n",
      " 5   paO2               9650 non-null   float64\n",
      " 6   HCO3               9650 non-null   float64\n",
      " 7   CL                 9650 non-null   float64\n",
      " 8   INR                3969 non-null   float64\n",
      " 9   PT                 3725 non-null   float64\n",
      " 10  ALT (SGPT)         2696 non-null   float64\n",
      " 11  BUN                7428 non-null   float64\n",
      " 12  PTT                3333 non-null   float64\n",
      " 13  paCO2              3922 non-null   float64\n",
      " 14  paO2.1             3976 non-null   float64\n",
      " 15  urine              9650 non-null   float64\n",
      " 16  HR                 9650 non-null   int64  \n",
      " 17  wbc                9650 non-null   float64\n",
      " 18  temperature        9650 non-null   float64\n",
      " 19  Na                 9650 non-null   float64\n",
      " 20  creatinine         9650 non-null   float64\n",
      " 21  albumin            9650 non-null   float64\n",
      " 22  pco2               9650 non-null   float64\n",
      " 23  bun                9650 non-null   float64\n",
      " 24  bilirubin          9650 non-null   float64\n",
      " 25  fio2               9650 non-null   float64\n",
      " 26  ph                 9650 non-null   float64\n",
      " 27  dialysis           9650 non-null   int64  \n",
      " 28  sodium.1           9650 non-null   float64\n",
      " 29  HCT                9650 non-null   float64\n",
      " 30  GLU                9650 non-null   int64  \n",
      " 31  RESP               9650 non-null   float64\n",
      " 32  TV                 9650 non-null   int64  \n",
      " 33  PEEP               9650 non-null   int64  \n",
      " 34  apachescore        9650 non-null   int64  \n",
      " 35  death              9650 non-null   int64  \n",
      " 36  icu_loss           9650 non-null   int64  \n",
      "dtypes: float64(27), int64(10)\n",
      "memory usage: 2.8 MB\n"
     ]
    },
    {
     "name": "stderr",
     "output_type": "stream",
     "text": [
      "E:\\Anaconda\\envs\\acative\\lib\\site-packages\\pandas\\core\\indexing.py:1773: SettingWithCopyWarning: \n",
      "A value is trying to be set on a copy of a slice from a DataFrame.\n",
      "Try using .loc[row_indexer,col_indexer] = value instead\n",
      "\n",
      "See the caveats in the documentation: https://pandas.pydata.org/pandas-docs/stable/user_guide/indexing.html#returning-a-view-versus-a-copy\n",
      "  self._setitem_single_column(ilocs[0], value, pi)\n"
     ]
    }
   ],
   "source": [
    "import pandas as pd\n",
    "from sklearn.ensemble import RandomForestRegressor\n",
    "\n",
    "# 假设 merged_data 是您的 DataFrame，包含 'paO2' 和其他特征列\n",
    "\n",
    "# 删除 HCO3 列中包含 NaN 的行\n",
    "#merged_data = merged_data.dropna(subset=['K'])\n",
    "\n",
    "# 将数据拆分成已知值和缺失值两部分\n",
    "known_data = merged_data.dropna(subset=['CL'])\n",
    "unknown_data = merged_data[merged_data['CL'].isnull()]\n",
    "\n",
    "# 划分特征和目标变量\n",
    "X_known = known_data.drop('CL', axis=1)\n",
    "y_known = known_data['CL']\n",
    "X_unknown = unknown_data.drop('CL', axis=1)\n",
    "\n",
    "# 确保特征列在已知数据和未知数据中的一致性\n",
    "X_unknown = X_unknown[X_known.columns]\n",
    "\n",
    "# 检查是否存在其他的NaN值，并处理这些值\n",
    "X_known = X_known.fillna(0)  # 例如，用0填充其他特征中的NaN值\n",
    "X_unknown = X_unknown.fillna(0)\n",
    "\n",
    "# 创建并训练随机森林回归模型\n",
    "rf_model = RandomForestRegressor()\n",
    "rf_model.fit(X_known, y_known)\n",
    "\n",
    "# 预测缺失值\n",
    "predicted_values = rf_model.predict(X_unknown)\n",
    "\n",
    "# 将预测值填充回原始数据\n",
    "merged_data.loc[merged_data['CL'].isnull(), 'CL'] = predicted_values\n",
    "\n",
    "# 显示结果\n",
    "merged_data.info()\n"
   ],
   "metadata": {
    "collapsed": false
   }
  },
  {
   "cell_type": "code",
   "execution_count": 199,
   "outputs": [
    {
     "name": "stdout",
     "output_type": "stream",
     "text": [
      "<class 'pandas.core.frame.DataFrame'>\n",
      "Int64Index: 9650 entries, 0 to 33698\n",
      "Data columns (total 37 columns):\n",
      " #   Column             Non-Null Count  Dtype  \n",
      "---  ------             --------------  -----  \n",
      " 0   Unnamed: 0         9650 non-null   int64  \n",
      " 1   patientunitstayid  9650 non-null   int64  \n",
      " 2   age                9650 non-null   float64\n",
      " 3   gender             9649 non-null   float64\n",
      " 4   K                  9650 non-null   float64\n",
      " 5   paO2               9650 non-null   float64\n",
      " 6   HCO3               9650 non-null   float64\n",
      " 7   CL                 9650 non-null   float64\n",
      " 8   INR                3969 non-null   float64\n",
      " 9   PT                 3725 non-null   float64\n",
      " 10  ALT (SGPT)         2696 non-null   float64\n",
      " 11  BUN                7428 non-null   float64\n",
      " 12  PTT                3333 non-null   float64\n",
      " 13  paCO2              9650 non-null   float64\n",
      " 14  paO2.1             3976 non-null   float64\n",
      " 15  urine              9650 non-null   float64\n",
      " 16  HR                 9650 non-null   int64  \n",
      " 17  wbc                9650 non-null   float64\n",
      " 18  temperature        9650 non-null   float64\n",
      " 19  Na                 9650 non-null   float64\n",
      " 20  creatinine         9650 non-null   float64\n",
      " 21  albumin            9650 non-null   float64\n",
      " 22  pco2               9650 non-null   float64\n",
      " 23  bun                9650 non-null   float64\n",
      " 24  bilirubin          9650 non-null   float64\n",
      " 25  fio2               9650 non-null   float64\n",
      " 26  ph                 9650 non-null   float64\n",
      " 27  dialysis           9650 non-null   int64  \n",
      " 28  sodium.1           9650 non-null   float64\n",
      " 29  HCT                9650 non-null   float64\n",
      " 30  GLU                9650 non-null   int64  \n",
      " 31  RESP               9650 non-null   float64\n",
      " 32  TV                 9650 non-null   int64  \n",
      " 33  PEEP               9650 non-null   int64  \n",
      " 34  apachescore        9650 non-null   int64  \n",
      " 35  death              9650 non-null   int64  \n",
      " 36  icu_loss           9650 non-null   int64  \n",
      "dtypes: float64(27), int64(10)\n",
      "memory usage: 2.8 MB\n"
     ]
    },
    {
     "name": "stderr",
     "output_type": "stream",
     "text": [
      "E:\\Anaconda\\envs\\acative\\lib\\site-packages\\pandas\\core\\indexing.py:1773: SettingWithCopyWarning: \n",
      "A value is trying to be set on a copy of a slice from a DataFrame.\n",
      "Try using .loc[row_indexer,col_indexer] = value instead\n",
      "\n",
      "See the caveats in the documentation: https://pandas.pydata.org/pandas-docs/stable/user_guide/indexing.html#returning-a-view-versus-a-copy\n",
      "  self._setitem_single_column(ilocs[0], value, pi)\n"
     ]
    }
   ],
   "source": [
    "import pandas as pd\n",
    "from sklearn.ensemble import RandomForestRegressor\n",
    "\n",
    "# 假设 merged_data 是您的 DataFrame，包含 'paO2' 和其他特征列\n",
    "\n",
    "# 删除 HCO3 列中包含 NaN 的行\n",
    "#merged_data = merged_data.dropna(subset=['K'])\n",
    "\n",
    "# 将数据拆分成已知值和缺失值两部分\n",
    "known_data = merged_data.dropna(subset=['paCO2'])\n",
    "unknown_data = merged_data[merged_data['paCO2'].isnull()]\n",
    "\n",
    "# 划分特征和目标变量\n",
    "X_known = known_data.drop('paCO2', axis=1)\n",
    "y_known = known_data['paCO2']\n",
    "X_unknown = unknown_data.drop('paCO2', axis=1)\n",
    "\n",
    "# 确保特征列在已知数据和未知数据中的一致性\n",
    "X_unknown = X_unknown[X_known.columns]\n",
    "\n",
    "# 检查是否存在其他的NaN值，并处理这些值\n",
    "X_known = X_known.fillna(0)  # 例如，用0填充其他特征中的NaN值\n",
    "X_unknown = X_unknown.fillna(0)\n",
    "\n",
    "# 创建并训练随机森林回归模型\n",
    "rf_model = RandomForestRegressor()\n",
    "rf_model.fit(X_known, y_known)\n",
    "\n",
    "# 预测缺失值\n",
    "predicted_values = rf_model.predict(X_unknown)\n",
    "\n",
    "# 将预测值填充回原始数据\n",
    "merged_data.loc[merged_data['paCO2'].isnull(), 'paCO2'] = predicted_values\n",
    "\n",
    "# 显示结果\n",
    "merged_data.info()\n"
   ],
   "metadata": {
    "collapsed": false
   }
  },
  {
   "cell_type": "code",
   "execution_count": 200,
   "outputs": [
    {
     "name": "stdout",
     "output_type": "stream",
     "text": [
      "<class 'pandas.core.frame.DataFrame'>\n",
      "Int64Index: 7428 entries, 0 to 33696\n",
      "Data columns (total 37 columns):\n",
      " #   Column             Non-Null Count  Dtype  \n",
      "---  ------             --------------  -----  \n",
      " 0   Unnamed: 0         7428 non-null   int64  \n",
      " 1   patientunitstayid  7428 non-null   int64  \n",
      " 2   age                7428 non-null   float64\n",
      " 3   gender             7427 non-null   float64\n",
      " 4   K                  7428 non-null   float64\n",
      " 5   paO2               7428 non-null   float64\n",
      " 6   HCO3               7428 non-null   float64\n",
      " 7   CL                 7428 non-null   float64\n",
      " 8   INR                7428 non-null   float64\n",
      " 9   PT                 3422 non-null   float64\n",
      " 10  ALT (SGPT)         2690 non-null   float64\n",
      " 11  BUN                7428 non-null   float64\n",
      " 12  PTT                3033 non-null   float64\n",
      " 13  paCO2              7428 non-null   float64\n",
      " 14  paO2.1             2118 non-null   float64\n",
      " 15  urine              7428 non-null   float64\n",
      " 16  HR                 7428 non-null   int64  \n",
      " 17  wbc                7428 non-null   float64\n",
      " 18  temperature        7428 non-null   float64\n",
      " 19  Na                 7428 non-null   float64\n",
      " 20  creatinine         7428 non-null   float64\n",
      " 21  albumin            7428 non-null   float64\n",
      " 22  pco2               7428 non-null   float64\n",
      " 23  bun                7428 non-null   float64\n",
      " 24  bilirubin          7428 non-null   float64\n",
      " 25  fio2               7428 non-null   float64\n",
      " 26  ph                 7428 non-null   float64\n",
      " 27  dialysis           7428 non-null   int64  \n",
      " 28  sodium.1           7428 non-null   float64\n",
      " 29  HCT                7428 non-null   float64\n",
      " 30  GLU                7428 non-null   int64  \n",
      " 31  RESP               7428 non-null   float64\n",
      " 32  TV                 7428 non-null   int64  \n",
      " 33  PEEP               7428 non-null   int64  \n",
      " 34  apachescore        7428 non-null   int64  \n",
      " 35  death              7428 non-null   int64  \n",
      " 36  icu_loss           7428 non-null   int64  \n",
      "dtypes: float64(27), int64(10)\n",
      "memory usage: 2.2 MB\n"
     ]
    },
    {
     "name": "stderr",
     "output_type": "stream",
     "text": [
      "E:\\Anaconda\\envs\\acative\\lib\\site-packages\\pandas\\core\\indexing.py:1773: SettingWithCopyWarning: \n",
      "A value is trying to be set on a copy of a slice from a DataFrame.\n",
      "Try using .loc[row_indexer,col_indexer] = value instead\n",
      "\n",
      "See the caveats in the documentation: https://pandas.pydata.org/pandas-docs/stable/user_guide/indexing.html#returning-a-view-versus-a-copy\n",
      "  self._setitem_single_column(ilocs[0], value, pi)\n"
     ]
    }
   ],
   "source": [
    "import pandas as pd\n",
    "from sklearn.ensemble import RandomForestRegressor\n",
    "\n",
    "# 假设 merged_data 是您的 DataFrame，包含 'paO2' 和其他特征列\n",
    "\n",
    "# 删除 HCO3 列中包含 NaN 的行\n",
    "merged_data = merged_data.dropna(subset=['BUN'])\n",
    "\n",
    "# 将数据拆分成已知值和缺失值两部分\n",
    "known_data = merged_data.dropna(subset=['INR'])\n",
    "unknown_data = merged_data[merged_data['INR'].isnull()]\n",
    "\n",
    "# 划分特征和目标变量\n",
    "X_known = known_data.drop('INR', axis=1)\n",
    "y_known = known_data['INR']\n",
    "X_unknown = unknown_data.drop('INR', axis=1)\n",
    "\n",
    "# 确保特征列在已知数据和未知数据中的一致性\n",
    "X_unknown = X_unknown[X_known.columns]\n",
    "\n",
    "# 检查是否存在其他的NaN值，并处理这些值\n",
    "X_known = X_known.fillna(0)  # 例如，用0填充其他特征中的NaN值\n",
    "X_unknown = X_unknown.fillna(0)\n",
    "\n",
    "# 创建并训练随机森林回归模型\n",
    "rf_model = RandomForestRegressor()\n",
    "rf_model.fit(X_known, y_known)\n",
    "\n",
    "# 预测缺失值\n",
    "predicted_values = rf_model.predict(X_unknown)\n",
    "\n",
    "# 将预测值填充回原始数据\n",
    "merged_data.loc[merged_data['INR'].isnull(), 'INR'] = predicted_values\n",
    "\n",
    "# 显示结果\n",
    "merged_data.info()\n"
   ],
   "metadata": {
    "collapsed": false
   }
  },
  {
   "cell_type": "code",
   "execution_count": 201,
   "outputs": [
    {
     "name": "stdout",
     "output_type": "stream",
     "text": [
      "<class 'pandas.core.frame.DataFrame'>\n",
      "Int64Index: 7428 entries, 0 to 33696\n",
      "Data columns (total 37 columns):\n",
      " #   Column             Non-Null Count  Dtype  \n",
      "---  ------             --------------  -----  \n",
      " 0   Unnamed: 0         7428 non-null   int64  \n",
      " 1   patientunitstayid  7428 non-null   int64  \n",
      " 2   age                7428 non-null   float64\n",
      " 3   gender             7427 non-null   float64\n",
      " 4   K                  7428 non-null   float64\n",
      " 5   paO2               7428 non-null   float64\n",
      " 6   HCO3               7428 non-null   float64\n",
      " 7   CL                 7428 non-null   float64\n",
      " 8   INR                7428 non-null   float64\n",
      " 9   PT                 7428 non-null   float64\n",
      " 10  ALT (SGPT)         2690 non-null   float64\n",
      " 11  BUN                7428 non-null   float64\n",
      " 12  PTT                3033 non-null   float64\n",
      " 13  paCO2              7428 non-null   float64\n",
      " 14  paO2.1             2118 non-null   float64\n",
      " 15  urine              7428 non-null   float64\n",
      " 16  HR                 7428 non-null   int64  \n",
      " 17  wbc                7428 non-null   float64\n",
      " 18  temperature        7428 non-null   float64\n",
      " 19  Na                 7428 non-null   float64\n",
      " 20  creatinine         7428 non-null   float64\n",
      " 21  albumin            7428 non-null   float64\n",
      " 22  pco2               7428 non-null   float64\n",
      " 23  bun                7428 non-null   float64\n",
      " 24  bilirubin          7428 non-null   float64\n",
      " 25  fio2               7428 non-null   float64\n",
      " 26  ph                 7428 non-null   float64\n",
      " 27  dialysis           7428 non-null   int64  \n",
      " 28  sodium.1           7428 non-null   float64\n",
      " 29  HCT                7428 non-null   float64\n",
      " 30  GLU                7428 non-null   int64  \n",
      " 31  RESP               7428 non-null   float64\n",
      " 32  TV                 7428 non-null   int64  \n",
      " 33  PEEP               7428 non-null   int64  \n",
      " 34  apachescore        7428 non-null   int64  \n",
      " 35  death              7428 non-null   int64  \n",
      " 36  icu_loss           7428 non-null   int64  \n",
      "dtypes: float64(27), int64(10)\n",
      "memory usage: 2.2 MB\n"
     ]
    },
    {
     "name": "stderr",
     "output_type": "stream",
     "text": [
      "E:\\Anaconda\\envs\\acative\\lib\\site-packages\\pandas\\core\\indexing.py:1773: SettingWithCopyWarning: \n",
      "A value is trying to be set on a copy of a slice from a DataFrame.\n",
      "Try using .loc[row_indexer,col_indexer] = value instead\n",
      "\n",
      "See the caveats in the documentation: https://pandas.pydata.org/pandas-docs/stable/user_guide/indexing.html#returning-a-view-versus-a-copy\n",
      "  self._setitem_single_column(ilocs[0], value, pi)\n"
     ]
    }
   ],
   "source": [
    "import pandas as pd\n",
    "from sklearn.ensemble import RandomForestRegressor\n",
    "\n",
    "# 假设 merged_data 是您的 DataFrame，包含 'paO2' 和其他特征列\n",
    "\n",
    "# 删除 HCO3 列中包含 NaN 的行\n",
    "#merged_data = merged_data.dropna(subset=['BUN'])\n",
    "\n",
    "# 将数据拆分成已知值和缺失值两部分\n",
    "known_data = merged_data.dropna(subset=['PT'])\n",
    "unknown_data = merged_data[merged_data['PT'].isnull()]\n",
    "\n",
    "# 划分特征和目标变量\n",
    "X_known = known_data.drop('PT', axis=1)\n",
    "y_known = known_data['PT']\n",
    "X_unknown = unknown_data.drop('PT', axis=1)\n",
    "\n",
    "# 确保特征列在已知数据和未知数据中的一致性\n",
    "X_unknown = X_unknown[X_known.columns]\n",
    "\n",
    "# 检查是否存在其他的NaN值，并处理这些值\n",
    "X_known = X_known.fillna(0)  # 例如，用0填充其他特征中的NaN值\n",
    "X_unknown = X_unknown.fillna(0)\n",
    "\n",
    "# 创建并训练随机森林回归模型\n",
    "rf_model = RandomForestRegressor()\n",
    "rf_model.fit(X_known, y_known)\n",
    "\n",
    "# 预测缺失值\n",
    "predicted_values = rf_model.predict(X_unknown)\n",
    "\n",
    "# 将预测值填充回原始数据\n",
    "merged_data.loc[merged_data['PT'].isnull(), 'PT'] = predicted_values\n",
    "\n",
    "# 显示结果\n",
    "merged_data.info()\n"
   ],
   "metadata": {
    "collapsed": false
   }
  },
  {
   "cell_type": "code",
   "execution_count": 202,
   "outputs": [
    {
     "name": "stdout",
     "output_type": "stream",
     "text": [
      "<class 'pandas.core.frame.DataFrame'>\n",
      "Int64Index: 7428 entries, 0 to 33696\n",
      "Data columns (total 37 columns):\n",
      " #   Column             Non-Null Count  Dtype  \n",
      "---  ------             --------------  -----  \n",
      " 0   Unnamed: 0         7428 non-null   int64  \n",
      " 1   patientunitstayid  7428 non-null   int64  \n",
      " 2   age                7428 non-null   float64\n",
      " 3   gender             7427 non-null   float64\n",
      " 4   K                  7428 non-null   float64\n",
      " 5   paO2               7428 non-null   float64\n",
      " 6   HCO3               7428 non-null   float64\n",
      " 7   CL                 7428 non-null   float64\n",
      " 8   INR                7428 non-null   float64\n",
      " 9   PT                 7428 non-null   float64\n",
      " 10  ALT (SGPT)         2690 non-null   float64\n",
      " 11  BUN                7428 non-null   float64\n",
      " 12  PTT                7428 non-null   float64\n",
      " 13  paCO2              7428 non-null   float64\n",
      " 14  paO2.1             2118 non-null   float64\n",
      " 15  urine              7428 non-null   float64\n",
      " 16  HR                 7428 non-null   int64  \n",
      " 17  wbc                7428 non-null   float64\n",
      " 18  temperature        7428 non-null   float64\n",
      " 19  Na                 7428 non-null   float64\n",
      " 20  creatinine         7428 non-null   float64\n",
      " 21  albumin            7428 non-null   float64\n",
      " 22  pco2               7428 non-null   float64\n",
      " 23  bun                7428 non-null   float64\n",
      " 24  bilirubin          7428 non-null   float64\n",
      " 25  fio2               7428 non-null   float64\n",
      " 26  ph                 7428 non-null   float64\n",
      " 27  dialysis           7428 non-null   int64  \n",
      " 28  sodium.1           7428 non-null   float64\n",
      " 29  HCT                7428 non-null   float64\n",
      " 30  GLU                7428 non-null   int64  \n",
      " 31  RESP               7428 non-null   float64\n",
      " 32  TV                 7428 non-null   int64  \n",
      " 33  PEEP               7428 non-null   int64  \n",
      " 34  apachescore        7428 non-null   int64  \n",
      " 35  death              7428 non-null   int64  \n",
      " 36  icu_loss           7428 non-null   int64  \n",
      "dtypes: float64(27), int64(10)\n",
      "memory usage: 2.2 MB\n"
     ]
    },
    {
     "name": "stderr",
     "output_type": "stream",
     "text": [
      "E:\\Anaconda\\envs\\acative\\lib\\site-packages\\pandas\\core\\indexing.py:1773: SettingWithCopyWarning: \n",
      "A value is trying to be set on a copy of a slice from a DataFrame.\n",
      "Try using .loc[row_indexer,col_indexer] = value instead\n",
      "\n",
      "See the caveats in the documentation: https://pandas.pydata.org/pandas-docs/stable/user_guide/indexing.html#returning-a-view-versus-a-copy\n",
      "  self._setitem_single_column(ilocs[0], value, pi)\n"
     ]
    }
   ],
   "source": [
    "import pandas as pd\n",
    "from sklearn.ensemble import RandomForestRegressor\n",
    "\n",
    "# 假设 merged_data 是您的 DataFrame，包含 'paO2' 和其他特征列\n",
    "\n",
    "# 删除 HCO3 列中包含 NaN 的行\n",
    "#merged_data = merged_data.dropna(subset=['BUN'])\n",
    "\n",
    "# 将数据拆分成已知值和缺失值两部分\n",
    "known_data = merged_data.dropna(subset=['PTT'])\n",
    "unknown_data = merged_data[merged_data['PTT'].isnull()]\n",
    "\n",
    "# 划分特征和目标变量\n",
    "X_known = known_data.drop('PTT', axis=1)\n",
    "y_known = known_data['PTT']\n",
    "X_unknown = unknown_data.drop('PTT', axis=1)\n",
    "\n",
    "# 确保特征列在已知数据和未知数据中的一致性\n",
    "X_unknown = X_unknown[X_known.columns]\n",
    "\n",
    "# 检查是否存在其他的NaN值，并处理这些值\n",
    "X_known = X_known.fillna(0)  # 例如，用0填充其他特征中的NaN值\n",
    "X_unknown = X_unknown.fillna(0)\n",
    "\n",
    "# 创建并训练随机森林回归模型\n",
    "rf_model = RandomForestRegressor()\n",
    "rf_model.fit(X_known, y_known)\n",
    "\n",
    "# 预测缺失值\n",
    "predicted_values = rf_model.predict(X_unknown)\n",
    "\n",
    "# 将预测值填充回原始数据\n",
    "merged_data.loc[merged_data['PTT'].isnull(), 'PTT'] = predicted_values\n",
    "\n",
    "# 显示结果\n",
    "merged_data.info()\n"
   ],
   "metadata": {
    "collapsed": false
   }
  },
  {
   "cell_type": "code",
   "execution_count": 203,
   "outputs": [],
   "source": [
    "merged_data.to_csv(\"F:\\TrainTest\\EICU\\Data\\EICU_ALL_DATA.csv\")"
   ],
   "metadata": {
    "collapsed": false
   }
  },
  {
   "cell_type": "code",
   "execution_count": null,
   "outputs": [],
   "source": [],
   "metadata": {
    "collapsed": false
   }
  }
 ],
 "metadata": {
  "kernelspec": {
   "display_name": "Python 3",
   "language": "python",
   "name": "python3"
  },
  "language_info": {
   "codemirror_mode": {
    "name": "ipython",
    "version": 2
   },
   "file_extension": ".py",
   "mimetype": "text/x-python",
   "name": "python",
   "nbconvert_exporter": "python",
   "pygments_lexer": "ipython2",
   "version": "2.7.6"
  }
 },
 "nbformat": 4,
 "nbformat_minor": 0
}
