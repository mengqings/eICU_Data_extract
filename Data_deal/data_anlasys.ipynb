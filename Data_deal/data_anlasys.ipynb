{
 "cells": [
  {
   "cell_type": "code",
   "execution_count": 1,
   "metadata": {
    "collapsed": true
   },
   "outputs": [],
   "source": [
    "import pandas as pd\n",
    "import numpy as np"
   ]
  },
  {
   "cell_type": "code",
   "execution_count": 9,
   "outputs": [
    {
     "data": {
      "text/plain": "      patientunitstayid  age  gender    K    paO2    HCO3     CL     INR  \\\n0                141203   77     0.0  4.2   51.00  25.000  107.0  1.1211   \n1                141415   30     1.0  4.1   23.35  22.633  107.0  1.3000   \n2                142512   51     1.0  4.6   23.52  24.462  105.0  1.1044   \n3                142624   47     0.0  3.4  120.00  18.000  110.0  1.3550   \n4                142917   65     1.0  5.5  191.00  18.000  110.0  1.2000   \n...                 ...  ...     ...  ...     ...     ...    ...     ...   \n7423            3352546   47     0.0  3.6   24.12  22.635  113.0  1.7817   \n7424            3352634   39     1.0  6.2   80.00  25.000  103.0  1.1306   \n7425            3352878   62     1.0  4.7   95.00  20.400  113.0  1.1719   \n7426            3353031   45     1.0  5.8   24.25  20.740  111.0  1.1900   \n7427            3353117   85     1.0  4.9  255.00  27.800  115.0  1.6900   \n\n          PT  ALT (SGPT)  ...  dialysis  sodium.1   HCT  GLU  RESP  TV  PEEP  \\\n0     11.783         NaN  ...         0     145.0  36.9  145  33.0   1     1   \n1     14.100         NaN  ...         0     140.0  37.4   88  50.0   0     0   \n2     11.597         NaN  ...         0     139.0  40.0   80  30.0   0     0   \n3     14.865        11.0  ...         0     139.0  29.7   76  41.0   1     1   \n4     12.400         NaN  ...         0     138.0  23.4   64   5.0   1     1   \n...      ...         ...  ...       ...       ...   ...  ...   ...  ..   ...   \n7423  18.596         NaN  ...         0     139.0  -1.0   89  48.0   1     1   \n7424  11.376         NaN  ...         0     134.0  41.0  103  54.0   0     0   \n7425  11.726        44.0  ...         0     140.0  26.0  200   4.0   1     1   \n7426  11.766         NaN  ...         0     138.0  30.0  202  39.0   1     1   \n7427  16.700         NaN  ...         0     147.0  18.0  209  35.0   1     1   \n\n      apachescore  icu_loss  death  \n0              90         0      0  \n1              35         0      0  \n2              23         1      0  \n3              54         0      0  \n4              92         1      1  \n...           ...       ...    ...  \n7423           52         0      0  \n7424           69         0      0  \n7425           76         0      0  \n7426           69         1      0  \n7427           94         0      1  \n\n[7428 rows x 35 columns]",
      "text/html": "<div>\n<style scoped>\n    .dataframe tbody tr th:only-of-type {\n        vertical-align: middle;\n    }\n\n    .dataframe tbody tr th {\n        vertical-align: top;\n    }\n\n    .dataframe thead th {\n        text-align: right;\n    }\n</style>\n<table border=\"1\" class=\"dataframe\">\n  <thead>\n    <tr style=\"text-align: right;\">\n      <th></th>\n      <th>patientunitstayid</th>\n      <th>age</th>\n      <th>gender</th>\n      <th>K</th>\n      <th>paO2</th>\n      <th>HCO3</th>\n      <th>CL</th>\n      <th>INR</th>\n      <th>PT</th>\n      <th>ALT (SGPT)</th>\n      <th>...</th>\n      <th>dialysis</th>\n      <th>sodium.1</th>\n      <th>HCT</th>\n      <th>GLU</th>\n      <th>RESP</th>\n      <th>TV</th>\n      <th>PEEP</th>\n      <th>apachescore</th>\n      <th>icu_loss</th>\n      <th>death</th>\n    </tr>\n  </thead>\n  <tbody>\n    <tr>\n      <th>0</th>\n      <td>141203</td>\n      <td>77</td>\n      <td>0.0</td>\n      <td>4.2</td>\n      <td>51.00</td>\n      <td>25.000</td>\n      <td>107.0</td>\n      <td>1.1211</td>\n      <td>11.783</td>\n      <td>NaN</td>\n      <td>...</td>\n      <td>0</td>\n      <td>145.0</td>\n      <td>36.9</td>\n      <td>145</td>\n      <td>33.0</td>\n      <td>1</td>\n      <td>1</td>\n      <td>90</td>\n      <td>0</td>\n      <td>0</td>\n    </tr>\n    <tr>\n      <th>1</th>\n      <td>141415</td>\n      <td>30</td>\n      <td>1.0</td>\n      <td>4.1</td>\n      <td>23.35</td>\n      <td>22.633</td>\n      <td>107.0</td>\n      <td>1.3000</td>\n      <td>14.100</td>\n      <td>NaN</td>\n      <td>...</td>\n      <td>0</td>\n      <td>140.0</td>\n      <td>37.4</td>\n      <td>88</td>\n      <td>50.0</td>\n      <td>0</td>\n      <td>0</td>\n      <td>35</td>\n      <td>0</td>\n      <td>0</td>\n    </tr>\n    <tr>\n      <th>2</th>\n      <td>142512</td>\n      <td>51</td>\n      <td>1.0</td>\n      <td>4.6</td>\n      <td>23.52</td>\n      <td>24.462</td>\n      <td>105.0</td>\n      <td>1.1044</td>\n      <td>11.597</td>\n      <td>NaN</td>\n      <td>...</td>\n      <td>0</td>\n      <td>139.0</td>\n      <td>40.0</td>\n      <td>80</td>\n      <td>30.0</td>\n      <td>0</td>\n      <td>0</td>\n      <td>23</td>\n      <td>1</td>\n      <td>0</td>\n    </tr>\n    <tr>\n      <th>3</th>\n      <td>142624</td>\n      <td>47</td>\n      <td>0.0</td>\n      <td>3.4</td>\n      <td>120.00</td>\n      <td>18.000</td>\n      <td>110.0</td>\n      <td>1.3550</td>\n      <td>14.865</td>\n      <td>11.0</td>\n      <td>...</td>\n      <td>0</td>\n      <td>139.0</td>\n      <td>29.7</td>\n      <td>76</td>\n      <td>41.0</td>\n      <td>1</td>\n      <td>1</td>\n      <td>54</td>\n      <td>0</td>\n      <td>0</td>\n    </tr>\n    <tr>\n      <th>4</th>\n      <td>142917</td>\n      <td>65</td>\n      <td>1.0</td>\n      <td>5.5</td>\n      <td>191.00</td>\n      <td>18.000</td>\n      <td>110.0</td>\n      <td>1.2000</td>\n      <td>12.400</td>\n      <td>NaN</td>\n      <td>...</td>\n      <td>0</td>\n      <td>138.0</td>\n      <td>23.4</td>\n      <td>64</td>\n      <td>5.0</td>\n      <td>1</td>\n      <td>1</td>\n      <td>92</td>\n      <td>1</td>\n      <td>1</td>\n    </tr>\n    <tr>\n      <th>...</th>\n      <td>...</td>\n      <td>...</td>\n      <td>...</td>\n      <td>...</td>\n      <td>...</td>\n      <td>...</td>\n      <td>...</td>\n      <td>...</td>\n      <td>...</td>\n      <td>...</td>\n      <td>...</td>\n      <td>...</td>\n      <td>...</td>\n      <td>...</td>\n      <td>...</td>\n      <td>...</td>\n      <td>...</td>\n      <td>...</td>\n      <td>...</td>\n      <td>...</td>\n      <td>...</td>\n    </tr>\n    <tr>\n      <th>7423</th>\n      <td>3352546</td>\n      <td>47</td>\n      <td>0.0</td>\n      <td>3.6</td>\n      <td>24.12</td>\n      <td>22.635</td>\n      <td>113.0</td>\n      <td>1.7817</td>\n      <td>18.596</td>\n      <td>NaN</td>\n      <td>...</td>\n      <td>0</td>\n      <td>139.0</td>\n      <td>-1.0</td>\n      <td>89</td>\n      <td>48.0</td>\n      <td>1</td>\n      <td>1</td>\n      <td>52</td>\n      <td>0</td>\n      <td>0</td>\n    </tr>\n    <tr>\n      <th>7424</th>\n      <td>3352634</td>\n      <td>39</td>\n      <td>1.0</td>\n      <td>6.2</td>\n      <td>80.00</td>\n      <td>25.000</td>\n      <td>103.0</td>\n      <td>1.1306</td>\n      <td>11.376</td>\n      <td>NaN</td>\n      <td>...</td>\n      <td>0</td>\n      <td>134.0</td>\n      <td>41.0</td>\n      <td>103</td>\n      <td>54.0</td>\n      <td>0</td>\n      <td>0</td>\n      <td>69</td>\n      <td>0</td>\n      <td>0</td>\n    </tr>\n    <tr>\n      <th>7425</th>\n      <td>3352878</td>\n      <td>62</td>\n      <td>1.0</td>\n      <td>4.7</td>\n      <td>95.00</td>\n      <td>20.400</td>\n      <td>113.0</td>\n      <td>1.1719</td>\n      <td>11.726</td>\n      <td>44.0</td>\n      <td>...</td>\n      <td>0</td>\n      <td>140.0</td>\n      <td>26.0</td>\n      <td>200</td>\n      <td>4.0</td>\n      <td>1</td>\n      <td>1</td>\n      <td>76</td>\n      <td>0</td>\n      <td>0</td>\n    </tr>\n    <tr>\n      <th>7426</th>\n      <td>3353031</td>\n      <td>45</td>\n      <td>1.0</td>\n      <td>5.8</td>\n      <td>24.25</td>\n      <td>20.740</td>\n      <td>111.0</td>\n      <td>1.1900</td>\n      <td>11.766</td>\n      <td>NaN</td>\n      <td>...</td>\n      <td>0</td>\n      <td>138.0</td>\n      <td>30.0</td>\n      <td>202</td>\n      <td>39.0</td>\n      <td>1</td>\n      <td>1</td>\n      <td>69</td>\n      <td>1</td>\n      <td>0</td>\n    </tr>\n    <tr>\n      <th>7427</th>\n      <td>3353117</td>\n      <td>85</td>\n      <td>1.0</td>\n      <td>4.9</td>\n      <td>255.00</td>\n      <td>27.800</td>\n      <td>115.0</td>\n      <td>1.6900</td>\n      <td>16.700</td>\n      <td>NaN</td>\n      <td>...</td>\n      <td>0</td>\n      <td>147.0</td>\n      <td>18.0</td>\n      <td>209</td>\n      <td>35.0</td>\n      <td>1</td>\n      <td>1</td>\n      <td>94</td>\n      <td>0</td>\n      <td>1</td>\n    </tr>\n  </tbody>\n</table>\n<p>7428 rows × 35 columns</p>\n</div>"
     },
     "execution_count": 9,
     "metadata": {},
     "output_type": "execute_result"
    }
   ],
   "source": [
    "ICU_DATA=pd.read_csv(\"F:\\TrainTest\\EICU\\Data\\EICU_ALL_DATA.csv\")\n",
    "ICU_DATA"
   ],
   "metadata": {
    "collapsed": false
   }
  },
  {
   "cell_type": "code",
   "execution_count": null,
   "outputs": [],
   "source": [],
   "metadata": {
    "collapsed": false
   }
  }
 ],
 "metadata": {
  "kernelspec": {
   "display_name": "Python 3",
   "language": "python",
   "name": "python3"
  },
  "language_info": {
   "codemirror_mode": {
    "name": "ipython",
    "version": 2
   },
   "file_extension": ".py",
   "mimetype": "text/x-python",
   "name": "python",
   "nbconvert_exporter": "python",
   "pygments_lexer": "ipython2",
   "version": "2.7.6"
  }
 },
 "nbformat": 4,
 "nbformat_minor": 0
}
